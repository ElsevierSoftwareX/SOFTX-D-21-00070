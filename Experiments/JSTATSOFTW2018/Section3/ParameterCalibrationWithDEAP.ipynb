{
 "cells": [
  {
   "cell_type": "markdown",
   "metadata": {},
   "source": [
    "# NetLogo calibration with NL4Py and DEAP"
   ]
  },
  {
   "cell_type": "markdown",
   "metadata": {},
   "source": [
    "In this example we use the DEAP library in combination with NL4Py to calibrate the Wolf Sheep Predation model using a simple evolutionary algorithm provided by DEAP. Additionally, both DEAP and NL4Py are parallelized, with DEAP EA individuals executing on a thread pool using multiprocessing library and NL4Py NetLogo HeadlessWorkspaces running on Java threads on the NetLogoControllerServer.\n",
    "\n",
    "In this experiment, we calibrate the model to find the best parameter configuration able to produce a near-equilibrium state over the first 1000 simulation ticks of the Wolf Sheep Predation model. In other words, the parameters that cause the populations of both wolves and sheep to vary as little as possilbe over the simulation run. "
   ]
  },
  {
   "cell_type": "code",
   "execution_count": 1,
   "metadata": {},
   "outputs": [
    {
     "name": "stdout",
     "output_type": "stream",
     "text": [
      "Collecting nl4py\n",
      "  Downloading https://files.pythonhosted.org/packages/bc/c9/8ff91e373cc382194e2a9b9a45d72bf1d33465c300cfed46019e68cd5214/NL4Py-0.4.0.tar.gz (153kB)\n",
      "Requirement already up-to-date: matplotlib>=2.0.2 in c:\\users\\ch328575\\appdata\\local\\continuum\\anaconda2\\envs\\python3\\lib\\site-packages (from nl4py)\n",
      "Requirement already up-to-date: py4j>=0.10.6 in c:\\users\\ch328575\\appdata\\local\\continuum\\anaconda2\\envs\\python3\\lib\\site-packages (from nl4py)\n",
      "Requirement already up-to-date: psutil>=5.4.3 in c:\\users\\ch328575\\appdata\\local\\continuum\\anaconda2\\envs\\python3\\lib\\site-packages (from nl4py)\n",
      "Collecting pandas>=0.20.1 (from nl4py)\n",
      "  Downloading https://files.pythonhosted.org/packages/07/54/5379878cd2ccabd08ab9ce356e204a5bb46c870f203c93c808c22dd63125/pandas-0.23.3-cp36-cp36m-win_amd64.whl (7.7MB)\n",
      "Collecting numpy>=1.13.3 (from nl4py)\n",
      "  Downloading https://files.pythonhosted.org/packages/53/d1/2499797c88de95ea3239ad7f6e6a47895fe51aad1aa2a116f50ec9e0ee74/numpy-1.15.0-cp36-none-win_amd64.whl (13.5MB)\n",
      "Requirement already up-to-date: pyparsing!=2.0.4,!=2.1.2,!=2.1.6,>=2.0.1 in c:\\users\\ch328575\\appdata\\local\\continuum\\anaconda2\\envs\\python3\\lib\\site-packages (from matplotlib>=2.0.2->nl4py)\n",
      "Requirement already up-to-date: six>=1.10 in c:\\users\\ch328575\\appdata\\local\\continuum\\anaconda2\\envs\\python3\\lib\\site-packages (from matplotlib>=2.0.2->nl4py)\n",
      "Requirement already up-to-date: python-dateutil>=2.1 in c:\\users\\ch328575\\appdata\\local\\continuum\\anaconda2\\envs\\python3\\lib\\site-packages (from matplotlib>=2.0.2->nl4py)\n",
      "Collecting pytz (from matplotlib>=2.0.2->nl4py)\n",
      "  Downloading https://files.pythonhosted.org/packages/30/4e/27c34b62430286c6d59177a0842ed90dc789ce5d1ed740887653b898779a/pytz-2018.5-py2.py3-none-any.whl (510kB)\n",
      "Requirement already up-to-date: cycler>=0.10 in c:\\users\\ch328575\\appdata\\local\\continuum\\anaconda2\\envs\\python3\\lib\\site-packages (from matplotlib>=2.0.2->nl4py)\n",
      "Requirement already up-to-date: kiwisolver>=1.0.1 in c:\\users\\ch328575\\appdata\\local\\continuum\\anaconda2\\envs\\python3\\lib\\site-packages (from matplotlib>=2.0.2->nl4py)\n",
      "Collecting setuptools (from kiwisolver>=1.0.1->matplotlib>=2.0.2->nl4py)\n",
      "  Downloading https://files.pythonhosted.org/packages/ff/f4/385715ccc461885f3cedf57a41ae3c12b5fec3f35cce4c8706b1a112a133/setuptools-40.0.0-py2.py3-none-any.whl (567kB)\n",
      "Installing collected packages: pytz, numpy, pandas, nl4py, setuptools\n",
      "  Found existing installation: pytz 2018.4\n",
      "    Uninstalling pytz-2018.4:\n",
      "      Successfully uninstalled pytz-2018.4\n",
      "  Found existing installation: numpy 1.14.3\n",
      "    Uninstalling numpy-1.14.3:\n",
      "      Successfully uninstalled numpy-1.14.3\n",
      "  Found existing installation: pandas 0.23.0\n",
      "    Uninstalling pandas-0.23.0:\n",
      "      Successfully uninstalled pandas-0.23.0\n",
      "  Found existing installation: NL4Py 0.3.1\n",
      "    Uninstalling NL4Py-0.3.1:\n",
      "      Successfully uninstalled NL4Py-0.3.1\n",
      "  Running setup.py install for nl4py: started\n",
      "    Running setup.py install for nl4py: finished with status 'done'\n",
      "  Found existing installation: setuptools 39.2.0\n",
      "    Uninstalling setuptools-39.2.0:\n",
      "      Successfully uninstalled setuptools-39.2.0\n",
      "Successfully installed nl4py-0.4.0 numpy-1.15.0 pandas-0.23.3 pytz-2018.5 setuptools-40.0.0\n"
     ]
    },
    {
     "name": "stderr",
     "output_type": "stream",
     "text": [
      "You are using pip version 9.0.3, however version 18.0 is available.\n",
      "You should consider upgrading via the 'python -m pip install --upgrade pip' command.\n"
     ]
    }
   ],
   "source": [
    "!pip install --upgrade --no-cache-dir nl4py\n",
    "import random\n",
    "from deap import base\n",
    "from deap import creator\n",
    "from deap import tools\n",
    "from deap import algorithms\n",
    "\n",
    "# In this experiment we intend to maximize fitness. Fitness is the measure of population stability, \n",
    "#  an indicator of equilibrium in the Wolf Sheep Predation model.\n",
    "creator.create(\"FitnessMax\", base.Fitness, weights=(1.0,))\n",
    "# An EA Individual is essentially a list of paramter values for our calibration purposes. Through \n",
    "#  calibration, we intend to find the Individual that produces the highest fitness, or the most\n",
    "#  stable population dynamics.\n",
    "creator.create(\"Individual\", list, fitness=creator.FitnessMax)\n",
    "toolbox = base.Toolbox()\n",
    "# Use nl4py to find the parameter names and ranges\n",
    "import nl4py\n",
    "# Start the NetLogoControllerServer.\n",
    "nl4py.startServer(\"C:/Program Files/NetLogo 6.0.2/\")\n",
    "# Create a HeadlessWorkspace to read in the parameter names and ranges.\n",
    "n = nl4py.newNetLogoHeadlessWorkspace()\n",
    "# Open the model\n",
    "n.openModel(\"Wolf Sheep Predation.nlogo\")\n",
    "# Get the parameter names and ranges.\n",
    "parameterNames = n.getParamNames()\n",
    "parameterRanges = n.getParamRanges()\n",
    "parameterInitializers = []\n",
    "# Iterate over the names and ranges and create DEAP initializers for all the parameters of the model\n",
    "for parameterName, parameterRange in zip(parameterNames, parameterRanges):\n",
    "    parameterName = ''.join(filter(str.isalnum, str(parameterName)))\n",
    "    if len(parameterRange) == 3:\n",
    "        toolbox.register(parameterName, random.randrange, parameterRange[0], parameterRange[2], parameterRange[1]) #start stop step\n",
    "        parameterInitializers.append(eval(\"toolbox.\"+str(parameterName)))\n",
    "# Define the \"individual\" function in the DEAP toolbox which creates an Individual with a list of parameters\n",
    "#  within the range specified by the NetLogo model interface.\n",
    "toolbox.register(\"individual\", tools.initCycle, creator.Individual, tuple(parameterInitializers))\n",
    "# Define the \"population\" function in the DEAP toolbox\n",
    "toolbox.register(\"population\", tools.initRepeat, list, toolbox.individual)\n",
    "# Define hyperparameters of the evolutionary algorithm\n",
    "toolbox.register(\"mate\", tools.cxTwoPoint)\n",
    "lowerBounds = [row[1] for row in parameterRanges[:-2]]\n",
    "upperBounds = [row[2] for row in parameterRanges[:-2]]\n",
    "toolbox.register(\"mutate\", tools.mutUniformInt, low = lowerBounds, up = upperBounds, indpb=0.1)\n",
    "toolbox.register(\"select\", tools.selTournament, tournsize=3)\n"
   ]
  },
  {
   "cell_type": "markdown",
   "metadata": {},
   "source": [
    "Next, we define a simulation run. This involves:\n",
    "1. starting a NetLogoHeadlessWorkspace through NL4Py, \n",
    "2. opening the Wolf Sheep Predation model, \n",
    "3. setting the parameters to the values of the EA individual, \n",
    "4. running the simulation\n",
    "5. calculating the metric \n",
    "\n",
    "We define the metric as the stability of the population counts of the two species, without either going into extinction. for this we use first order derivatives per simulation time step and a heavy side function to score extinction as 0. High scores indicate more stable populations (closer to complete equilibrium). Please see the Sensitivity analysis Jupyter notebook for a mode detailed description of this calculation."
   ]
  },
  {
   "cell_type": "code",
   "execution_count": 2,
   "metadata": {
    "collapsed": true
   },
   "outputs": [],
   "source": [
    "import time\n",
    "import pandas as pd\n",
    "import numpy as np\n",
    "def simulate(workspace_,names,values):\n",
    "    workspace_.command(\"stop\")\n",
    "    for name, value in zip(names, values):\n",
    "        cmd = 'set {0} {1}'.format(name, value)\n",
    "        workspace_.command(cmd)\n",
    "    workspace_.command('set model-version \"sheep-wolves-grass\"')\n",
    "    workspace_.command('setup')\n",
    "    workspace_.scheduleReportersAndRun([\"ticks\",'count sheep','count wolves'], 0,1,500,\"go\")    \n",
    "    newResults = []\n",
    "    while(len(newResults) == 0):\n",
    "        newResults = workspace_.getScheduledReporterResults()\n",
    "        if len(newResults) > 0:\n",
    "            ###Process simulation results###\n",
    "            df = pd.DataFrame(newResults)\n",
    "            sheep_pop = pd.to_numeric(df.iloc[:,1])\n",
    "            wolves_pop = pd.to_numeric(df.iloc[:,2])\n",
    "            #since time is in simulation ticks, this is the absolute rate of change of sheep population.\n",
    "            dsheep_dt = sheep_pop.diff().abs()\n",
    "            #since time is in simulation ticks, this is the absolute rate of change of wolf population.\n",
    "            dwolves_dt = wolves_pop.diff().abs()   \n",
    "            #Find population stabilities over time for species as reciprocal of derivatives multiplied by\n",
    "            # a heavyside function ensuring extinction is scored at 0.\n",
    "            population_stability_sheep = np.divide(1,(dsheep_dt + 0.000001)).mul(np.where(sheep_pop==0,0,1))\n",
    "            population_stability_wolves = np.divide(1,(dwolves_dt + 0.000001)).mul(np.where(wolves_pop==0,0,1))\n",
    "            #Find total population stability over time as the mean of population stabilities for both species.\n",
    "            population_stability_total = (population_stability_sheep + population_stability_wolves) / 2\n",
    "            #the aggregate metric is the mean, total population stability over time\n",
    "            aggregate_metric = population_stability_total.sum()/len(population_stability_total)\n",
    "            ###Done processing simulation results###\n",
    "            workspace_.command(\"stop\")\n",
    "            return aggregate_metric,\n",
    "        time.sleep(2)"
   ]
  },
  {
   "cell_type": "markdown",
   "metadata": {},
   "source": [
    "We setup Headless Workspaces for each EA individual. The HeadlessWorkspaces are reusable per population and are tracked as to when they are free to run another model evaluation"
   ]
  },
  {
   "cell_type": "code",
   "execution_count": 3,
   "metadata": {
    "collapsed": true
   },
   "outputs": [],
   "source": [
    "nl4py.deleteAllHeadlessWorkspaces()\n",
    "POP = 200\n",
    "freeWorkspaces = []\n",
    "for i in range(0,POP):\n",
    "    n = nl4py.newNetLogoHeadlessWorkspace()\n",
    "    n.openModel('Wolf Sheep Predation.nlogo')\n",
    "    freeWorkspaces.append(n)"
   ]
  },
  {
   "cell_type": "markdown",
   "metadata": {},
   "source": [
    "The EA individual evaluation is defined as a simulation run of the model for the parameter values specified and reports the total stability metric of the population. "
   ]
  },
  {
   "cell_type": "code",
   "execution_count": 4,
   "metadata": {
    "collapsed": true
   },
   "outputs": [],
   "source": [
    "def evaluateWolfSheepPredation(individual):\n",
    "    n = freeWorkspaces[0]\n",
    "    freeWorkspaces.remove(n)\n",
    "    result = simulate(n,parameterNames,individual)\n",
    "    freeWorkspaces.append(n)\n",
    "    return result\n",
    "toolbox.register(\"evaluate\", evaluateWolfSheepPredation)"
   ]
  },
  {
   "cell_type": "markdown",
   "metadata": {},
   "source": [
    "We now define the statistics we are interested in tracking and run the EA with custom hyperparameters."
   ]
  },
  {
   "cell_type": "code",
   "execution_count": 5,
   "metadata": {},
   "outputs": [
    {
     "name": "stdout",
     "output_type": "stream",
     "text": [
      "gen\tnevals\tmax   \tmean   \n",
      "0  \t200   \t787000\t90625.1\n",
      "1  \t159   \t787000\t173010 \n",
      "2  \t174   \t746000\t287440 \n",
      "3  \t173   \t750000\t434580 \n",
      "4  \t170   \t820000\t528375 \n",
      "5  \t166   \t792000\t590565 \n",
      "6  \t173   \t800000\t635365 \n",
      "7  \t179   \t825000\t669785 \n",
      "8  \t173   \t826000\t688165 \n",
      "9  \t174   \t826000\t681580 \n",
      "10 \t162   \t843000\t688580 \n",
      "11 \t174   \t843000\t704880 \n",
      "12 \t170   \t836000\t710035 \n",
      "13 \t169   \t849000\t714760 \n",
      "14 \t158   \t836000\t696175 \n",
      "15 \t164   \t852000\t708420 \n",
      "16 \t161   \t852000\t712645 \n",
      "17 \t167   \t852000\t712410 \n",
      "18 \t155   \t860000\t726620 \n",
      "19 \t169   \t860000\t730330 \n",
      "20 \t160   \t860000\t753160 \n",
      "21 \t160   \t859000\t736145 \n",
      "22 \t180   \t860000\t743695 \n",
      "23 \t176   \t869000\t754780 \n",
      "24 \t169   \t866000\t763480 \n",
      "25 \t175   \t866000\t738560 \n",
      "26 \t154   \t859000\t762280 \n",
      "27 \t161   \t857000\t769660 \n",
      "28 \t162   \t866000\t756585 \n",
      "29 \t176   \t863000\t747410 \n",
      "30 \t173   \t854000\t747360 \n",
      "31 \t162   \t861000\t744730 \n",
      "32 \t147   \t854000\t753740 \n",
      "33 \t169   \t854000\t761025 \n",
      "34 \t165   \t867000\t746155 \n",
      "35 \t182   \t857000\t743300 \n",
      "36 \t169   \t857000\t758425 \n",
      "37 \t168   \t858000\t757940 \n",
      "38 \t170   \t858000\t744610 \n",
      "39 \t173   \t857000\t734850 \n",
      "40 \t173   \t859000\t754935 \n",
      "41 \t181   \t860000\t747160 \n",
      "42 \t170   \t859000\t752995 \n",
      "43 \t170   \t867000\t743840 \n",
      "44 \t162   \t867000\t768680 \n",
      "45 \t167   \t864000\t756715 \n",
      "46 \t160   \t857000\t740765 \n",
      "47 \t160   \t862000\t746315 \n",
      "48 \t176   \t862000\t741095 \n",
      "49 \t167   \t863000\t726065 \n",
      "50 \t163   \t862000\t756210 \n",
      "51 \t163   \t862000\t745635 \n",
      "52 \t174   \t857000\t749990 \n",
      "53 \t172   \t857000\t743695 \n",
      "54 \t161   \t856000\t750125 \n",
      "55 \t171   \t863000\t745820 \n",
      "56 \t174   \t865000\t757645 \n",
      "57 \t161   \t865000\t748465 \n",
      "58 \t164   \t861000\t753215 \n",
      "59 \t168   \t858000\t758630 \n",
      "60 \t163   \t862000\t749310 \n",
      "61 \t176   \t862000\t735840 \n",
      "62 \t159   \t862000\t747660 \n",
      "63 \t159   \t869000\t766690 \n",
      "64 \t160   \t869000\t763590 \n",
      "65 \t167   \t859000\t733950 \n",
      "66 \t170   \t861000\t751815 \n",
      "67 \t159   \t861000\t764100 \n",
      "68 \t166   \t861000\t734495 \n",
      "69 \t172   \t855000\t746560 \n",
      "70 \t180   \t867000\t741040 \n",
      "71 \t160   \t871000\t742550 \n",
      "72 \t144   \t871000\t760870 \n",
      "73 \t174   \t864000\t726210 \n",
      "74 \t169   \t861000\t749035 \n",
      "75 \t168   \t857000\t739630 \n",
      "76 \t167   \t857000\t761730 \n",
      "77 \t167   \t853000\t751485 \n",
      "78 \t163   \t859000\t747785 \n",
      "79 \t155   \t864000\t751100 \n",
      "80 \t166   \t862000\t763015 \n",
      "81 \t163   \t860000\t753080 \n",
      "82 \t163   \t861000\t732330 \n",
      "83 \t166   \t861000\t731110 \n",
      "84 \t172   \t861000\t733150 \n",
      "85 \t170   \t865000\t743460 \n",
      "86 \t169   \t865000\t751135 \n",
      "87 \t151   \t864000\t761015 \n",
      "88 \t157   \t864000\t750445 \n",
      "89 \t173   \t865000\t744135 \n",
      "90 \t166   \t867000\t757410 \n",
      "91 \t171   \t865000\t745925 \n",
      "92 \t169   \t858000\t734100 \n",
      "93 \t166   \t858000\t740855 \n",
      "94 \t158   \t861000\t749800 \n",
      "95 \t164   \t866000\t756615 \n",
      "96 \t178   \t866000\t755870 \n",
      "97 \t167   \t861000\t751255 \n",
      "98 \t176   \t864000\t755415 \n",
      "99 \t168   \t867000\t760415 \n",
      "100\t158   \t868000\t760400 \n"
     ]
    }
   ],
   "source": [
    "import multiprocessing\n",
    "from multiprocessing.pool import ThreadPool\n",
    "pool = ThreadPool(multiprocessing.cpu_count())\n",
    "toolbox.register(\"map\", pool.map)\n",
    "stats = tools.Statistics(key = lambda ind: ind.fitness.values)\n",
    "stats.register(\"max\",np.max)\n",
    "stats.register(\"mean\",np.mean)\n",
    "hof = tools.HallOfFame(1) \n",
    "final_pop, log= algorithms.eaSimple(toolbox.population(n=POP), toolbox, cxpb=0.8, mutpb=0.2, ngen=100,stats = stats,halloffame = hof)"
   ]
  },
  {
   "cell_type": "code",
   "execution_count": 6,
   "metadata": {},
   "outputs": [
    {
     "name": "stdout",
     "output_type": "stream",
     "text": [
      "The best individual over the complete calibration:\n",
      "['initial-number-sheep', 'sheep-gain-from-food', 'sheep-reproduce', 'initial-number-wolves', 'wolf-gain-from-food', 'wolf-reproduce', 'grass-regrowth-time', 'show-energy?', 'model-version']\n",
      "[[53, 10, 1, 102, 90, 0, 32]]\n"
     ]
    }
   ],
   "source": [
    "print(\"The best individual over the complete calibration:\")\n",
    "print(parameterNames)\n",
    "print(hof)"
   ]
  },
  {
   "cell_type": "markdown",
   "metadata": {},
   "source": [
    "We can now run and visualize the results..."
   ]
  },
  {
   "cell_type": "code",
   "execution_count": 7,
   "metadata": {},
   "outputs": [
    {
     "ename": "Py4JError",
     "evalue": "An error occurred while calling t.newNetLogoApp. Trace:\npy4j.Py4JException: Method newNetLogoApp([]) does not exist\r\n\tat py4j.reflection.ReflectionEngine.getMethod(ReflectionEngine.java:318)\r\n\tat py4j.reflection.ReflectionEngine.getMethod(ReflectionEngine.java:326)\r\n\tat py4j.Gateway.invoke(Gateway.java:274)\r\n\tat py4j.commands.AbstractCommand.invokeMethod(AbstractCommand.java:132)\r\n\tat py4j.commands.CallCommand.execute(CallCommand.java:79)\r\n\tat py4j.GatewayConnection.run(GatewayConnection.java:214)\r\n\tat java.lang.Thread.run(Unknown Source)\r\n\n",
     "output_type": "error",
     "traceback": [
      "\u001b[1;31m---------------------------------------------------------------------------\u001b[0m",
      "\u001b[1;31mPy4JError\u001b[0m                                 Traceback (most recent call last)",
      "\u001b[1;32m<ipython-input-7-6d15858002b0>\u001b[0m in \u001b[0;36m<module>\u001b[1;34m()\u001b[0m\n\u001b[1;32m----> 1\u001b[1;33m \u001b[0mapp\u001b[0m \u001b[1;33m=\u001b[0m \u001b[0mnl4py\u001b[0m\u001b[1;33m.\u001b[0m\u001b[0mNetLogoApp\u001b[0m\u001b[1;33m(\u001b[0m\u001b[1;33m)\u001b[0m\u001b[1;33m\u001b[0m\u001b[0m\n\u001b[0m\u001b[0;32m      2\u001b[0m \u001b[0mapp\u001b[0m\u001b[1;33m.\u001b[0m\u001b[0mopenModel\u001b[0m\u001b[1;33m(\u001b[0m\u001b[1;34m\"./Wolf Sheep Predation.nlogo\"\u001b[0m\u001b[1;33m)\u001b[0m\u001b[1;33m\u001b[0m\u001b[0m\n\u001b[0;32m      3\u001b[0m \u001b[1;32mfor\u001b[0m \u001b[0mname\u001b[0m\u001b[1;33m,\u001b[0m \u001b[0mvalue\u001b[0m \u001b[1;32min\u001b[0m \u001b[0mzip\u001b[0m\u001b[1;33m(\u001b[0m\u001b[0mparameterNames\u001b[0m\u001b[1;33m,\u001b[0m \u001b[0mhof\u001b[0m\u001b[1;33m[\u001b[0m\u001b[1;36m0\u001b[0m\u001b[1;33m]\u001b[0m\u001b[1;33m)\u001b[0m\u001b[1;33m:\u001b[0m\u001b[1;33m\u001b[0m\u001b[0m\n\u001b[0;32m      4\u001b[0m     \u001b[0mapp\u001b[0m\u001b[1;33m.\u001b[0m\u001b[0mcommand\u001b[0m\u001b[1;33m(\u001b[0m\u001b[1;34m'set {0} {1}'\u001b[0m\u001b[1;33m.\u001b[0m\u001b[0mformat\u001b[0m\u001b[1;33m(\u001b[0m\u001b[0mname\u001b[0m\u001b[1;33m,\u001b[0m \u001b[0mvalue\u001b[0m\u001b[1;33m)\u001b[0m\u001b[1;33m)\u001b[0m\u001b[1;33m\u001b[0m\u001b[0m\n\u001b[0;32m      5\u001b[0m \u001b[0mapp\u001b[0m\u001b[1;33m.\u001b[0m\u001b[0mcommand\u001b[0m\u001b[1;33m(\u001b[0m\u001b[1;34m\"setup\"\u001b[0m\u001b[1;33m)\u001b[0m\u001b[1;33m\u001b[0m\u001b[0m\n",
      "\u001b[1;32m~\\AppData\\Local\\Continuum\\Anaconda2\\envs\\Python3\\lib\\site-packages\\nl4py\\__init__.py\u001b[0m in \u001b[0;36mNetLogoApp\u001b[1;34m()\u001b[0m\n\u001b[0;32m     58\u001b[0m     \u001b[1;32mglobal\u001b[0m \u001b[0mnApp\u001b[0m\u001b[1;33m\u001b[0m\u001b[0m\n\u001b[0;32m     59\u001b[0m     \u001b[1;32mif\u001b[0m \u001b[0mnApp\u001b[0m \u001b[1;33m==\u001b[0m \u001b[1;33m-\u001b[0m\u001b[1;36m1\u001b[0m\u001b[1;33m:\u001b[0m\u001b[1;33m\u001b[0m\u001b[0m\n\u001b[1;32m---> 60\u001b[1;33m         \u001b[0mnApp\u001b[0m \u001b[1;33m=\u001b[0m \u001b[0mNetLogoGUI\u001b[0m\u001b[1;33m(\u001b[0m\u001b[0mJavaGateway\u001b[0m\u001b[1;33m(\u001b[0m\u001b[1;33m)\u001b[0m\u001b[1;33m)\u001b[0m\u001b[1;33m\u001b[0m\u001b[0m\n\u001b[0m\u001b[0;32m     61\u001b[0m     \u001b[1;32mreturn\u001b[0m \u001b[0mnApp\u001b[0m\u001b[1;33m\u001b[0m\u001b[0m\n",
      "\u001b[1;32m~\\AppData\\Local\\Continuum\\Anaconda2\\envs\\Python3\\lib\\site-packages\\nl4py\\NetLogoGUI.py\u001b[0m in \u001b[0;36m__init__\u001b[1;34m(self, java_gateway)\u001b[0m\n\u001b[0;32m     41\u001b[0m         \u001b[0mself\u001b[0m\u001b[1;33m.\u001b[0m\u001b[0m__gateway\u001b[0m \u001b[1;33m=\u001b[0m \u001b[0mjava_gateway\u001b[0m\u001b[1;31m# New gateway connection\u001b[0m\u001b[1;33m\u001b[0m\u001b[0m\n\u001b[0;32m     42\u001b[0m         \u001b[0mself\u001b[0m\u001b[1;33m.\u001b[0m\u001b[0m__bridge\u001b[0m \u001b[1;33m=\u001b[0m \u001b[0mself\u001b[0m\u001b[1;33m.\u001b[0m\u001b[0m__gateway\u001b[0m\u001b[1;33m.\u001b[0m\u001b[0mentry_point\u001b[0m\u001b[1;33m\u001b[0m\u001b[0m\n\u001b[1;32m---> 43\u001b[1;33m         \u001b[0mself\u001b[0m\u001b[1;33m.\u001b[0m\u001b[0m__session\u001b[0m \u001b[1;33m=\u001b[0m \u001b[0mself\u001b[0m\u001b[1;33m.\u001b[0m\u001b[0m__bridge\u001b[0m\u001b[1;33m.\u001b[0m\u001b[0mnewNetLogoApp\u001b[0m\u001b[1;33m(\u001b[0m\u001b[1;33m)\u001b[0m\u001b[1;33m\u001b[0m\u001b[0m\n\u001b[0m\u001b[0;32m     44\u001b[0m     \u001b[1;31m#######################################################\u001b[0m\u001b[1;33m\u001b[0m\u001b[1;33m\u001b[0m\u001b[0m\n\u001b[0;32m     45\u001b[0m     \u001b[1;31m###Below are public functions of the NL4Py interface###\u001b[0m\u001b[1;33m\u001b[0m\u001b[1;33m\u001b[0m\u001b[0m\n",
      "\u001b[1;32m~\\AppData\\Local\\Continuum\\Anaconda2\\envs\\Python3\\lib\\site-packages\\py4j\\java_gateway.py\u001b[0m in \u001b[0;36m__call__\u001b[1;34m(self, *args)\u001b[0m\n\u001b[0;32m   1255\u001b[0m         \u001b[0manswer\u001b[0m \u001b[1;33m=\u001b[0m \u001b[0mself\u001b[0m\u001b[1;33m.\u001b[0m\u001b[0mgateway_client\u001b[0m\u001b[1;33m.\u001b[0m\u001b[0msend_command\u001b[0m\u001b[1;33m(\u001b[0m\u001b[0mcommand\u001b[0m\u001b[1;33m)\u001b[0m\u001b[1;33m\u001b[0m\u001b[0m\n\u001b[0;32m   1256\u001b[0m         return_value = get_return_value(\n\u001b[1;32m-> 1257\u001b[1;33m             answer, self.gateway_client, self.target_id, self.name)\n\u001b[0m\u001b[0;32m   1258\u001b[0m \u001b[1;33m\u001b[0m\u001b[0m\n\u001b[0;32m   1259\u001b[0m         \u001b[1;32mfor\u001b[0m \u001b[0mtemp_arg\u001b[0m \u001b[1;32min\u001b[0m \u001b[0mtemp_args\u001b[0m\u001b[1;33m:\u001b[0m\u001b[1;33m\u001b[0m\u001b[0m\n",
      "\u001b[1;32m~\\AppData\\Local\\Continuum\\Anaconda2\\envs\\Python3\\lib\\site-packages\\py4j\\protocol.py\u001b[0m in \u001b[0;36mget_return_value\u001b[1;34m(answer, gateway_client, target_id, name)\u001b[0m\n\u001b[0;32m    330\u001b[0m                 raise Py4JError(\n\u001b[0;32m    331\u001b[0m                     \u001b[1;34m\"An error occurred while calling {0}{1}{2}. Trace:\\n{3}\\n\"\u001b[0m\u001b[1;33m.\u001b[0m\u001b[1;33m\u001b[0m\u001b[0m\n\u001b[1;32m--> 332\u001b[1;33m                     format(target_id, \".\", name, value))\n\u001b[0m\u001b[0;32m    333\u001b[0m         \u001b[1;32melse\u001b[0m\u001b[1;33m:\u001b[0m\u001b[1;33m\u001b[0m\u001b[0m\n\u001b[0;32m    334\u001b[0m             raise Py4JError(\n",
      "\u001b[1;31mPy4JError\u001b[0m: An error occurred while calling t.newNetLogoApp. Trace:\npy4j.Py4JException: Method newNetLogoApp([]) does not exist\r\n\tat py4j.reflection.ReflectionEngine.getMethod(ReflectionEngine.java:318)\r\n\tat py4j.reflection.ReflectionEngine.getMethod(ReflectionEngine.java:326)\r\n\tat py4j.Gateway.invoke(Gateway.java:274)\r\n\tat py4j.commands.AbstractCommand.invokeMethod(AbstractCommand.java:132)\r\n\tat py4j.commands.CallCommand.execute(CallCommand.java:79)\r\n\tat py4j.GatewayConnection.run(GatewayConnection.java:214)\r\n\tat java.lang.Thread.run(Unknown Source)\r\n\n"
     ]
    }
   ],
   "source": [
    "app = nl4py.NetLogoApp()\n",
    "app.openModel(\"./Wolf Sheep Predation.nlogo\")\n",
    "for name, value in zip(parameterNames, hof[0]):\n",
    "    app.command('set {0} {1}'.format(name, value))\n",
    "app.command(\"setup\")\n",
    "app.command(\"repeat 1000 [go]\")"
   ]
  },
  {
   "cell_type": "markdown",
   "metadata": {},
   "source": [
    "And plot the convergence progress by the EA"
   ]
  },
  {
   "cell_type": "code",
   "execution_count": null,
   "metadata": {},
   "outputs": [],
   "source": [
    "app.closeModel()\n",
    "convergence_progress = pd.DataFrame(log)[['max','mean']]\n",
    "import matplotlib.pyplot as plt\n",
    "import matplotlib as mpl\n",
    "mpl.rcParams['font.size'] = 25.0\n",
    "#plt.figure(figsize = [50,15])\n",
    "#ax = fig.add_subplot(111)\n",
    "plot = convergence_progress.plot(legend=True)\n",
    "#plot = ax.plot(convergence_progress,legend = True)\n",
    "plt.xlabel(\"Generation\")\n",
    "plt.ylabel(\"Fitness\")\n",
    "fig = plot.get_figure()\n",
    "fig.set_size_inches(18.5,10.5)\n",
    "fig.savefig(\"CalibrationConvergenceProgress.png\")"
   ]
  },
  {
   "cell_type": "code",
   "execution_count": null,
   "metadata": {
    "collapsed": true
   },
   "outputs": [],
   "source": []
  }
 ],
 "metadata": {
  "kernelspec": {
   "display_name": "Python 3",
   "language": "python",
   "name": "python3"
  },
  "language_info": {
   "codemirror_mode": {
    "name": "ipython",
    "version": 3
   },
   "file_extension": ".py",
   "mimetype": "text/x-python",
   "name": "python",
   "nbconvert_exporter": "python",
   "pygments_lexer": "ipython3",
   "version": "3.6.2"
  }
 },
 "nbformat": 4,
 "nbformat_minor": 2
}
