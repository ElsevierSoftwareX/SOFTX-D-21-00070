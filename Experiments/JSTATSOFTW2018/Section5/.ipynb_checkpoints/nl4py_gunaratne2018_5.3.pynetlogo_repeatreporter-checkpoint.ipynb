{
 "cells": [
  {
   "cell_type": "code",
   "execution_count": 1,
   "metadata": {},
   "outputs": [
    {
     "name": "stdout",
     "output_type": "stream",
     "text": [
      "[0, 1, 2, 3, 4, 5, 6, 7]\n"
     ]
    },
    {
     "data": {
      "text/plain": [
       "<AsyncResult: _push>"
      ]
     },
     "execution_count": 1,
     "metadata": {},
     "output_type": "execute_result"
    }
   ],
   "source": [
    "import numpy as np\n",
    "import pandas as pd\n",
    "import pyNetLogo\n",
    "import os\n",
    "import ipyparallel\n",
    "# Start IPCluster with 8 engines now through the command line using the following command:\n",
    "# IPCluster start -n 8\n",
    "# 8 engines are used for fair comparison against 8 parallel headless workspaces through NL4Py\n",
    "client = ipyparallel.Client()\n",
    "print(client.ids)\n",
    "direct_view = client[:]\n",
    "import os\n",
    "#Push the current working directory of the notebook to a \"cwd\" variable on the engines that can be accessed later\n",
    "direct_view.push(dict(cwd=os.getcwd()))"
   ]
  },
  {
   "cell_type": "code",
   "execution_count": 2,
   "metadata": {
    "collapsed": true
   },
   "outputs": [],
   "source": [
    "%%px #Jupyter notebook decorator to make the notebook cell parallelizable\n",
    "import os\n",
    "os.chdir(cwd) # push the current directory to the IPCluster engines\n",
    "import pyNetLogo\n",
    "import pandas as pd\n",
    "# Replace argument netlogo_home with the location of your NetLogo installation \n",
    "netlogo = pyNetLogo.NetLogoLink(gui=False, netlogo_home = \"C:\\Program Files\\NetLogo 6.0.3\", netlogo_version = '6')\n",
    "netlogo.load_model('Wolf Sheep Predation.nlogo')"
   ]
  },
  {
   "cell_type": "code",
   "execution_count": 3,
   "metadata": {
    "collapsed": true
   },
   "outputs": [],
   "source": [
    "def simulation(runId):\n",
    "    # Random initialization of parameters \n",
    "    # Same netlogo commands as used for the NL4Py evaluation\n",
    "    netlogo.command(\"set initial-number-sheep random-float 250\")\n",
    "    netlogo.command(\"set initial-number-wolves random-float 250\")\n",
    "    netlogo.command(\"set grass-regrowth-time random-float 100\")\n",
    "    netlogo.command(\"set sheep-gain-from-food random-float 50\")\n",
    "    netlogo.command(\"set wolf-gain-from-food random 100\")\n",
    "    netlogo.command(\"set sheep-reproduce random-float 20\")\n",
    "    netlogo.command(\"set wolf-reproduce random-float 20\")\n",
    "    netlogo.command(\"set show-energy? false\")\n",
    "    netlogo.command('set model-version \"sheep-wolves-grass\"')\n",
    "    netlogo.command('setup')\n",
    "    #Run for 100 ticks and return the number of sheep and wolf agents at each time step\n",
    "    counts = netlogo.repeat_report(['ticks','count sheep','count wolves'], 100)    \n",
    "    \n",
    "    results = pd.Series([counts.shape[0],\n",
    "                         counts.iloc[-1:1], \n",
    "                         counts.iloc[-1:2]],index=['ticks','Avg. sheep', 'Avg. wolves'])\n",
    "    \n",
    "    return results"
   ]
  },
  {
   "cell_type": "code",
   "execution_count": 4,
   "metadata": {},
   "outputs": [
    {
     "name": "stdout",
     "output_type": "stream",
     "text": [
      "276841\n",
      "546403\n",
      "807366\n",
      "267383\n",
      "542267\n",
      "805883\n",
      "268950\n",
      "539585\n",
      "807710\n",
      "279567\n",
      "537670\n",
      "811613\n",
      "269288\n",
      "542348\n",
      "795602\n",
      "269109\n",
      "537350\n",
      "803900\n",
      "269971\n",
      "530641\n",
      "811763\n",
      "263795\n",
      "548901\n",
      "807123\n",
      "271505\n",
      "530246\n",
      "805531\n",
      "261356\n",
      "538444\n",
      "814524\n"
     ]
    }
   ],
   "source": [
    "import time\n",
    "for j in range (0,10):\n",
    "    startTime = int(round(time.time() * 1000))\n",
    "    # Create and pass in a load balanced view for the IPCluster engines\n",
    "    lview = client.load_balanced_view()\n",
    "    # Run the simulations and measure execution time\n",
    "    results = pd.DataFrame(lview.map_sync(simulation, range(5000)))\n",
    "    stopTime = int(round(time.time() * 1000))\n",
    "    print(stopTime - startTime)\n",
    "    startTime = int(round(time.time() * 1000))\n",
    "    lview = client.load_balanced_view()\n",
    "    results = pd.DataFrame(lview.map_sync(simulation, range(10000)))\n",
    "    stopTime = int(round(time.time() * 1000))\n",
    "    print(stopTime - startTime)\n",
    "    startTime = int(round(time.time() * 1000))\n",
    "    lview = client.load_balanced_view()\n",
    "    results = pd.DataFrame(lview.map_sync(simulation, range(15000)))\n",
    "    stopTime = int(round(time.time() * 1000))\n",
    "    print(stopTime - startTime)"
   ]
  },
  {
   "cell_type": "markdown",
   "metadata": {},
   "source": [
    "  "
   ]
  }
 ],
 "metadata": {
  "kernelspec": {
   "display_name": "Python 2",
   "language": "python",
   "name": "python2"
  },
  "language_info": {
   "codemirror_mode": {
    "name": "ipython",
    "version": 2
   },
   "file_extension": ".py",
   "mimetype": "text/x-python",
   "name": "python",
   "nbconvert_exporter": "python",
   "pygments_lexer": "ipython2",
   "version": "2.7.13"
  },
  "latex_envs": {
   "LaTeX_envs_menu_present": true,
   "autocomplete": true,
   "bibliofile": "biblio.bib",
   "cite_by": "apalike",
   "current_citInitial": 1,
   "eqLabelWithNumbers": true,
   "eqNumInitial": 1,
   "hotkeys": {
    "equation": "Ctrl-E",
    "itemize": "Ctrl-I"
   },
   "labels_anchors": false,
   "latex_user_defs": false,
   "report_style_numbering": false,
   "user_envs_cfg": false
  }
 },
 "nbformat": 4,
 "nbformat_minor": 1
}
