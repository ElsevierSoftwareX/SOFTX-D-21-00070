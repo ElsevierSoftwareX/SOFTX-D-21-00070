{
 "cells": [
  {
   "cell_type": "code",
   "execution_count": 1,
   "metadata": {},
   "outputs": [
    {
     "name": "stdout",
     "output_type": "stream",
     "text": [
      "Trying to shut down any active ipclusters. Ignore errors if shutdown unable due to absence of active clusters.\n",
      "b'2019-09-06 15:03:13.669 [IPClusterStart] Starting ipcluster with [daemon=False]\\n'\n",
      "b'2019-09-06 15:03:13.669 [IPClusterStart] Creating pid file: /home/social-sim/.ipython/profile_default/pid/ipcluster.pid\\n'\n",
      "b'2019-09-06 15:03:13.669 [IPClusterStart] Starting Controller with LocalControllerLauncher\\n'\n",
      "b'2019-09-06 15:03:14.672 [IPClusterStart] Starting 96 Engines with LocalEngineSetLauncher\\n'\n",
      "b'2019-09-06 15:03:54.579 [IPClusterStart] Engines appear to have started successfully\\n'\n"
     ]
    }
   ],
   "source": [
    "import time\n",
    "startTime = int(round(time.time() * 1000))\n",
    "import subprocess\n",
    "import ipyparallel as ipp\n",
    "def execute(command):\n",
    "    process = subprocess.Popen(command, shell=True, stdout=subprocess.PIPE, stderr=subprocess.STDOUT)\n",
    "    output = ''\n",
    "    # Poll process for new output until finished\n",
    "    for line in iter(process.stdout.readline, \"\"):\n",
    "        output += str(line)\n",
    "        if len(line) > 0:\n",
    "            print(line)\n",
    "        if \"successfully\" in str(line):\n",
    "            return \n",
    "\n",
    "print(\"Trying to shut down any active ipclusters. Ignore errors if shutdown unable due to absence of active clusters.\")\n",
    "execute('/home/social-sim/.local/bin/ipcluster start -n 96')"
   ]
  },
  {
   "cell_type": "code",
   "execution_count": 2,
   "metadata": {},
   "outputs": [],
   "source": [
    "import os\n",
    "outputFile = '../output/5.3_output.csv'\n",
    "out = open (outputFile, \"a+\")"
   ]
  },
  {
   "cell_type": "code",
   "execution_count": 3,
   "metadata": {},
   "outputs": [
    {
     "name": "stdout",
     "output_type": "stream",
     "text": [
      "[0, 1, 2, 3, 4, 5, 6, 7, 8, 9, 10, 11, 12, 13, 14, 15, 16, 17, 18, 19, 20, 21, 22, 23, 24, 25, 26, 27, 28, 29, 30, 31, 32, 33, 34, 35, 36, 37, 38, 39, 40, 41, 42, 43, 44, 45, 46, 47, 48, 49, 50, 51, 52, 53, 54, 55, 56, 57, 58, 59, 60, 61, 62, 63, 64, 65, 66, 67, 68, 69, 70, 71, 72, 73, 74, 75, 76, 77, 78, 79, 80, 81, 82, 83, 84, 85, 86, 87, 88, 89, 90, 91, 92, 93, 94, 95]\n"
     ]
    },
    {
     "data": {
      "text/plain": [
       "<AsyncResult: _push>"
      ]
     },
     "execution_count": 3,
     "metadata": {},
     "output_type": "execute_result"
    }
   ],
   "source": [
    "\"\"\"!pip install --upgrade --user ipyparallel\n",
    "!pip install --upgrade --user pynetlogo\n",
    "!pip install --upgrade --user pandas\n",
    "!pip install --upgrade --user numpy\n",
    "!pip install --upgrade --user jpype1\"\"\"\n",
    "import numpy as np\n",
    "import pandas as pd\n",
    "import pyNetLogo\n",
    "import os\n",
    "import ipyparallel\n",
    "from os import environ\n",
    "\n",
    "# Start IPCluster with 8 engines now through the command line using the following command:\n",
    "# IPCluster start -n 8\n",
    "# 8 engines are used for fair comparison against 8 parallel headless workspaces through NL4Py\n",
    "client = ipyparallel.Client()\n",
    "print(client.ids)\n",
    "direct_view = client[:]\n",
    "import os\n",
    "#Push the current working directory of the notebook to a \"cwd\" variable on the engines that can be accessed later\n",
    "direct_view.push(dict(cwd=os.getcwd()))"
   ]
  },
  {
   "cell_type": "code",
   "execution_count": 4,
   "metadata": {},
   "outputs": [],
   "source": [
    "%%px \n",
    "#Jupyter notebook decorator to make the notebook cell parallelizable\n",
    "import os\n",
    "os.chdir(cwd) # change to the current directory to the IPCluster engines\n",
    "import pyNetLogo\n",
    "import pandas as pd\n",
    "os.environ[\"netlogo_path\"] = \"/opt/netlogo/\"\n",
    "if os.environ.get('netlogo_path') is not None:\n",
    "    netlogo_path = os.environ.get('netlogo_path')\n",
    "else:\n",
    "    netlogo_path = \"C:/Program Files/NetLogo 6.0.2/\"\n",
    "#print(netlogo_path)\n",
    "# Replace argument netlogo_home with the location of your NetLogo installation \n",
    "netlogo = pyNetLogo.NetLogoLink(gui=False, netlogo_home = netlogo_path, netlogo_version = '6.0', jvmargs=[\"-Xmx1G\",\"-XX:ParallelGCThreads=2\"])\n",
    "netlogo.load_model('../models/Wolf Sheep Predation.nlogo')"
   ]
  },
  {
   "cell_type": "code",
   "execution_count": 5,
   "metadata": {},
   "outputs": [],
   "source": [
    "def simulation(runId):\n",
    "    # Same netlogo commands as used for the NL4Py evaluation\n",
    "    netlogo.load_model('../models/Wolf Sheep Predation.nlogo')\n",
    "    netlogo.command(\"random-seed \" + str(runId))\n",
    "    netlogo.command(\"set initial-number-sheep 150\")\n",
    "    netlogo.command(\"set initial-number-wolves 150\")\n",
    "    netlogo.command(\"set grass-regrowth-time 50\")\n",
    "    netlogo.command(\"set sheep-gain-from-food 25\")\n",
    "    netlogo.command(\"set wolf-gain-from-food 50\")\n",
    "    netlogo.command(\"set sheep-reproduce 10\")\n",
    "    netlogo.command(\"set wolf-reproduce 10\")\n",
    "    netlogo.command(\"set show-energy? false\")\n",
    "    netlogo.command('set model-version \"sheep-wolves-grass\"')\n",
    "    netlogo.command('setup')\n",
    "    print(netlogo.report(\"ticks\"))\n",
    "    #Run for 100 ticks and return the number of sheep and wolf agents at each time step\n",
    "    counts = netlogo.repeat_report(['ticks','count sheep','count wolves'], 300)    \n",
    "    print(counts)\n",
    "    results = counts\n",
    "    \"\"\"pd.Series([counts.shape[0],\n",
    "    counts.iloc[-1:1], \n",
    "    counts.iloc[-1:2]],index=['ticks','Avg. sheep', 'Avg. wolves'])\"\"\"\n",
    "    print(results)\n",
    "    return results   "
   ]
  },
  {
   "cell_type": "code",
   "execution_count": 6,
   "metadata": {},
   "outputs": [
    {
     "name": "stdout",
     "output_type": "stream",
     "text": [
      "pyNetLogo,repeatReporters,2000,90299\n"
     ]
    }
   ],
   "source": [
    "import time\n",
    "for runs in [2000]:\n",
    "    #startTime = int(round(time.time() * 1000))\n",
    "    # Run the simulations and measure execution time\n",
    "    #try:\n",
    "    #The following failsafe had to be added as PyNetLogo fails due to duplicated temporary log file names that are left behind from previous runs\n",
    "    test = os.listdir(os.getcwd())\n",
    "    for item in test:\n",
    "        if item.endswith(\".txt\"):\n",
    "            os.remove(os.path.join(os.getcwd(), item))\n",
    "    ## end failsafe\n",
    "    ## load balance view failed to run consistently. Therefore, reverted to using direct view in order to get PyNetLogo running on an IPCluster\n",
    "    results = direct_view.map_sync(simulation, range(runs))\n",
    "    #print(results)\n",
    "    #except Exception as e: \n",
    "    #    print(e)\n",
    "    #    pass\n",
    "stopTime = int(round(time.time() * 1000))\n",
    "executionTime = stopTime - startTime\n",
    "print(\"pyNetLogo,repeatReporters,\" + str(runs) + \",\" + str(executionTime))\n",
    "out.write(\"pyNetLogo,repeatReporters,\" + str(runs) + \",\" + str(executionTime) + \"\\n\")\n",
    "out.flush()"
   ]
  },
  {
   "cell_type": "code",
   "execution_count": 7,
   "metadata": {},
   "outputs": [],
   "source": [
    "os.system(\"ipcluster stop\")\n",
    "out.close()"
   ]
  },
  {
   "cell_type": "code",
   "execution_count": null,
   "metadata": {},
   "outputs": [],
   "source": []
  }
 ],
 "metadata": {
  "kernelspec": {
   "display_name": "py35",
   "language": "python",
   "name": "py35"
  },
  "language_info": {
   "codemirror_mode": {
    "name": "ipython",
    "version": 3
   },
   "file_extension": ".py",
   "mimetype": "text/x-python",
   "name": "python",
   "nbconvert_exporter": "python",
   "pygments_lexer": "ipython3",
   "version": "3.5.2"
  },
  "latex_envs": {
   "LaTeX_envs_menu_present": true,
   "autocomplete": true,
   "bibliofile": "biblio.bib",
   "cite_by": "apalike",
   "current_citInitial": 1,
   "eqLabelWithNumbers": true,
   "eqNumInitial": 1,
   "hotkeys": {
    "equation": "Ctrl-E",
    "itemize": "Ctrl-I"
   },
   "labels_anchors": false,
   "latex_user_defs": false,
   "report_style_numbering": false,
   "user_envs_cfg": false
  }
 },
 "nbformat": 4,
 "nbformat_minor": 1
}
