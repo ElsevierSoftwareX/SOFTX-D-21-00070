{
 "cells": [
  {
   "cell_type": "code",
   "execution_count": null,
   "metadata": {},
   "outputs": [],
   "source": [
    "import numpy as np\n",
    "import pandas as pd\n",
    "import pyNetLogo\n",
    "import os\n",
    "import ipyparallel\n",
    "from os import environ\n",
    "\n",
    "# Start IPCluster with 8 engines now through the command line using the following command:\n",
    "# IPCluster start -n 8\n",
    "# 8 engines are used for fair comparison against 8 parallel headless workspaces through NL4Py\n",
    "client = ipyparallel.Client()\n",
    "print(client.ids)\n",
    "direct_view = client[:]\n",
    "import os\n",
    "#Push the current working directory of the notebook to a \"cwd\" variable on the engines that can be accessed later\n",
    "direct_view.push(dict(cwd=os.getcwd()))"
   ]
  },
  {
   "cell_type": "code",
   "execution_count": null,
   "metadata": {},
   "outputs": [],
   "source": [
    "%%px \n",
    "#Jupyter notebook decorator to make the notebook cell parallelizable\n",
    "import os\n",
    "os.chdir(cwd) # change to the current directory to the IPCluster engines\n",
    "import pyNetLogo\n",
    "import pandas as pd\n",
    "if os.environ.get('netlogo_path') is not None:\n",
    "    netlogo_path = os.environ.get('netlogo_path')\n",
    "else:\n",
    "    netlogo_path = \"C:/Program Files/NetLogo 6.0.2/\"\n",
    "print(netlogo_path)\n",
    "# Replace argument netlogo_home with the location of your NetLogo installation \n",
    "netlogo = pyNetLogo.NetLogoLink(gui=False, netlogo_home = netlogo_path, netlogo_version = '6')\n",
    "netlogo.load_model('../Models/Wolf Sheep Predation.nlogo')"
   ]
  },
  {
   "cell_type": "code",
   "execution_count": null,
   "metadata": {},
   "outputs": [],
   "source": [
    "def simulation(runId):\n",
    "    try:\n",
    "        # Same netlogo commands as used for the NL4Py evaluation\n",
    "        netlogo.command(\"random-seed 999\")\n",
    "        netlogo.command(\"set initial-number-sheep 150\")\n",
    "        netlogo.command(\"set initial-number-wolves 150\")\n",
    "        netlogo.command(\"set grass-regrowth-time 50\")\n",
    "        netlogo.command(\"set sheep-gain-from-food 25\")\n",
    "        netlogo.command(\"set wolf-gain-from-food 50\")\n",
    "        netlogo.command(\"set sheep-reproduce 10\")\n",
    "        netlogo.command(\"set wolf-reproduce 10\")\n",
    "        netlogo.command(\"set show-energy? false\")\n",
    "        netlogo.command('set model-version \"sheep-wolves-grass\"')\n",
    "        netlogo.command('setup')\n",
    "        #Run for 100 ticks and return the number of sheep and wolf agents at each time step\n",
    "        counts = netlogo.repeat_report(['ticks','count sheep','count wolves'], 100)    \n",
    "        print(counts)\n",
    "        results = pd.Series([counts.shape[0],\n",
    "                             counts.iloc[-1:1], \n",
    "                             counts.iloc[-1:2]],index=['ticks','Avg. sheep', 'Avg. wolves'])\n",
    "        print(results)\n",
    "        return results\n",
    "    except:\n",
    "        pass    "
   ]
  },
  {
   "cell_type": "code",
   "execution_count": null,
   "metadata": {},
   "outputs": [],
   "source": [
    "import os\n",
    "outputFile = '../output/5.3_output.csv'\n",
    "out = open (outputFile, \"a+\")\n",
    "print(\"ready\")"
   ]
  },
  {
   "cell_type": "code",
   "execution_count": null,
   "metadata": {},
   "outputs": [],
   "source": [
    "import time\n",
    "for runs in [5000, 10000, 15000]:\n",
    "    startTime = int(round(time.time() * 1000))\n",
    "    # Run the simulations and measure execution time\n",
    "    try:\n",
    "        #The following failsafe had to be added as PyNetLogo fails due to duplicated temporary log file names that are left behind from previous runs\n",
    "        test = os.listdir(os.getcwd())\n",
    "        for item in test:\n",
    "            if item.endswith(\".txt\"):\n",
    "                os.remove(os.path.join(os.getcwd(), item))\n",
    "        ## end failsafe\n",
    "        ## load balance view failed to run consistently. Therefore, reverted to using direct view in order to get PyNetLogo running on an IPCluster\n",
    "        results = direct_view.map_sync(simulation, range(runs))\n",
    "    except Exception as e: \n",
    "        pass\n",
    "    stopTime = int(round(time.time() * 1000))\n",
    "    executionTime = stopTime - startTime\n",
    "    print(\"pyNetLogo,repeatReporters,\" + str(runs) + \",\" + str(executionTime))\n",
    "    out.write(\"pyNetLogo,repeatReporters,\" + str(runs) + \",\" + str(executionTime) + \"\\n\")\n",
    "    out.flush()"
   ]
  },
  {
   "cell_type": "code",
   "execution_count": null,
   "metadata": {},
   "outputs": [],
   "source": [
    "out.close()"
   ]
  },
  {
   "cell_type": "markdown",
   "metadata": {},
   "source": [
    "  "
   ]
  }
 ],
 "metadata": {
  "kernelspec": {
   "display_name": "Python 3",
   "language": "python",
   "name": "python3"
  },
  "language_info": {
   "codemirror_mode": {
    "name": "ipython",
    "version": 3
   },
   "file_extension": ".py",
   "mimetype": "text/x-python",
   "name": "python",
   "nbconvert_exporter": "python",
   "pygments_lexer": "ipython3",
   "version": "3.6.5"
  },
  "latex_envs": {
   "LaTeX_envs_menu_present": true,
   "autocomplete": true,
   "bibliofile": "biblio.bib",
   "cite_by": "apalike",
   "current_citInitial": 1,
   "eqLabelWithNumbers": true,
   "eqNumInitial": 1,
   "hotkeys": {
    "equation": "Ctrl-E",
    "itemize": "Ctrl-I"
   },
   "labels_anchors": false,
   "latex_user_defs": false,
   "report_style_numbering": false,
   "user_envs_cfg": false
  }
 },
 "nbformat": 4,
 "nbformat_minor": 1
}
