{
 "cells": [
  {
   "cell_type": "code",
   "execution_count": 1,
   "metadata": {},
   "outputs": [
    {
     "name": "stdout",
     "output_type": "stream",
     "text": [
      "Name: NL4Py\r\n",
      "Version: 0.5.10\r\n",
      "Summary: A NetLogo connector for Python.\r\n",
      "Home-page: https://github.com/chathika/NL4Py\r\n",
      "Author: Chathika Gunaratne\r\n",
      "Author-email: chathikagunaratne@gmail.com\r\n",
      "License: GPL\r\n",
      "Location: /home/social-sim/miniconda2/envs/nl4py/lib/python3.7/site-packages\r\n",
      "Requires: numpy, psutil, py4j, matplotlib, pandas\r\n",
      "Required-by: \r\n"
     ]
    }
   ],
   "source": [
    "#!pip install nl4py\n",
    "!pip show nl4py\n",
    "from os import environ\n",
    "environ[\"netlogo_path\"]=\"/opt/netlogo\"\n",
    "\n",
    "if environ.get('netlogo_path') is not None:\n",
    "    netlogo_path = environ.get('netlogo_path')\n",
    "else:\n",
    "    netlogo_path = \"C:/Program Files/NetLogo 6.0.2/\"\n",
    "\n",
    "import nl4py\n",
    "# Replace argument to startServer(...) with the location of your NetLogo installation \n",
    "nl4py.startServer(netlogo_path)\n",
    "import time\n",
    "def ethnocentrism_setup_callback(data):\n",
    "    # Same netlogo commands as used for the PyNetLogo evaluation\n",
    "    setup_commands = []\n",
    "    setup_commands.append(\"random-seed \" + str(data))\n",
    "    #setup_commands.append(\"set mutation-rate 0.005\")\n",
    "    setup_commands.append(\"set death-rate 0.1\")\n",
    "    setup_commands.append(\"set immigrants-per-day 1\")\n",
    "    setup_commands.append(\"set immigrant-chance-cooperate-with-same 0.5\")\n",
    "    setup_commands.append(\"set immigrant-chance-cooperate-with-different 0.5\")\n",
    "    setup_commands.append(\"set initial-PTR 0.12\")\n",
    "    setup_commands.append(\"set cost-of-giving 0.01\")\n",
    "    setup_commands.append(\"set gain-of-receiving 0.03\")\n",
    "    setup_commands.append('setup-empty')\n",
    "    return setup_commands"
   ]
  },
  {
   "cell_type": "code",
   "execution_count": 2,
   "metadata": {},
   "outputs": [],
   "source": [
    "def measureExecutionTime(runsNeeded):\n",
    "    startTime = int(round(time.time() * 1000))\n",
    "    # Make sure we start n headless workspaces to compare to n IPCluster engines running PyNetLogo\n",
    "    modelname = \"./Models/Ethnocentrism.nlogo\"\n",
    "    measures = ['ticks','count turtles']\n",
    "    data = list(range(runsNeeded))\n",
    "    results = nl4py.runExperiment(model_name = modelname, callback=ethnocentrism_setup_callback,data=data,reporters=measures, start_at_tick=0,interval=1,stop_at_tick=ticksNeeded,go_command=\"go\",num_procs=multiprocessing.cpu_count())\n",
    "    stopTime = int(round(time.time() * 1000))\n",
    "    #print(results)\n",
    "    executionTime = stopTime - startTime\n",
    "    return executionTime, results"
   ]
  },
  {
   "cell_type": "code",
   "execution_count": 3,
   "metadata": {},
   "outputs": [],
   "source": [
    "import os\n",
    "outputFile = '../output/5.3_output.csv'\n",
    "out = open (outputFile, \"a+\")"
   ]
  },
  {
   "cell_type": "code",
   "execution_count": 4,
   "metadata": {},
   "outputs": [
    {
     "ename": "AttributeError",
     "evalue": "module 'nl4py' has no attribute 'runExperiment'",
     "output_type": "error",
     "traceback": [
      "\u001b[0;31m---------------------------------------------------------------------------\u001b[0m",
      "\u001b[0;31mAttributeError\u001b[0m                            Traceback (most recent call last)",
      "\u001b[0;32m<ipython-input-4-2197c815bccf>\u001b[0m in \u001b[0;36m<module>\u001b[0;34m()\u001b[0m\n\u001b[1;32m      1\u001b[0m \u001b[0;32mfor\u001b[0m \u001b[0mruns\u001b[0m \u001b[0;32min\u001b[0m \u001b[0;34m[\u001b[0m\u001b[0;36m2000\u001b[0m\u001b[0;34m]\u001b[0m\u001b[0;34m:\u001b[0m\u001b[0;34m\u001b[0m\u001b[0m\n\u001b[0;32m----> 2\u001b[0;31m     \u001b[0mexecutionTime\u001b[0m\u001b[0;34m,\u001b[0m \u001b[0mresults\u001b[0m \u001b[0;34m=\u001b[0m \u001b[0mmeasureExecutionTime\u001b[0m\u001b[0;34m(\u001b[0m\u001b[0mruns\u001b[0m\u001b[0;34m)\u001b[0m\u001b[0;34m\u001b[0m\u001b[0m\n\u001b[0m\u001b[1;32m      3\u001b[0m     \u001b[0mprint\u001b[0m\u001b[0;34m(\u001b[0m\u001b[0;34m\"nl4py,scheduledReporters,\"\u001b[0m \u001b[0;34m+\u001b[0m \u001b[0mstr\u001b[0m\u001b[0;34m(\u001b[0m\u001b[0mruns\u001b[0m\u001b[0;34m)\u001b[0m \u001b[0;34m+\u001b[0m \u001b[0;34m\",\"\u001b[0m \u001b[0;34m+\u001b[0m \u001b[0mstr\u001b[0m\u001b[0;34m(\u001b[0m\u001b[0mexecutionTime\u001b[0m\u001b[0;34m)\u001b[0m\u001b[0;34m)\u001b[0m\u001b[0;34m\u001b[0m\u001b[0m\n\u001b[1;32m      4\u001b[0m     \u001b[0mout\u001b[0m\u001b[0;34m.\u001b[0m\u001b[0mwrite\u001b[0m\u001b[0;34m(\u001b[0m\u001b[0;34m\"nl4py,scheduledReporters,\"\u001b[0m \u001b[0;34m+\u001b[0m \u001b[0mstr\u001b[0m\u001b[0;34m(\u001b[0m\u001b[0mruns\u001b[0m\u001b[0;34m)\u001b[0m \u001b[0;34m+\u001b[0m \u001b[0;34m\",\"\u001b[0m \u001b[0;34m+\u001b[0m \u001b[0mstr\u001b[0m\u001b[0;34m(\u001b[0m\u001b[0mexecutionTime\u001b[0m\u001b[0;34m)\u001b[0m \u001b[0;34m+\u001b[0m \u001b[0;34m\"\\n\"\u001b[0m\u001b[0;34m)\u001b[0m\u001b[0;34m\u001b[0m\u001b[0m\n\u001b[1;32m      5\u001b[0m     \u001b[0mnl4py\u001b[0m\u001b[0;34m.\u001b[0m\u001b[0mdeleteAllHeadlessWorkspaces\u001b[0m\u001b[0;34m(\u001b[0m\u001b[0;34m)\u001b[0m\u001b[0;34m\u001b[0m\u001b[0m\n",
      "\u001b[0;32m<ipython-input-2-cbbc569f18f9>\u001b[0m in \u001b[0;36mmeasureExecutionTime\u001b[0;34m(runsNeeded)\u001b[0m\n\u001b[1;32m      5\u001b[0m     \u001b[0mmeasures\u001b[0m \u001b[0;34m=\u001b[0m \u001b[0;34m[\u001b[0m\u001b[0;34m'ticks'\u001b[0m\u001b[0;34m,\u001b[0m\u001b[0;34m'count turtles'\u001b[0m\u001b[0;34m]\u001b[0m\u001b[0;34m\u001b[0m\u001b[0m\n\u001b[1;32m      6\u001b[0m     \u001b[0mdata\u001b[0m \u001b[0;34m=\u001b[0m \u001b[0mlist\u001b[0m\u001b[0;34m(\u001b[0m\u001b[0mrange\u001b[0m\u001b[0;34m(\u001b[0m\u001b[0mrunsNeeded\u001b[0m\u001b[0;34m)\u001b[0m\u001b[0;34m)\u001b[0m\u001b[0;34m\u001b[0m\u001b[0m\n\u001b[0;32m----> 7\u001b[0;31m     \u001b[0mresults\u001b[0m \u001b[0;34m=\u001b[0m \u001b[0mnl4py\u001b[0m\u001b[0;34m.\u001b[0m\u001b[0mrunExperiment\u001b[0m\u001b[0;34m(\u001b[0m\u001b[0mmodel_name\u001b[0m \u001b[0;34m=\u001b[0m \u001b[0mmodelname\u001b[0m\u001b[0;34m,\u001b[0m \u001b[0mcallback\u001b[0m\u001b[0;34m=\u001b[0m\u001b[0methnocentrism_setup_callback\u001b[0m\u001b[0;34m,\u001b[0m\u001b[0mdata\u001b[0m\u001b[0;34m=\u001b[0m\u001b[0mdata\u001b[0m\u001b[0;34m,\u001b[0m\u001b[0mreporters\u001b[0m\u001b[0;34m=\u001b[0m\u001b[0mmeasures\u001b[0m\u001b[0;34m,\u001b[0m \u001b[0mstart_at_tick\u001b[0m\u001b[0;34m=\u001b[0m\u001b[0;36m0\u001b[0m\u001b[0;34m,\u001b[0m\u001b[0minterval\u001b[0m\u001b[0;34m=\u001b[0m\u001b[0;36m1\u001b[0m\u001b[0;34m,\u001b[0m\u001b[0mstop_at_tick\u001b[0m\u001b[0;34m=\u001b[0m\u001b[0mticksNeeded\u001b[0m\u001b[0;34m,\u001b[0m\u001b[0mgo_command\u001b[0m\u001b[0;34m=\u001b[0m\u001b[0;34m\"go\"\u001b[0m\u001b[0;34m,\u001b[0m\u001b[0mnum_procs\u001b[0m\u001b[0;34m=\u001b[0m\u001b[0mmultiprocessing\u001b[0m\u001b[0;34m.\u001b[0m\u001b[0mcpu_count\u001b[0m\u001b[0;34m(\u001b[0m\u001b[0;34m)\u001b[0m\u001b[0;34m)\u001b[0m\u001b[0;34m\u001b[0m\u001b[0m\n\u001b[0m\u001b[1;32m      8\u001b[0m     \u001b[0mstopTime\u001b[0m \u001b[0;34m=\u001b[0m \u001b[0mint\u001b[0m\u001b[0;34m(\u001b[0m\u001b[0mround\u001b[0m\u001b[0;34m(\u001b[0m\u001b[0mtime\u001b[0m\u001b[0;34m.\u001b[0m\u001b[0mtime\u001b[0m\u001b[0;34m(\u001b[0m\u001b[0;34m)\u001b[0m \u001b[0;34m*\u001b[0m \u001b[0;36m1000\u001b[0m\u001b[0;34m)\u001b[0m\u001b[0;34m)\u001b[0m\u001b[0;34m\u001b[0m\u001b[0m\n\u001b[1;32m      9\u001b[0m     \u001b[0;31m#print(results)\u001b[0m\u001b[0;34m\u001b[0m\u001b[0;34m\u001b[0m\u001b[0m\n",
      "\u001b[0;31mAttributeError\u001b[0m: module 'nl4py' has no attribute 'runExperiment'"
     ]
    }
   ],
   "source": [
    "for runs in [2000]:\n",
    "    executionTime, results = measureExecutionTime(runs)\n",
    "    print(\"nl4py,scheduledReporters,\" + str(runs) + \",\" + str(executionTime))\n",
    "    out.write(\"nl4py,scheduledReporters,\" + str(runs) + \",\" + str(executionTime) + \"\\n\")\n",
    "    nl4py.deleteAllHeadlessWorkspaces()\n",
    "    out.flush()"
   ]
  },
  {
   "cell_type": "code",
   "execution_count": 1,
   "metadata": {},
   "outputs": [
    {
     "ename": "NameError",
     "evalue": "name 'results' is not defined",
     "output_type": "error",
     "traceback": [
      "\u001b[0;31m---------------------------------------------------------------------------\u001b[0m",
      "\u001b[0;31mNameError\u001b[0m                                 Traceback (most recent call last)",
      "\u001b[0;32m<ipython-input-1-e34904111d7f>\u001b[0m in \u001b[0;36m<module>\u001b[0;34m()\u001b[0m\n\u001b[0;32m----> 1\u001b[0;31m \u001b[0mresults\u001b[0m\u001b[0;34m[\u001b[0m\u001b[0;34m:\u001b[0m\u001b[0;34m,\u001b[0m\u001b[0;36m1\u001b[0m\u001b[0;34m]\u001b[0m\u001b[0;34m\u001b[0m\u001b[0m\n\u001b[0m",
      "\u001b[0;31mNameError\u001b[0m: name 'results' is not defined"
     ]
    }
   ],
   "source": [
    "results[:,1]\n"
   ]
  },
  {
   "cell_type": "code",
   "execution_count": null,
   "metadata": {},
   "outputs": [],
   "source": [
    "out.close()\n",
    "nl4py.stopServer()"
   ]
  },
  {
   "cell_type": "code",
   "execution_count": 1,
   "metadata": {},
   "outputs": [
    {
     "name": "stdout",
     "output_type": "stream",
     "text": [
      "[0, 1, 2, 3, 4, 5, 6, 7, 8, 9, 10, 11, 12, 13, 14, 15, 16, 17, 18, 19, 20, 21, 22, 23, 24, 25, 26, 27, 28, 29, 30, 31, 32, 33, 34, 35, 36, 37, 38, 39, 40, 41, 42, 43, 44, 45, 46, 47, 48, 49, 50, 51, 52, 53, 54, 55, 56, 57, 58, 59, 60, 61, 62, 63, 64, 65, 66, 67, 68, 69, 70, 71, 72, 73, 74, 75, 76, 77, 78, 79, 80, 81, 82, 83, 84, 85, 86, 87, 88, 89, 90, 91, 92, 93, 94, 95]\n"
     ]
    },
    {
     "data": {
      "text/plain": [
       "<AsyncResult: _push>"
      ]
     },
     "execution_count": 1,
     "metadata": {},
     "output_type": "execute_result"
    }
   ],
   "source": [
    "#!pip install nl4py\n",
    "import numpy as np\n",
    "import pandas as pd\n",
    "import pyNetLogo\n",
    "import os\n",
    "import nl4py\n",
    "import ipyparallel\n",
    "from os import environ\n",
    "os.environ[\"netlogo_path\"] = \"/opt/netlogo/\"\n",
    "if os.environ.get('netlogo_path') is not None:\n",
    "    netlogo_path = os.environ.get('netlogo_path')\n",
    "else:\n",
    "    netlogo_path = \"C:/Program Files/NetLogo 6.0.2/\"\n",
    "nl4py.startServer(netlogo_path)\n",
    "# Start IPCluster with 8 engines now through the command line using the following command:\n",
    "# IPCluster start -n 8\n",
    "# 8 engines are used for fair comparison against 8 parallel headless workspaces through NL4Py\n",
    "client = ipyparallel.Client()\n",
    "print(client.ids)\n",
    "direct_view = client[:]\n",
    "import os\n",
    "#Push the current working directory of the notebook to a \"cwd\" variable on the engines that can be accessed later\n",
    "direct_view.push(dict(cwd=os.getcwd()))"
   ]
  },
  {
   "cell_type": "code",
   "execution_count": 2,
   "metadata": {},
   "outputs": [],
   "source": [
    "%%px \n",
    "#Jupyter notebook decorator to make the notebook cell parallelizable\n",
    "import os\n",
    "os.chdir(cwd) # change to the current directory to the IPCluster engines\n",
    "nl4py.startServer(\"/opt/netlogo\")\n",
    "\n",
    "#print(netlogo_path)\n",
    "# Replace argument netlogo_home with the location of your NetLogo installation \n",
    "ws = nl4py.newNetLogoHeadlessWorkspace()\n",
    "ws.openModel('../models/Wolf Sheep Predation.nlogo')"
   ]
  },
  {
   "cell_type": "code",
   "execution_count": 9,
   "metadata": {},
   "outputs": [],
   "source": [
    "def simulate(data):\n",
    "    #workspace_.command(\"stop\")\n",
    "    #workspace_.openModel(\"../models/Wolf Sheep Predation.nlogo\")    \n",
    "    # Same netlogo commands as used for the PyNetLogo evaluation\n",
    "    ws.command(\"random-seed \" + str(data))\n",
    "    ws.command(\"set initial-number-sheep 150\")\n",
    "    ws.command(\"set initial-number-wolves 150\")\n",
    "    ws.command(\"set grass-regrowth-time 50\")\n",
    "    ws.command(\"set sheep-gain-from-food 25\")\n",
    "    ws.command(\"set wolf-gain-from-food 50\")\n",
    "    ws.command(\"set sheep-reproduce 10\")\n",
    "    ws.command(\"set wolf-reproduce 10\")\n",
    "    ws.command(\"set show-energy? false\")\n",
    "    ws.command('set model-version \"sheep-wolves-grass\"')\n",
    "    ws.command('setup')\n",
    "    ws.scheduleReportersAndRun([\"ticks\",'count sheep','count wolves'], 0,1,100,\"go\")  \n",
    "    ws.awaitScheduledReporterResults()"
   ]
  },
  {
   "cell_type": "code",
   "execution_count": 10,
   "metadata": {},
   "outputs": [
    {
     "name": "stdout",
     "output_type": "stream",
     "text": [
      "nl4py,repeatReporters,1000,19069\n",
      "nl4py,repeatReporters,2000,40929\n",
      "nl4py,repeatReporters,3000,58711\n"
     ]
    }
   ],
   "source": [
    "import time\n",
    "for runs in [1000,2000,3000]:\n",
    "    startTime = int(round(time.time() * 1000))\n",
    "    # Run the simulations and measure execution time\n",
    "    #try:\n",
    "    #The following failsafe had to be added as PyNetLogo fails due to duplicated temporary log file names that are left behind from previous runs\n",
    "    \"\"\"test = os.listdir(os.getcwd())\n",
    "    for item in test:\n",
    "        if item.endswith(\".txt\"):\n",
    "            os.remove(os.path.join(os.getcwd(), item))\"\"\"\n",
    "    ## end failsafe\n",
    "    ## load balance view failed to run consistently. Therefore, reverted to using direct view in order to get PyNetLogo running on an IPCluster\n",
    "    results = direct_view.map_sync(simulate, range(runs))\n",
    "    #print(results)\n",
    "    #except Exception as e: \n",
    "    #    print(e)\n",
    "    #    pass\n",
    "    stopTime = int(round(time.time() * 1000))\n",
    "    executionTime = stopTime - startTime\n",
    "    print(\"nl4py,repeatReporters,\" + str(runs) + \",\" + str(executionTime))\n",
    "    #out.write(\"nl4py,repeatReporters,\" + str(runs) + \",\" + str(executionTime) + \"\\n\")\n",
    "    #out.flush()"
   ]
  },
  {
   "cell_type": "code",
   "execution_count": null,
   "metadata": {},
   "outputs": [],
   "source": []
  }
 ],
 "metadata": {
  "kernelspec": {
   "display_name": "py35",
   "language": "python",
   "name": "py35"
  },
  "language_info": {
   "codemirror_mode": {
    "name": "ipython",
    "version": 3
   },
   "file_extension": ".py",
   "mimetype": "text/x-python",
   "name": "python",
   "nbconvert_exporter": "python",
   "pygments_lexer": "ipython3",
   "version": "3.5.2"
  },
  "latex_envs": {
   "LaTeX_envs_menu_present": true,
   "autocomplete": true,
   "bibliofile": "biblio.bib",
   "cite_by": "apalike",
   "current_citInitial": 1,
   "eqLabelWithNumbers": true,
   "eqNumInitial": 1,
   "hotkeys": {
    "equation": "Ctrl-E",
    "itemize": "Ctrl-I"
   },
   "labels_anchors": false,
   "latex_user_defs": false,
   "report_style_numbering": false,
   "user_envs_cfg": false
  }
 },
 "nbformat": 4,
 "nbformat_minor": 1
}
