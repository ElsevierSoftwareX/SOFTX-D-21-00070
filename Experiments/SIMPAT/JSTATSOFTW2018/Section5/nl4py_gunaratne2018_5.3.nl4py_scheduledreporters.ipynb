{
 "cells": [
  {
   "cell_type": "code",
   "execution_count": null,
   "metadata": {},
   "outputs": [],
   "source": [
    "from os import environ\n",
    "if environ.get('netlogo_path') is not None:\n",
    "    netlogo_path = environ.get('netlogo_path')\n",
    "else:\n",
    "    netlogo_path = \"C:/Program Files/NetLogo 6.0.2/\"\n",
    "import nl4py\n",
    "# Replace argument to startServer(...) with the location of your NetLogo installation \n",
    "nl4py.startServer(netlogo_path)\n",
    "import time\n",
    "def simulate(workspace_):\n",
    "    workspace_.command(\"stop\")\n",
    "    # Same netlogo commands as used for the PyNetLogo evaluation\n",
    "    workspace_.command(\"random-seed 999\")\n",
    "    workspace_.command(\"set initial-number-sheep 150\")\n",
    "    workspace_.command(\"set initial-number-wolves 150\")\n",
    "    workspace_.command(\"set grass-regrowth-time 50\")\n",
    "    workspace_.command(\"set sheep-gain-from-food 25\")\n",
    "    workspace_.command(\"set wolf-gain-from-food 50\")\n",
    "    workspace_.command(\"set sheep-reproduce 10\")\n",
    "    workspace_.command(\"set wolf-reproduce 10\")\n",
    "    workspace_.command(\"set show-energy? false\")\n",
    "    workspace_.command('set model-version \"sheep-wolves-grass\"')\n",
    "    workspace_.command('setup')\n",
    "    workspace_.scheduleReportersAndRun([\"ticks\",'count sheep','count wolves'], 0,1,100,\"go\")    "
   ]
  },
  {
   "cell_type": "code",
   "execution_count": null,
   "metadata": {},
   "outputs": [],
   "source": [
    "def measureExecutionTime(runsNeeded):\n",
    "    startTime = int(round(time.time() * 1000))    \n",
    "    runsDone = 0\n",
    "    runsStarted = 0\n",
    "    allResults = []\n",
    "    # Make sure we start 8 headless workspaces to compare to 8 IPCluster engines running PyNetLogo\n",
    "    try:\n",
    "        for i in range(0,8):\n",
    "            workspace = nl4py.newNetLogoHeadlessWorkspace()\n",
    "            workspace.openModel('../models/Wolf Sheep Predation.nlogo')\n",
    "            simulate(workspace)\n",
    "            runsStarted = runsStarted + 1\n",
    "        while (runsDone < runsNeeded):\n",
    "            for workspace in nl4py.getAllHeadlessWorkspaces():\n",
    "                newResults = workspace.getScheduledReporterResults()\n",
    "                # Make sure the models have finished running.\n",
    "                if len(newResults) > 0:\n",
    "                    allResults.extend(newResults)\n",
    "                    runsDone = runsDone + 1\n",
    "                    if runsStarted < runsNeeded:\n",
    "                        simulate(workspace)\n",
    "                        runsStarted = runsStarted + 1\n",
    "    except Exception as e:\n",
    "        print(e)\n",
    "        pass\n",
    "    stopTime = int(round(time.time() * 1000))\n",
    "    executionTime = stopTime - startTime\n",
    "    return executionTime"
   ]
  },
  {
   "cell_type": "code",
   "execution_count": null,
   "metadata": {},
   "outputs": [],
   "source": [
    "import os\n",
    "outputFile = '../output/5.3_output.csv'\n",
    "out = open (outputFile, \"a+\")"
   ]
  },
  {
   "cell_type": "code",
   "execution_count": null,
   "metadata": {},
   "outputs": [],
   "source": [
    "for runs in [5000, 10000, 15000]:\n",
    "    executionTime = measureExecutionTime(runs)\n",
    "    print(\"nl4py,scheduledReporters,\" + str(runs) + \",\" + str(executionTime))\n",
    "    out.write(\"nl4py,scheduledReporters,\" + str(runs) + \",\" + str(executionTime) + \"\\n\")\n",
    "    nl4py.deleteAllHeadlessWorkspaces()\n",
    "    out.flush()"
   ]
  },
  {
   "cell_type": "code",
   "execution_count": null,
   "metadata": {},
   "outputs": [],
   "source": [
    "out.close()\n",
    "nl4py.stopServer()"
   ]
  },
  {
   "cell_type": "code",
   "execution_count": null,
   "metadata": {},
   "outputs": [],
   "source": []
  }
 ],
 "metadata": {
  "kernelspec": {
   "display_name": "Python 3",
   "language": "python",
   "name": "python3"
  },
  "language_info": {
   "codemirror_mode": {
    "name": "ipython",
    "version": 3
   },
   "file_extension": ".py",
   "mimetype": "text/x-python",
   "name": "python",
   "nbconvert_exporter": "python",
   "pygments_lexer": "ipython3",
   "version": "3.6.5"
  },
  "latex_envs": {
   "LaTeX_envs_menu_present": true,
   "autocomplete": true,
   "bibliofile": "biblio.bib",
   "cite_by": "apalike",
   "current_citInitial": 1,
   "eqLabelWithNumbers": true,
   "eqNumInitial": 1,
   "hotkeys": {
    "equation": "Ctrl-E",
    "itemize": "Ctrl-I"
   },
   "labels_anchors": false,
   "latex_user_defs": false,
   "report_style_numbering": false,
   "user_envs_cfg": false
  }
 },
 "nbformat": 4,
 "nbformat_minor": 1
}
