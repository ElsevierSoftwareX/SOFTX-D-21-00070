{
 "cells": [
  {
   "cell_type": "code",
   "execution_count": 2,
   "metadata": {},
   "outputs": [],
   "source": [
    "#Import the sampling and analysis modules for a Sobol variance-based \n",
    "#sensitivity analysis\n",
    "from SALib.sample import saltelli\n",
    "from SALib.analyze import sobol\n",
    "problem = { \n",
    "  'num_vars': 6,\n",
    "  'names': ['random-seed',\n",
    "            'grass-regrowth-time',\n",
    "            'sheep-gain-from-food',\n",
    "            'wolf-gain-from-food',\n",
    "            'sheep-reproduce',\n",
    "            'wolf-reproduce'], \n",
    "  'bounds': [[1, 100000],\n",
    "             [20., 40.], \n",
    "             [2., 8.], \n",
    "             [16., 32.],\n",
    "             [2., 8.],\n",
    "             [2., 8.]]\n",
    "}\n",
    "n = 1000\n",
    "param_values = saltelli.sample(problem, n, calc_second_order=True)"
   ]
  },
  {
   "cell_type": "code",
   "execution_count": 3,
   "metadata": {},
   "outputs": [
    {
     "name": "stdout",
     "output_type": "stream",
     "text": [
      "Downloading the NetLogo Controller Server jar file...\n",
      "Downloading the Py4j jar file...\n",
      "Dependencies installed successfully! \n",
      "Start the NetLogoControllerServer using nl4py.startServer()\n",
      "Shutting down old server instance...\n",
      "Server started.\n"
     ]
    }
   ],
   "source": [
    "import nl4py\n",
    "nl4py.startServer()\n",
    "import time\n",
    "def simulate(workspace_,experiment):\n",
    "    workspace_.command(\"stop\")\n",
    "     #Set the input parameters\n",
    "    for i, name in enumerate(problem['names']):\n",
    "        if name == 'random-seed':\n",
    "            #The NetLogo random seed requires a different syntax\n",
    "            workspace_.command('random-seed {}'.format(experiment[i]))\n",
    "        else:\n",
    "            #Otherwise, assume the input parameters are global variables\n",
    "            workspace_.command('set {0} {1}'.format(name, experiment[i]))\n",
    "    workspace_.command('setup')\n",
    "    workspace_.scheduleReportersAndRun([\"ticks\",'count sheep','count wolves'], 0,1,100,\"go\")    "
   ]
  },
  {
   "cell_type": "code",
   "execution_count": 6,
   "metadata": {},
   "outputs": [],
   "source": [
    "def measureExecutionTime(experiment):\n",
    "    startTime = int(round(time.time() * 1000))\n",
    "    nl4py.deleteAllHeadlessWorkspaces() \n",
    "    runsDone = 0\n",
    "    runsStarted = 0\n",
    "    runsNeeded = experiment.shape[0]\n",
    "    allResults = []\n",
    "    for i in range(0,8):\n",
    "        workspace = nl4py.newNetLogoHeadlessWorkspace()\n",
    "        workspace.openModel('Wolf Sheep Predation.nlogo')\n",
    "        simulate(workspace,experiment[runsStarted])\n",
    "        runsStarted = runsStarted + 1\n",
    "    while (runsDone < runsNeeded):\n",
    "        for workspace in nl4py.getAllHeadlessWorkspaces():\n",
    "            newResults = workspace.getScheduledReporterResults()\n",
    "            if len(newResults) > 0:\n",
    "                allResults.extend(newResults)\n",
    "                runsDone = runsDone + 1\n",
    "                if runsStarted < runsNeeded:\n",
    "                    simulate(workspace,experiment[runsStarted])\n",
    "                    runsStarted = runsStarted + 1\n",
    "    stopTime = int(round(time.time() * 1000))\n",
    "    print(stopTime - startTime)\n",
    "    for workspace in nl4py.getAllHeadlessWorkspaces():\n",
    "        workspace.command(\"stop\")\n",
    "    nl4py.deleteAllHeadlessWorkspaces() "
   ]
  },
  {
   "cell_type": "code",
   "execution_count": 7,
   "metadata": {},
   "outputs": [
    {
     "name": "stdout",
     "output_type": "stream",
     "text": [
      "385711\n",
      "390416\n",
      "396206\n",
      "398289\n",
      "400485\n",
      "403833\n",
      "406358\n",
      "415949\n",
      "425646\n",
      "427356\n"
     ]
    }
   ],
   "source": [
    "for j in range (0,10):\n",
    "    measureExecutionTime(param_values)"
   ]
  }
 ],
 "metadata": {
  "kernelspec": {
   "display_name": "Python 2",
   "language": "python",
   "name": "python2"
  },
  "language_info": {
   "codemirror_mode": {
    "name": "ipython",
    "version": 2
   },
   "file_extension": ".py",
   "mimetype": "text/x-python",
   "name": "python",
   "nbconvert_exporter": "python",
   "pygments_lexer": "ipython2",
   "version": "2.7.14"
  },
  "latex_envs": {
   "LaTeX_envs_menu_present": true,
   "autocomplete": true,
   "bibliofile": "biblio.bib",
   "cite_by": "apalike",
   "current_citInitial": 1,
   "eqLabelWithNumbers": true,
   "eqNumInitial": 1,
   "hotkeys": {
    "equation": "Ctrl-E",
    "itemize": "Ctrl-I"
   },
   "labels_anchors": false,
   "latex_user_defs": false,
   "report_style_numbering": false,
   "user_envs_cfg": false
  }
 },
 "nbformat": 4,
 "nbformat_minor": 1
}
