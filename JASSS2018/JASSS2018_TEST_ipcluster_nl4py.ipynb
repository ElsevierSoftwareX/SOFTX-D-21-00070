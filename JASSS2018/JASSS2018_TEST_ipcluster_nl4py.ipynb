{
 "cells": [
  {
   "cell_type": "code",
   "execution_count": null,
   "metadata": {},
   "outputs": [
    {
     "data": {
      "text/plain": [
       "(14000L, 6L)"
      ]
     },
     "execution_count": 1,
     "metadata": {},
     "output_type": "execute_result"
    }
   ],
   "source": [
    "#Ensuring compliance of code with both python2 and python3\n",
    "#!pip install ipyparallel\n",
    "#!pip install jpype1\n",
    "#!pip install SALib\n",
    "#!pip install pyNetLogo\n",
    "from __future__ import division, print_function\n",
    "try:\n",
    "    from itertools import izip as zip\n",
    "except ImportError: # will be 3.x series\n",
    "    pass\n",
    "import numpy as np\n",
    "import pandas as pd\n",
    "import matplotlib.pyplot as plt\n",
    "import seaborn as sns\n",
    "sns.set_style('white')\n",
    "sns.set_context('talk')\n",
    "\n",
    "import pyNetLogo\n",
    "\n",
    "#Import the sampling and analysis modules for a Sobol variance-based \n",
    "#sensitivity analysis\n",
    "from SALib.sample import saltelli\n",
    "from SALib.analyze import sobol\n",
    "problem = { \n",
    "  'num_vars': 6,\n",
    "  'names': ['random-seed',\n",
    "            'grass-regrowth-time',\n",
    "            'sheep-gain-from-food',\n",
    "            'wolf-gain-from-food',\n",
    "            'sheep-reproduce',\n",
    "            'wolf-reproduce'], \n",
    "  'bounds': [[1, 100000],\n",
    "             [20., 40.], \n",
    "             [2., 8.], \n",
    "             [16., 32.],\n",
    "             [2., 8.],\n",
    "             [2., 8.]]\n",
    "}\n",
    "n = 1000\n",
    "param_values = saltelli.sample(problem, n, calc_second_order=True)\n",
    "param_values.shape\n"
   ]
  },
  {
   "cell_type": "code",
   "execution_count": null,
   "metadata": {},
   "outputs": [],
   "source": [
    "!pip uninstall nl4py\n",
    "!pip install nl4py\n",
    "import nl4py\n",
    "nl4py.startServer()\n",
    "\n",
    "import time\n",
    "startTime = int(round(time.time() * 1000))\n",
    "nl4py.deleteAllHeadlessWorkspaces() \n",
    "\n",
    "runsDone = 0\n",
    "runsStarted = 0\n",
    "runsNeeded = 1000\n",
    "allResults = []\n",
    "workspace = nl4py.newNetLogoHeadlessWorkspace()\n",
    "workspace.openModel('Wolf Sheep Predation.nlogo')\n",
    "print(workspace.getParamNames())\n",
    "def openAndSchedule(workspace_):\n",
    "    workspace_.openModel('Wolf Sheep Predation.nlogo')\n",
    "    workspace_.command(\"stop\")\n",
    "    '''for i, name in enumerate(problem['names']):\n",
    "        if name == 'random-seed':\n",
    "            #The NetLogo random seed requires a different syntax\n",
    "            workspace_.command('random-seed {}'.format(param_values[runsStarted][i]))\n",
    "        else:\n",
    "            #Otherwise, assume the input parameters are global variables\n",
    "            workspace_.command('set {0} {1}'.format(name, param_values[runsStarted][i]))'''\n",
    "    workspace_.setParamsRandom()\n",
    "    workspace_.command('setup')\n",
    "    workspace_.scheduleReportersAndRun([\"ticks\",'count sheep','count wolves'], 0,1,100,\"go\")    \n",
    "\n",
    "for i in range(0,200):\n",
    "    workspace = nl4py.newNetLogoHeadlessWorkspace()\n",
    "    openAndSchedule(workspace)\n",
    "    runsStarted = runsStarted + 1\n",
    "while (runsDone < runsNeeded):\n",
    "    print(\"yo\")\n",
    "    for workspace in nl4py.getAllHeadlessWorkspaces():\n",
    "        print(\"a\")\n",
    "        allResults.extend(workspace.getScheduledReporterResults())\n",
    "        print(\"b\")\n",
    "        runsDone = runsDone + 1\n",
    "        print(runsDone)\n",
    "        if runsStarted < runsNeeded:\n",
    "            openAndSchedule(workspace)\n",
    "            runsStarted = runsStarted + 1\n",
    "stopTime = int(round(time.time() * 1000))\n",
    "print(stopTime - startTime)"
   ]
  },
  {
   "cell_type": "code",
   "execution_count": 2,
   "metadata": {},
   "outputs": [
    {
     "name": "stdout",
     "output_type": "stream",
     "text": [
      "Downloading the NetLogo Controller Server jar file...\n",
      "Downloading the Py4j jar file...\n",
      "Dependencies installed successfully! \n",
      "Start the NetLogoControllerServer using nl4py.startServer()\n",
      "Shutting down old server instance...\n",
      "[0, 1, 2, 3, 4, 5, 6, 7]\n",
      "Server started.\n"
     ]
    }
   ],
   "source": [
    "#!pip install nl4py\n",
    "import os\n",
    "import nl4py\n",
    "import ipyparallel\n",
    "\n",
    "client = ipyparallel.Client()\n",
    "print(client.ids)\n",
    "direct_view = client[:]\n",
    "import os\n",
    "#Push the current working directory of the notebook to a \"cwd\" variable on the engines that can be accessed later\n",
    "direct_view.push(dict(cwd=os.getcwd()))\n",
    "#Push the \"problem\" variable from the notebook to a corresponding variable on the engines\n",
    "direct_view.push(dict(problem=problem))\n",
    "nl4py.startServer()"
   ]
  },
  {
   "cell_type": "code",
   "execution_count": 6,
   "metadata": {},
   "outputs": [
    {
     "name": "stdout",
     "output_type": "stream",
     "text": [
      "[stdout:0] Server started.\n",
      "[stdout:1] Server started.\n",
      "[stdout:2] Server started.\n",
      "[stdout:3] Server started.\n",
      "[stdout:4] Server started.\n",
      "[stdout:5] Server started.\n",
      "[stdout:6] Server started.\n",
      "[stdout:7] Server started.\n"
     ]
    }
   ],
   "source": [
    "%%px \n",
    "\n",
    "import os\n",
    "os.chdir(cwd)\n",
    "import time\n",
    "import nl4py\n",
    "nl4py.startServer()\n",
    "import pandas as pd\n",
    "netlogo = workspace = nl4py.newNetLogoHeadlessWorkspace()\n",
    "netlogo.openModel('Wolf Sheep Predation.nlogo')"
   ]
  },
  {
   "cell_type": "code",
   "execution_count": 7,
   "metadata": {},
   "outputs": [],
   "source": [
    "def simulation(experiment):\n",
    "    \n",
    "    #Set the input parameters\n",
    "    for i, name in enumerate(problem['names']):\n",
    "        if name == 'random-seed':\n",
    "            #The NetLogo random seed requires a different syntax\n",
    "            netlogo.command('random-seed {}'.format(experiment[i]))\n",
    "        else:\n",
    "            #Otherwise, assume the input parameters are global variables\n",
    "            netlogo.command('set {0} {1}'.format(name, experiment[i]))\n",
    "\n",
    "    netlogo.command('setup')\n",
    "    #Run for 100 ticks and return the number of sheep and wolf agents at each time step\n",
    "    counts = netlogo.scheduleReportersAndRun([\"ticks\",'count sheep','count wolves'], 0,1,100,\"go\")       \n",
    "    \n",
    "    results = netlogo.getScheduledReporterResults()\n",
    "    \n",
    "    return results"
   ]
  },
  {
   "cell_type": "code",
   "execution_count": null,
   "metadata": {},
   "outputs": [],
   "source": [
    "import time\n",
    "startTime = int(round(time.time() * 1000))\n",
    "lview = client.load_balanced_view()\n",
    "results = pd.DataFrame(lview.map_sync(simulation, param_values[0:1000]))\n",
    "stopTime = int(round(time.time() * 1000))\n",
    "print(stopTime - startTime)"
   ]
  },
  {
   "cell_type": "code",
   "execution_count": 13,
   "metadata": {},
   "outputs": [
    {
     "name": "stdout",
     "output_type": "stream",
     "text": [
      "2111767\n"
     ]
    }
   ],
   "source": [
    "import time\n",
    "startTime = int(round(time.time() * 1000))\n",
    "lview = client.load_balanced_view()\n",
    "results = pd.DataFrame(lview.map_sync(simulation, param_values[0:1000]))\n",
    "stopTime = int(round(time.time() * 1000))\n",
    "print(stopTime - startTime)"
   ]
  },
  {
   "cell_type": "code",
   "execution_count": 14,
   "metadata": {},
   "outputs": [
    {
     "name": "stdout",
     "output_type": "stream",
     "text": [
      "878631\n"
     ]
    }
   ],
   "source": [
    "import time\n",
    "startTime = int(round(time.time() * 1000))\n",
    "lview = client.load_balanced_view()\n",
    "results = pd.DataFrame(lview.map_sync(simulation, param_values[0:1000]))\n",
    "stopTime = int(round(time.time() * 1000))\n",
    "print(stopTime - startTime)"
   ]
  },
  {
   "cell_type": "code",
   "execution_count": 15,
   "metadata": {},
   "outputs": [
    {
     "name": "stdout",
     "output_type": "stream",
     "text": [
      "1316986\n"
     ]
    }
   ],
   "source": [
    "import time\n",
    "startTime = int(round(time.time() * 1000))\n",
    "lview = client.load_balanced_view()\n",
    "results = pd.DataFrame(lview.map_sync(simulation, param_values[0:1000]))\n",
    "stopTime = int(round(time.time() * 1000))\n",
    "print(stopTime - startTime)"
   ]
  },
  {
   "cell_type": "code",
   "execution_count": 16,
   "metadata": {},
   "outputs": [
    {
     "name": "stdout",
     "output_type": "stream",
     "text": [
      "854811\n"
     ]
    }
   ],
   "source": [
    "import time\n",
    "startTime = int(round(time.time() * 1000))\n",
    "lview = client.load_balanced_view()\n",
    "results = pd.DataFrame(lview.map_sync(simulation, param_values[0:1000]))\n",
    "stopTime = int(round(time.time() * 1000))\n",
    "print(stopTime - startTime)"
   ]
  },
  {
   "cell_type": "code",
   "execution_count": 17,
   "metadata": {},
   "outputs": [
    {
     "name": "stdout",
     "output_type": "stream",
     "text": [
      "1323916\n"
     ]
    }
   ],
   "source": [
    "import time\n",
    "startTime = int(round(time.time() * 1000))\n",
    "lview = client.load_balanced_view()\n",
    "results = pd.DataFrame(lview.map_sync(simulation, param_values[0:1000]))\n",
    "stopTime = int(round(time.time() * 1000))\n",
    "print(stopTime - startTime)"
   ]
  },
  {
   "cell_type": "code",
   "execution_count": 19,
   "metadata": {},
   "outputs": [
    {
     "name": "stdout",
     "output_type": "stream",
     "text": [
      "885860\n"
     ]
    }
   ],
   "source": [
    "import time\n",
    "startTime = int(round(time.time() * 1000))\n",
    "lview = client.load_balanced_view()\n",
    "results = pd.DataFrame(lview.map_sync(simulation, param_values[0:1000]))\n",
    "stopTime = int(round(time.time() * 1000))\n",
    "print(stopTime - startTime)"
   ]
  },
  {
   "cell_type": "code",
   "execution_count": 21,
   "metadata": {},
   "outputs": [
    {
     "name": "stdout",
     "output_type": "stream",
     "text": [
      "887937\n"
     ]
    }
   ],
   "source": [
    "import time\n",
    "startTime = int(round(time.time() * 1000))\n",
    "lview = client.load_balanced_view()\n",
    "results = pd.DataFrame(lview.map_sync(simulation, param_values[0:1000]))\n",
    "stopTime = int(round(time.time() * 1000))\n",
    "print(stopTime - startTime)"
   ]
  },
  {
   "cell_type": "code",
   "execution_count": null,
   "metadata": {},
   "outputs": [],
   "source": [
    "results.to_csv('Sobol_parallel.csv')"
   ]
  },
  {
   "cell_type": "code",
   "execution_count": null,
   "metadata": {},
   "outputs": [],
   "source": [
    "results.head(5)\n"
   ]
  },
  {
   "cell_type": "code",
   "execution_count": 5,
   "metadata": {},
   "outputs": [
    {
     "name": "stdout",
     "output_type": "stream",
     "text": [
      "Server started.\n"
     ]
    },
    {
     "ename": "AttributeError",
     "evalue": "'NoneType' object has no attribute 'getParamSpecs'",
     "output_type": "error",
     "traceback": [
      "\u001b[1;31m\u001b[0m",
      "\u001b[1;31mAttributeError\u001b[0mTraceback (most recent call last)",
      "\u001b[1;32m<ipython-input-5-73a762fe41a0>\u001b[0m in \u001b[0;36m<module>\u001b[1;34m()\u001b[0m\n\u001b[0;32m      3\u001b[0m \u001b[0mn\u001b[0m \u001b[1;33m=\u001b[0m \u001b[0mnl4py\u001b[0m\u001b[1;33m.\u001b[0m\u001b[0mnetlogoWorkspaceFactory\u001b[0m\u001b[1;33m.\u001b[0m\u001b[0mnewNetLogoHeadlessWorkspace\u001b[0m\u001b[1;33m(\u001b[0m\u001b[1;33m)\u001b[0m\u001b[1;33m\u001b[0m\u001b[0m\n\u001b[0;32m      4\u001b[0m \u001b[0mn\u001b[0m\u001b[1;33m.\u001b[0m\u001b[0mopenModel\u001b[0m\u001b[1;33m(\u001b[0m\u001b[1;34m\"./Wolf Sheep Predation.nlogo\"\u001b[0m\u001b[1;33m)\u001b[0m\u001b[1;33m\u001b[0m\u001b[0m\n\u001b[1;32m----> 5\u001b[1;33m \u001b[0mn\u001b[0m\u001b[1;33m.\u001b[0m\u001b[0msetParamsRandom\u001b[0m\u001b[1;33m(\u001b[0m\u001b[1;33m)\u001b[0m\u001b[1;33m\u001b[0m\u001b[0m\n\u001b[0m\u001b[0;32m      6\u001b[0m \u001b[0mn\u001b[0m\u001b[1;33m.\u001b[0m\u001b[0mcommand\u001b[0m\u001b[1;33m(\u001b[0m\u001b[1;34m\"setup\"\u001b[0m\u001b[1;33m)\u001b[0m\u001b[1;33m\u001b[0m\u001b[0m\n\u001b[0;32m      7\u001b[0m \u001b[0mn\u001b[0m\u001b[1;33m.\u001b[0m\u001b[0mscheduleReportersAndRun\u001b[0m\u001b[1;33m(\u001b[0m\u001b[1;33m[\u001b[0m\u001b[1;34m\"ticks\"\u001b[0m\u001b[1;33m,\u001b[0m\u001b[1;34m\"count sheep\"\u001b[0m\u001b[1;33m,\u001b[0m \u001b[1;34m\"count wolves\"\u001b[0m\u001b[1;33m]\u001b[0m\u001b[1;33m,\u001b[0m\u001b[1;36m0\u001b[0m\u001b[1;33m,\u001b[0m\u001b[1;36m1\u001b[0m\u001b[1;33m,\u001b[0m\u001b[1;36m100\u001b[0m\u001b[1;33m,\u001b[0m\u001b[1;34m\"go\"\u001b[0m\u001b[1;33m)\u001b[0m\u001b[1;33m\u001b[0m\u001b[0m\n",
      "\u001b[1;32mC:\\Users\\ch328575\\AppData\\Local\\Continuum\\anaconda2\\lib\\site-packages\\nl4py\\NetLogoHeadlessWorkspace.pyc\u001b[0m in \u001b[0;36msetParamsRandom\u001b[1;34m(self)\u001b[0m\n\u001b[0;32m    103\u001b[0m     \u001b[1;34m'''Random parameter initialization code from BehaviorSearch'''\u001b[0m\u001b[1;33m\u001b[0m\u001b[0m\n\u001b[0;32m    104\u001b[0m     \u001b[1;32mdef\u001b[0m \u001b[0msetParamsRandom\u001b[0m\u001b[1;33m(\u001b[0m\u001b[0mself\u001b[0m\u001b[1;33m)\u001b[0m\u001b[1;33m:\u001b[0m\u001b[1;33m\u001b[0m\u001b[0m\n\u001b[1;32m--> 105\u001b[1;33m         \u001b[0mparamSpecs\u001b[0m \u001b[1;33m=\u001b[0m \u001b[0mself\u001b[0m\u001b[1;33m.\u001b[0m\u001b[0m__bridge\u001b[0m\u001b[1;33m.\u001b[0m\u001b[0mgetParamList\u001b[0m\u001b[1;33m(\u001b[0m\u001b[0mself\u001b[0m\u001b[1;33m.\u001b[0m\u001b[0m__session\u001b[0m\u001b[1;33m,\u001b[0m \u001b[0mself\u001b[0m\u001b[1;33m.\u001b[0m\u001b[0m__path\u001b[0m\u001b[1;33m)\u001b[0m\u001b[1;33m.\u001b[0m\u001b[0mgetParamSpecs\u001b[0m\u001b[1;33m(\u001b[0m\u001b[1;33m)\u001b[0m\u001b[1;33m\u001b[0m\u001b[0m\n\u001b[0m\u001b[0;32m    106\u001b[0m \u001b[1;33m\u001b[0m\u001b[0m\n\u001b[0;32m    107\u001b[0m         \u001b[1;31m##Using some bsearch code here thanks to Forrest Stonedahl and the NetLogo team\u001b[0m\u001b[1;33m\u001b[0m\u001b[1;33m\u001b[0m\u001b[0m\n",
      "\u001b[1;31mAttributeError\u001b[0m: 'NoneType' object has no attribute 'getParamSpecs'"
     ]
    }
   ],
   "source": [
    "import nl4py\n",
    "nl4py.startServer()\n",
    "n = nl4py.netlogoWorkspaceFactory.newNetLogoHeadlessWorkspace()\n",
    "n.openModel(\"./Wolf Sheep Predation.nlogo\")\n",
    "n.setParamsRandom()\n",
    "n.command(\"setup\")\n",
    "n.scheduleReportersAndRun([\"ticks\",\"count sheep\", \"count wolves\"],0,1,100,\"go\")\n",
    "print(n.getScheduledReporterResults())"
   ]
  },
  {
   "cell_type": "markdown",
   "metadata": {},
   "source": [
    "  "
   ]
  }
 ],
 "metadata": {
  "kernelspec": {
   "display_name": "Python 2",
   "language": "python",
   "name": "python2"
  },
  "language_info": {
   "codemirror_mode": {
    "name": "ipython",
    "version": 2
   },
   "file_extension": ".py",
   "mimetype": "text/x-python",
   "name": "python",
   "nbconvert_exporter": "python",
   "pygments_lexer": "ipython2",
   "version": "2.7.14"
  },
  "latex_envs": {
   "LaTeX_envs_menu_present": true,
   "autocomplete": true,
   "bibliofile": "biblio.bib",
   "cite_by": "apalike",
   "current_citInitial": 1,
   "eqLabelWithNumbers": true,
   "eqNumInitial": 1,
   "hotkeys": {
    "equation": "Ctrl-E",
    "itemize": "Ctrl-I"
   },
   "labels_anchors": false,
   "latex_user_defs": false,
   "report_style_numbering": false,
   "user_envs_cfg": false
  }
 },
 "nbformat": 4,
 "nbformat_minor": 1
}
