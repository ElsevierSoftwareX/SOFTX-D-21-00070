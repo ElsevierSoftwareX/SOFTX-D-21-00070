{
 "cells": [
  {
   "cell_type": "code",
   "execution_count": 1,
   "metadata": {},
   "outputs": [
    {
     "name": "stdout",
     "output_type": "stream",
     "text": [
      "Downloading the NetLogo Controller Server jar file...\n",
      "Downloading the Py4j jar file...\n",
      "Dependencies installed successfully! \n",
      "Start the NetLogoControllerServer using nl4py.startServer()\n",
      "Shutting down old server instance...\n",
      "Server started.\n"
     ]
    }
   ],
   "source": [
    "import nl4py\n",
    "nl4py.startServer(\"C:\\Program Files\\NetLogo 6.0.3\")\n",
    "import time\n",
    "def simulate(workspace_):\n",
    "    workspace_.command(\"stop\")\n",
    "    #Set the input parameters\n",
    "    workspace_.command(\"set initial-number-sheep random-float 250\")\n",
    "    workspace_.command(\"set initial-number-wolves random-float 250\")\n",
    "    workspace_.command(\"set grass-regrowth-time random-float 100\")\n",
    "    workspace_.command(\"set sheep-gain-from-food random-float 50\")\n",
    "    workspace_.command(\"set wolf-gain-from-food random 100\")\n",
    "    workspace_.command(\"set sheep-reproduce random-float 20\")\n",
    "    workspace_.command(\"set wolf-reproduce random-float 20\")\n",
    "    workspace_.command(\"set show-energy? false\")\n",
    "    workspace_.command('set model-version \"sheep-wolves-grass\"')\n",
    "    workspace_.command('setup')\n",
    "    workspace_.scheduleReportersAndRun([\"ticks\",'count sheep','count wolves'], 0,1,100,\"go\")    "
   ]
  },
  {
   "cell_type": "code",
   "execution_count": 2,
   "metadata": {},
   "outputs": [],
   "source": [
    "def measureExecutionTime(runsNeeded):\n",
    "    startTime = int(round(time.time() * 1000))    \n",
    "    runsDone = 0\n",
    "    runsStarted = 0\n",
    "    allResults = []\n",
    "    for i in range(0,8):\n",
    "        workspace = nl4py.newNetLogoHeadlessWorkspace()\n",
    "        workspace.openModel('./Wolf Sheep Predation.nlogo')\n",
    "        simulate(workspace)\n",
    "        runsStarted = runsStarted + 1\n",
    "    while (runsDone < runsNeeded):\n",
    "        for workspace in nl4py.getAllHeadlessWorkspaces():\n",
    "            newResults = workspace.getScheduledReporterResults()\n",
    "            if len(newResults) > 0:\n",
    "                allResults.extend(newResults)\n",
    "                runsDone = runsDone + 1\n",
    "                if runsStarted < runsNeeded:\n",
    "                    simulate(workspace)\n",
    "                    runsStarted = runsStarted + 1\n",
    "        time.sleep(0.001)\n",
    "    stopTime = int(round(time.time() * 1000))\n",
    "    print(stopTime - startTime)"
   ]
  },
  {
   "cell_type": "code",
   "execution_count": 3,
   "metadata": {},
   "outputs": [
    {
     "name": "stdout",
     "output_type": "stream",
     "text": [
      "214858\n",
      "441019\n",
      "651024\n",
      "226374\n",
      "459934\n",
      "673229\n",
      "223660\n",
      "460537\n",
      "696373\n",
      "234685\n",
      "475331\n",
      "718277\n",
      "241410\n",
      "470090\n",
      "707271\n",
      "245718\n",
      "493253\n",
      "714512\n",
      "231326\n",
      "484965\n",
      "720576\n",
      "239841\n",
      "487072\n",
      "733894\n",
      "244353\n",
      "494435\n",
      "742279\n",
      "250483\n",
      "490103\n",
      "755348\n"
     ]
    }
   ],
   "source": [
    "for j in range (0,10):\n",
    "    measureExecutionTime(5000)\n",
    "    nl4py.deleteAllHeadlessWorkspaces()\n",
    "    measureExecutionTime(10000)\n",
    "    nl4py.deleteAllHeadlessWorkspaces() \n",
    "    measureExecutionTime(15000)\n",
    "    nl4py.deleteAllHeadlessWorkspaces() "
   ]
  },
  {
   "cell_type": "code",
   "execution_count": null,
   "metadata": {},
   "outputs": [],
   "source": []
  },
  {
   "cell_type": "code",
   "execution_count": null,
   "metadata": {},
   "outputs": [],
   "source": []
  }
 ],
 "metadata": {
  "kernelspec": {
   "display_name": "Python 2",
   "language": "python",
   "name": "python2"
  },
  "language_info": {
   "codemirror_mode": {
    "name": "ipython",
    "version": 2
   },
   "file_extension": ".py",
   "mimetype": "text/x-python",
   "name": "python",
   "nbconvert_exporter": "python",
   "pygments_lexer": "ipython2",
   "version": "2.7.14"
  },
  "latex_envs": {
   "LaTeX_envs_menu_present": true,
   "autocomplete": true,
   "bibliofile": "biblio.bib",
   "cite_by": "apalike",
   "current_citInitial": 1,
   "eqLabelWithNumbers": true,
   "eqNumInitial": 1,
   "hotkeys": {
    "equation": "Ctrl-E",
    "itemize": "Ctrl-I"
   },
   "labels_anchors": false,
   "latex_user_defs": false,
   "report_style_numbering": false,
   "user_envs_cfg": false
  }
 },
 "nbformat": 4,
 "nbformat_minor": 1
}
