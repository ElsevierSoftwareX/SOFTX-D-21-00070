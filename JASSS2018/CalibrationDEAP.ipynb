{
 "cells": [
  {
   "cell_type": "markdown",
   "metadata": {},
   "source": [
    "# NetLogo calibration with NL4Py and DEAP"
   ]
  },
  {
   "cell_type": "markdown",
   "metadata": {},
   "source": [
    "In this example we use the DEAP library in combination with NL4Py to calibrate the Wolf Sheep Predation model using a simple evolutionary algorithm provided by DEAP.\n",
    "\n",
    "In this experiment, we calibrate the model to find the best parameter configuration able to produce a near-equilibrium state over the first 1000 simulation ticks of the Wolf Sheep Predation model. In other words, the parameters that cause the populations of both wolves and sheep to vary as little as possilbe over the simulation run. "
   ]
  },
  {
   "cell_type": "code",
   "execution_count": 2,
   "metadata": {},
   "outputs": [
    {
     "name": "stdout",
     "output_type": "stream",
     "text": [
      "Downloading the NetLogo Controller Server jar file...\n",
      "Downloading the Py4j jar file...\n",
      "Dependencies installed successfully! \n",
      "Start the NetLogoControllerServer using nl4py.startServer()\n",
      "Shutting down old server instance...\n",
      "Server started.\n"
     ]
    }
   ],
   "source": [
    "import random\n",
    "from deap import base\n",
    "from deap import creator\n",
    "from deap import tools\n",
    "from deap import algorithms\n",
    "\n",
    "# In this experiment we intend to maximize fitness. Fitness is the measure of population stability, \n",
    "#  an indicator of equilibrium in the Wolf Sheep Predation model.\n",
    "creator.create(\"FitnessMax\", base.Fitness, weights=(1.0,))\n",
    "# An EA Individual is essentially a list of paramter values for our calibration purposes. Through \n",
    "#  calibration, we intend to find the Individual that produces the highest fitness, or the most\n",
    "#  stable population dynamics.\n",
    "creator.create(\"Individual\", list, fitness=creator.FitnessMax)\n",
    "toolbox = base.Toolbox()\n",
    "# Use nl4py to find the parameter names and ranges\n",
    "import nl4py\n",
    "# Start the NetLogoControllerServer.\n",
    "nl4py.startServer(\"/home/ubuntu/NetLogo 6.0.3/\")\n",
    "# Create a HeadlessWorkspace to read in the parameter names and ranges.\n",
    "n = nl4py.newNetLogoHeadlessWorkspace()\n",
    "# Open the model\n",
    "n.openModel(\"Wolf Sheep Predation.nlogo\")\n",
    "# Get the parameter names and ranges.\n",
    "parameterNames = n.getParamNames()\n",
    "parameterRanges = n.getParamRanges()\n",
    "parameterInitializers = []\n",
    "# Iterate over the names and ranges and create DEAP initializers for all the parameters of the model\n",
    "for parameterName, parameterRange in zip(parameterNames, parameterRanges):\n",
    "    parameterName = ''.join(filter(str.isalnum, str(parameterName)))\n",
    "    if len(parameterRange) == 3:\n",
    "        toolbox.register(parameterName, random.randrange, parameterRange[0], parameterRange[2], parameterRange[1]) #start stop step\n",
    "        parameterInitializers.append(eval(\"toolbox.\"+str(parameterName)))\n",
    "# Define the \"individual\" function in the DEAP toolbox which creates an Individual with a list of parameters\n",
    "#  within the range specified by the NetLogo model interface.\n",
    "toolbox.register(\"individual\", tools.initCycle, creator.Individual, tuple(parameterInitializers))\n",
    "# Define the \"population\" function in the DEAP toolbox\n",
    "toolbox.register(\"population\", tools.initRepeat, list, toolbox.individual)\n",
    "# Define hyperparameters of the evolutionary algorithm\n",
    "toolbox.register(\"mate\", tools.cxTwoPoint)\n",
    "lowerBounds = [row[1] for row in parameterRanges[:-2]]\n",
    "upperBounds = [row[2] for row in parameterRanges[:-2]]\n",
    "toolbox.register(\"mutate\", tools.mutUniformInt, low = lowerBounds, up = upperBounds, indpb=0.1)\n",
    "toolbox.register(\"select\", tools.selTournament, tournsize=3)\n"
   ]
  },
  {
   "cell_type": "markdown",
   "metadata": {},
   "source": [
    "Next, we define a simulation run. This involves:\n",
    "1. starting a NetLogoHeadlessWorkspace through NL4Py, \n",
    "2. opening the Wolf Sheep Predation model, \n",
    "3. setting the parameters to the values of the EA individual, \n",
    "4. running the simulation\n",
    "5. calculating the metric \n",
    "\n",
    "We define the metric as the stability of the population counts of the two species, without either going into extinction. for this we use first order derivatives per simulation time step and a heavy side function to score extinction as 0. High scores indicate more stable populations (closer to complete equilibrium). Please see the Sensitivity analysis Jupyter notebook for a mode detailed description of this calculation."
   ]
  },
  {
   "cell_type": "code",
   "execution_count": 3,
   "metadata": {},
   "outputs": [],
   "source": [
    "import time\n",
    "import pandas as pd\n",
    "import numpy as np\n",
    "def simulate(workspace_,names,values):\n",
    "    workspace_.command(\"stop\")\n",
    "    for name, value in zip(names, values):\n",
    "        cmd = 'set {0} {1}'.format(name, value)\n",
    "        workspace_.command(cmd)\n",
    "    workspace_.command('set model-version \"sheep-wolves-grass\"')\n",
    "    workspace_.command('setup')\n",
    "    workspace_.scheduleReportersAndRun([\"ticks\",'count sheep','count wolves'], 0,1,1000,\"go\")    \n",
    "    newResults = []\n",
    "    while(len(newResults) == 0):\n",
    "        newResults = workspace_.getScheduledReporterResults()\n",
    "        if len(newResults) > 0:\n",
    "            ###Process simulation results###\n",
    "            df = pd.DataFrame(newResults)\n",
    "            sheep_pop = pd.to_numeric(df.iloc[:,1])\n",
    "            wolves_pop = pd.to_numeric(df.iloc[:,2])\n",
    "            #since time is in simulation ticks, this is the absolute rate of change of sheep population.\n",
    "            dsheep_dt = sheep_pop.diff().abs()\n",
    "            #since time is in simulation ticks, this is the absolute rate of change of wolf population.\n",
    "            dwolves_dt = wolves_pop.diff().abs()   \n",
    "            #Find population stabilities over time for species as reciprocal of derivatives multiplied by\n",
    "            # a heavyside function ensuring extinction is scored at 0.\n",
    "            population_stability_sheep = np.divide(1,(dsheep_dt + 0.000001)).mul(np.where(sheep_pop==0,0,1))\n",
    "            population_stability_wolves = np.divide(1,(dwolves_dt + 0.000001)).mul(np.where(wolves_pop==0,0,1))\n",
    "            #Find total population stability over time as the mean of population stabilities for both species.\n",
    "            population_stability_total = (population_stability_sheep + population_stability_wolves) / 2\n",
    "            #the aggregate metric is the mean, total population stability over time\n",
    "            aggregate_metric = population_stability_total.sum()/len(population_stability_total)\n",
    "            ###Done processing simulation results###\n",
    "            workspace_.command(\"stop\")\n",
    "            return aggregate_metric,\n",
    "        time.sleep(2)"
   ]
  },
  {
   "cell_type": "markdown",
   "metadata": {},
   "source": [
    "We setup Headless Workspaces for each EA individual. The HeadlessWorkspaces are reusable per population and are tracked as to when they are free to run another model evaluation"
   ]
  },
  {
   "cell_type": "code",
   "execution_count": 4,
   "metadata": {},
   "outputs": [],
   "source": [
    "nl4py.deleteAllHeadlessWorkspaces()\n",
    "POP = 200\n",
    "freeWorkspaces = []\n",
    "for i in range(0,POP):\n",
    "    n = nl4py.newNetLogoHeadlessWorkspace()\n",
    "    n.openModel('Wolf Sheep Predation.nlogo')\n",
    "    freeWorkspaces.append(n)"
   ]
  },
  {
   "cell_type": "markdown",
   "metadata": {},
   "source": [
    "The EA individual evaluation is defined as a simulation run of the model for the parameter values specified and reports the total stability metric of the population. "
   ]
  },
  {
   "cell_type": "code",
   "execution_count": 5,
   "metadata": {},
   "outputs": [],
   "source": [
    "def evaluateWolfSheepPredation(individual):\n",
    "    n = freeWorkspaces[0]\n",
    "    freeWorkspaces.remove(n)\n",
    "    result = simulate(n,parameterNames,individual)\n",
    "    freeWorkspaces.append(n)\n",
    "    return result\n",
    "toolbox.register(\"evaluate\", evaluateWolfSheepPredation)"
   ]
  },
  {
   "cell_type": "markdown",
   "metadata": {},
   "source": [
    "We now define the statistics we are interested in tracking and run the EA with custom hyperparameters."
   ]
  },
  {
   "cell_type": "code",
   "execution_count": 6,
   "metadata": {},
   "outputs": [
    {
     "name": "stdout",
     "output_type": "stream",
     "text": [
      "gen\tnevals\tmax   \tmean   \n",
      "0  \t200   \t403000\t44242.6\n",
      "1  \t172   \t461000\t78005.1\n",
      "2  \t164   \t449500\t114500 \n",
      "3  \t160   \t568500\t178963 \n",
      "4  \t170   \t571500\t221520 \n",
      "5  \t176   \t572000\t240858 \n",
      "6  \t164   \t595000\t277110 \n",
      "7  \t175   \t713000\t302160 \n",
      "8  \t161   \t649500\t345975 \n",
      "9  \t160   \t640500\t391990 \n",
      "10 \t173   \t656500\t438028 \n",
      "11 \t158   \t652000\t475688 \n",
      "12 \t177   \t665500\t497433 \n",
      "13 \t171   \t645500\t497688 \n",
      "14 \t166   \t694000\t519728 \n",
      "15 \t167   \t725500\t530853 \n",
      "16 \t164   \t710000\t538400 \n",
      "17 \t155   \t718000\t546930 \n",
      "18 \t173   \t718000\t557653 \n",
      "19 \t166   \t722500\t566160 \n",
      "20 \t175   \t724500\t581378 \n",
      "21 \t161   \t733500\t573900 \n",
      "22 \t171   \t758500\t591253 \n",
      "23 \t175   \t733500\t588123 \n",
      "24 \t172   \t733500\t600315 \n",
      "25 \t169   \t744000\t618510 \n",
      "26 \t156   \t744000\t621023 \n",
      "27 \t178   \t744000\t617960 \n",
      "28 \t165   \t739500\t629283 \n",
      "29 \t166   \t739500\t617900 \n",
      "30 \t171   \t739500\t612688 \n",
      "31 \t170   \t748000\t619953 \n",
      "32 \t176   \t739500\t602310 \n",
      "33 \t164   \t734500\t625908 \n",
      "34 \t162   \t727500\t619625 \n",
      "35 \t180   \t727500\t631265 \n",
      "36 \t176   \t741000\t636455 \n",
      "37 \t171   \t741000\t632530 \n",
      "38 \t175   \t741000\t638485 \n",
      "39 \t176   \t734000\t628433 \n",
      "40 \t173   \t730500\t618840 \n",
      "41 \t168   \t730500\t616828 \n",
      "42 \t163   \t730500\t620495 \n",
      "43 \t170   \t736500\t632440 \n",
      "44 \t169   \t742500\t611793 \n",
      "45 \t168   \t730000\t604735 \n",
      "46 \t167   \t744000\t638698 \n",
      "47 \t161   \t739000\t631295 \n",
      "48 \t165   \t735500\t615745 \n",
      "49 \t166   \t758500\t626858 \n",
      "50 \t178   \t739000\t628630 \n",
      "51 \t167   \t728500\t622418 \n",
      "52 \t175   \t736000\t611728 \n",
      "53 \t178   \t739500\t607638 \n",
      "54 \t179   \t743500\t625760 \n",
      "55 \t163   \t743500\t610423 \n",
      "56 \t169   \t743500\t622670 \n",
      "57 \t172   \t742500\t600463 \n",
      "58 \t160   \t739000\t599360 \n",
      "59 \t166   \t737000\t581395 \n",
      "60 \t171   \t737500\t600218 \n",
      "61 \t159   \t749000\t600660 \n",
      "62 \t169   \t749000\t606595 \n",
      "63 \t157   \t749000\t601818 \n",
      "64 \t172   \t734000\t634038 \n",
      "65 \t158   \t734000\t632983 \n",
      "66 \t163   \t746500\t612280 \n",
      "67 \t156   \t746500\t633173 \n",
      "68 \t168   \t737500\t618275 \n",
      "69 \t165   \t733000\t611603 \n",
      "70 \t166   \t732000\t620583 \n",
      "71 \t156   \t739000\t638735 \n",
      "72 \t174   \t737000\t606065 \n",
      "73 \t167   \t737000\t603005 \n",
      "74 \t171   \t737000\t598723 \n",
      "75 \t149   \t737000\t614635 \n",
      "76 \t174   \t748500\t597040 \n",
      "77 \t169   \t748500\t614713 \n",
      "78 \t156   \t748500\t616090 \n",
      "79 \t173   \t735500\t622485 \n",
      "80 \t171   \t736000\t600633 \n",
      "81 \t160   \t734000\t607890 \n",
      "82 \t174   \t745500\t583638 \n",
      "83 \t171   \t745500\t583210 \n",
      "84 \t175   \t745500\t610725 \n",
      "85 \t155   \t745500\t631440 \n",
      "86 \t160   \t745500\t606705 \n",
      "87 \t167   \t745500\t599650 \n",
      "88 \t172   \t745500\t584773 \n",
      "89 \t170   \t745500\t592285 \n",
      "90 \t174   \t747500\t578948 \n",
      "91 \t173   \t731000\t580405 \n",
      "92 \t162   \t740000\t595398 \n",
      "93 \t158   \t738500\t610528 \n",
      "94 \t166   \t739000\t627520 \n",
      "95 \t168   \t732500\t599803 \n",
      "96 \t179   \t740000\t582738 \n",
      "97 \t174   \t740000\t601123 \n",
      "98 \t163   \t734500\t625118 \n",
      "99 \t177   \t734500\t605010 \n",
      "100\t162   \t736500\t608185 \n"
     ]
    }
   ],
   "source": [
    "import multiprocessing\n",
    "from multiprocessing.pool import ThreadPool\n",
    "pool = ThreadPool(multiprocessing.cpu_count())\n",
    "toolbox.register(\"map\", pool.map)\n",
    "stats = tools.Statistics(key = lambda ind: ind.fitness.values)\n",
    "stats.register(\"max\",np.max)\n",
    "stats.register(\"mean\",np.mean)\n",
    "hof = tools.HallOfFame(1) \n",
    "final_pop, log= algorithms.eaSimple(toolbox.population(n=POP), toolbox, cxpb=0.8, mutpb=0.2, ngen=100,stats = stats,halloffame = hof)"
   ]
  },
  {
   "cell_type": "code",
   "execution_count": 10,
   "metadata": {},
   "outputs": [
    {
     "name": "stdout",
     "output_type": "stream",
     "text": [
      "The best individual over the complete calibration:\n",
      "['initial-number-sheep', 'sheep-gain-from-food', 'sheep-reproduce', 'initial-number-wolves', 'wolf-gain-from-food', 'wolf-reproduce', 'grass-regrowth-time', 'show-energy?', 'model-version']\n",
      "[[245, 3, 1, 9, 74, 1, 97]]\n"
     ]
    }
   ],
   "source": [
    "print(\"The best individual over the complete calibration:\")\n",
    "print(parameterNames)\n",
    "print(hof)"
   ]
  },
  {
   "cell_type": "markdown",
   "metadata": {},
   "source": [
    "We can now run and visualize the results..."
   ]
  },
  {
   "cell_type": "code",
   "execution_count": 11,
   "metadata": {},
   "outputs": [],
   "source": [
    "app = nl4py.NetLogoApp()\n",
    "app.openModel(\"./Wolf Sheep Predation.nlogo\")\n",
    "for name, value in zip(parameterNames, hof[0]):\n",
    "    app.command('set {0} {1}'.format(name, value))\n",
    "app.command(\"setup\")\n",
    "app.command(\"repeat 1000 [go]\")"
   ]
  },
  {
   "cell_type": "markdown",
   "metadata": {},
   "source": [
    "And plot the convergence progress by the EA"
   ]
  },
  {
   "cell_type": "code",
   "execution_count": 18,
   "metadata": {},
   "outputs": [
    {
     "ename": "AttributeError",
     "evalue": "'Figure' object has no attribute 'plot'",
     "output_type": "error",
     "traceback": [
      "\u001b[0;31m---------------------------------------------------------------------------\u001b[0m",
      "\u001b[0;31mAttributeError\u001b[0m                            Traceback (most recent call last)",
      "\u001b[0;32m<ipython-input-18-20d2b92f27aa>\u001b[0m in \u001b[0;36m<module>\u001b[0;34m()\u001b[0m\n\u001b[1;32m      6\u001b[0m \u001b[0mfig\u001b[0m \u001b[0;34m=\u001b[0m \u001b[0mplt\u001b[0m\u001b[0;34m.\u001b[0m\u001b[0mfigure\u001b[0m\u001b[0;34m(\u001b[0m\u001b[0mfigsize\u001b[0m \u001b[0;34m=\u001b[0m \u001b[0;34m[\u001b[0m\u001b[0;36m20\u001b[0m\u001b[0;34m,\u001b[0m\u001b[0;36m20\u001b[0m\u001b[0;34m]\u001b[0m\u001b[0;34m)\u001b[0m\u001b[0;34m\u001b[0m\u001b[0m\n\u001b[1;32m      7\u001b[0m \u001b[0mfig\u001b[0m\u001b[0;34m.\u001b[0m\u001b[0madd_subplot\u001b[0m\u001b[0;34m(\u001b[0m\u001b[0;36m111\u001b[0m\u001b[0;34m)\u001b[0m\u001b[0;34m\u001b[0m\u001b[0m\n\u001b[0;32m----> 8\u001b[0;31m \u001b[0mplot\u001b[0m \u001b[0;34m=\u001b[0m \u001b[0mfig\u001b[0m\u001b[0;34m.\u001b[0m\u001b[0mplot\u001b[0m\u001b[0;34m(\u001b[0m\u001b[0mconvergence_progress\u001b[0m\u001b[0;34m)\u001b[0m\u001b[0;34m\u001b[0m\u001b[0m\n\u001b[0m\u001b[1;32m      9\u001b[0m \u001b[0mplot\u001b[0m\u001b[0;34m.\u001b[0m\u001b[0mxlabel\u001b[0m\u001b[0;34m(\u001b[0m\u001b[0;34m\"Generation\"\u001b[0m\u001b[0;34m)\u001b[0m\u001b[0;34m\u001b[0m\u001b[0m\n\u001b[1;32m     10\u001b[0m \u001b[0mplot\u001b[0m\u001b[0;34m.\u001b[0m\u001b[0mylabel\u001b[0m\u001b[0;34m(\u001b[0m\u001b[0;34m\"Fitness\"\u001b[0m\u001b[0;34m)\u001b[0m\u001b[0;34m\u001b[0m\u001b[0m\n",
      "\u001b[0;31mAttributeError\u001b[0m: 'Figure' object has no attribute 'plot'"
     ]
    },
    {
     "data": {
      "image/png": "[encoded data removed]",
      "text/plain": [
       "<Figure size 1440x1440 with 1 Axes>"
      ]
     },
     "metadata": {},
     "output_type": "display_data"
    }
   ],
   "source": [
    "app.closeModel()\n",
    "convergence_progress = pd.DataFrame(log)[['max','mean']]\n",
    "import matplotlib.pyplot as plt\n",
    "import matplotlib as mpl\n",
    "mpl.rcParams['font.size'] = 50.0\n",
    "fig = plt.figure(figsize = [20,20])\n",
    "fig.add_subplot(111)\n",
    "plot = fig.plot(convergence_progress)\n",
    "plot.xlabel(\"Generation\")\n",
    "plot.ylabel(\"Fitness\")\n",
    "fig.savefig(\"CalibrationConvergenceProgress.png\")"
   ]
  },
  {
   "cell_type": "code",
   "execution_count": null,
   "metadata": {},
   "outputs": [],
   "source": []
  }
 ],
 "metadata": {
  "kernelspec": {
   "display_name": "Python 3",
   "language": "python",
   "name": "python3"
  },
  "language_info": {
   "codemirror_mode": {
    "name": "ipython",
    "version": 3
   },
   "file_extension": ".py",
   "mimetype": "text/x-python",
   "name": "python",
   "nbconvert_exporter": "python",
   "pygments_lexer": "ipython3",
   "version": "3.6.5"
  }
 },
 "nbformat": 4,
 "nbformat_minor": 2
}
