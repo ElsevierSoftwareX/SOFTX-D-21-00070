{
 "cells": [
  {
   "cell_type": "markdown",
   "metadata": {},
   "source": [
    "# NetLogo calibration with NL4Py and DEAP"
   ]
  },
  {
   "cell_type": "markdown",
   "metadata": {},
   "source": [
    "In this example we use the DEAP library in combination with NL4Py to calibrate the Wolf Sheep Predation model using a simple evolutionary algorithm provided by DEAP.\n",
    "\n",
    "In this experiment, we calibrate the model to find the best parameter configuration able to produce a near-equilibrium state over the first 100 simulation ticks of the Wolf Sheep Predation model. In other words, the parameters that cause the populations of both wolves and sheep to vary as little as possilbe over the simulation run. "
   ]
  },
  {
   "cell_type": "code",
   "execution_count": 1,
   "metadata": {},
   "outputs": [
    {
     "name": "stdout",
     "output_type": "stream",
     "text": [
      "Downloading the NetLogo Controller Server jar file...\n",
      "Downloading the Py4j jar file...\n",
      "Dependencies installed successfully! \n",
      "Start the NetLogoControllerServer using nl4py.startServer()\n",
      "Shutting down old server instance...\n",
      "Server started.\n"
     ]
    }
   ],
   "source": [
    "import random\n",
    "from deap import base\n",
    "from deap import creator\n",
    "from deap import tools\n",
    "from deap import algorithms\n",
    "\n",
    "# In this experiment we intend to maximize fitness. Fitness is the measure of population stability, \n",
    "#  an indicator of equilibrium in the Wolf Sheep Predation model.\n",
    "creator.create(\"FitnessMax\", base.Fitness, weights=(1.0,))\n",
    "# An EA Individual is essentially a list of paramter values for our calibration purposes. Through \n",
    "#  calibration, we intend to find the Individual that produces the highest fitness, or the most\n",
    "#  stable population dynamics.\n",
    "creator.create(\"Individual\", list, fitness=creator.FitnessMax)\n",
    "toolbox = base.Toolbox()\n",
    "# Use nl4py to find the parameter names and ranges\n",
    "import nl4py\n",
    "# Start the NetLogoControllerServer.\n",
    "nl4py.startServer(\"/home/ubuntu/NetLogo 6.0.3/\")\n",
    "# Create a HeadlessWorkspace to read in the parameter names and ranges.\n",
    "n = nl4py.newNetLogoHeadlessWorkspace()\n",
    "# Open the model\n",
    "n.openModel(\"Wolf Sheep Predation.nlogo\")\n",
    "# Get the parameter names and ranges.\n",
    "parameterNames = n.getParamNames()\n",
    "parameterRanges = n.getParamRanges()\n",
    "parameterInitializers = []\n",
    "# Iterate over the names and ranges and create DEAP initializers for all the parameters of the model\n",
    "for parameterName, parameterRange in zip(parameterNames, parameterRanges):\n",
    "    parameterName = ''.join(filter(str.isalnum, str(parameterName)))\n",
    "    if len(parameterRange) == 3:\n",
    "        toolbox.register(parameterName, random.randrange, parameterRange[0], parameterRange[2], parameterRange[1]) #start stop step\n",
    "        parameterInitializers.append(eval(\"toolbox.\"+str(parameterName)))\n",
    "# Define the \"individual\" function in the DEAP toolbox which creates an Individual with a list of parameters\n",
    "#  within the range specified by the NetLogo model interface.\n",
    "toolbox.register(\"individual\", tools.initCycle, creator.Individual, tuple(parameterInitializers))\n",
    "# Define the \"population\" function in the DEAP toolbox\n",
    "toolbox.register(\"population\", tools.initRepeat, list, toolbox.individual)\n",
    "# Define hyperparameters of the evolutionary algorithm\n",
    "toolbox.register(\"mate\", tools.cxTwoPoint)\n",
    "lowerBounds = [row[1] for row in parameterRanges[:-2]]\n",
    "upperBounds = [row[2] for row in parameterRanges[:-2]]\n",
    "toolbox.register(\"mutate\", tools.mutUniformInt, low = lowerBounds, up = upperBounds, indpb=0.1)\n",
    "toolbox.register(\"select\", tools.selTournament, tournsize=3)\n"
   ]
  },
  {
   "cell_type": "markdown",
   "metadata": {},
   "source": [
    "Next, we define a simulation run. This involves:\n",
    "1. starting a NetLogoHeadlessWorkspace through NL4Py, \n",
    "2. opening the Wolf Sheep Predation model, \n",
    "3. setting the parameters to the values of the EA individual, \n",
    "4. running the simulation\n",
    "5. calculating the metric \n",
    "\n",
    "We define the metric as the stability of the population counts of the two species, without either going into extinction. for this we use first order derivatives per simulation time step and a heavy side function to score extinction as 0. High scores indicate more stable populations (closer to complete equilibrium). Please see the Sensitivity analysis Jupyter notebook for a mode detailed description of this calculation."
   ]
  },
  {
   "cell_type": "code",
   "execution_count": 2,
   "metadata": {},
   "outputs": [],
   "source": [
    "import time\n",
    "import pandas as pd\n",
    "import numpy as np\n",
    "def simulate(workspace_,names,values):\n",
    "    workspace_.command(\"stop\")\n",
    "    for name, value in zip(names, values):\n",
    "        cmd = 'set {0} {1}'.format(name, value)\n",
    "        workspace_.command(cmd)\n",
    "    workspace_.command('set model-version \"sheep-wolves-grass\"')\n",
    "    workspace_.command('setup')\n",
    "    workspace_.scheduleReportersAndRun([\"ticks\",'count sheep','count wolves'], 0,1,100,\"go\")    \n",
    "    newResults = []\n",
    "    while(len(newResults) == 0):\n",
    "        newResults = workspace_.getScheduledReporterResults()\n",
    "        if len(newResults) > 0:\n",
    "            ###Process simulation results###\n",
    "            df = pd.DataFrame(newResults)\n",
    "            sheep_pop = pd.to_numeric(df.iloc[:,1])\n",
    "            wolves_pop = pd.to_numeric(df.iloc[:,2])\n",
    "            #since time is in simulation ticks, this is the absolute rate of change of sheep population.\n",
    "            dsheep_dt = sheep_pop.diff().abs()\n",
    "            #since time is in simulation ticks, this is the absolute rate of change of wolf population.\n",
    "            dwolves_dt = wolves_pop.diff().abs()   \n",
    "            #Find population stabilities over time for species as reciprocal of derivatives multiplied by\n",
    "            # a heavyside function ensuring extinction is scored at 0.\n",
    "            population_stability_sheep = np.divide(1,(dsheep_dt + 0.000001)).mul(np.where(sheep_pop==0,0,1))\n",
    "            population_stability_wolves = np.divide(1,(dwolves_dt + 0.000001)).mul(np.where(wolves_pop==0,0,1))\n",
    "            #Find total population stability over time as the mean of population stabilities for both species.\n",
    "            population_stability_total = (population_stability_sheep + population_stability_wolves) / 2\n",
    "            #the aggregate metric is the mean, total population stability over time\n",
    "            aggregate_metric = population_stability_total.sum()/len(population_stability_total)\n",
    "            ###Done processing simulation results###\n",
    "            workspace_.command(\"stop\")\n",
    "            return aggregate_metric,\n",
    "        time.sleep(2)"
   ]
  },
  {
   "cell_type": "markdown",
   "metadata": {},
   "source": [
    "We setup Headless Workspaces for each EA individual. The HeadlessWorkspaces are reusable per population and are tracked as to when they are free to run another model evaluation"
   ]
  },
  {
   "cell_type": "code",
   "execution_count": 3,
   "metadata": {},
   "outputs": [],
   "source": [
    "nl4py.deleteAllHeadlessWorkspaces()\n",
    "POP = 200\n",
    "freeWorkspaces = []\n",
    "for i in range(0,POP):\n",
    "    n = nl4py.newNetLogoHeadlessWorkspace()\n",
    "    n.openModel('Wolf Sheep Predation.nlogo')\n",
    "    freeWorkspaces.append(n)"
   ]
  },
  {
   "cell_type": "markdown",
   "metadata": {},
   "source": [
    "The EA individual evaluation is defined as a simulation run of the model for the parameter values specified and reports the total stability metric of the population. "
   ]
  },
  {
   "cell_type": "code",
   "execution_count": 4,
   "metadata": {},
   "outputs": [],
   "source": [
    "def evaluateWolfSheepPredation(individual):\n",
    "    n = freeWorkspaces[0]\n",
    "    freeWorkspaces.remove(n)\n",
    "    result = simulate(n,parameterNames,individual)\n",
    "    freeWorkspaces.append(n)\n",
    "    return result\n",
    "toolbox.register(\"evaluate\", evaluateWolfSheepPredation)"
   ]
  },
  {
   "cell_type": "markdown",
   "metadata": {},
   "source": [
    "We now define the statistics we are interested in tracking and run the EA with custom hyperparameters."
   ]
  },
  {
   "cell_type": "code",
   "execution_count": null,
   "metadata": {},
   "outputs": [],
   "source": [
    "stats = tools.Statistics(key = lambda ind: ind.fitness.values)\n",
    "stats.register(\"max\",np.max)\n",
    "stats.register(\"mean\",np.mean)\n",
    "hof = tools.HallOfFame(1) \n",
    "final_pop, log= algorithms.eaSimple(toolbox.population(n=POP), toolbox, cxpb=0.8, mutpb=0.2, ngen=100,stats = stats,halloffame = hof)"
   ]
  },
  {
   "cell_type": "code",
   "execution_count": null,
   "metadata": {},
   "outputs": [],
   "source": [
    "print(\"Summary of the calibration process with max and mean fitness per generation:\")\n",
    "print(log)\n",
    "print(\"The best individual over the complete calibration:\")\n",
    "print(hof)"
   ]
  },
  {
   "cell_type": "markdown",
   "metadata": {},
   "source": [
    "We can now plot the results..."
   ]
  },
  {
   "cell_type": "code",
   "execution_count": 12,
   "metadata": {},
   "outputs": [
    {
     "data": {
      "text/plain": [
       "[250.0, 50.0, 20.0, 250.0, 100.0, 20.0, 100.0]"
      ]
     },
     "execution_count": 12,
     "metadata": {},
     "output_type": "execute_result"
    }
   ],
   "source": []
  },
  {
   "cell_type": "code",
   "execution_count": null,
   "metadata": {},
   "outputs": [],
   "source": []
  }
 ],
 "metadata": {
  "kernelspec": {
   "display_name": "Python 3",
   "language": "python",
   "name": "python3"
  },
  "language_info": {
   "codemirror_mode": {
    "name": "ipython",
    "version": 3
   },
   "file_extension": ".py",
   "mimetype": "text/x-python",
   "name": "python",
   "nbconvert_exporter": "python",
   "pygments_lexer": "ipython3",
   "version": "3.6.5"
  }
 },
 "nbformat": 4,
 "nbformat_minor": 2
}
