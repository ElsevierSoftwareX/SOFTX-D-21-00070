{
 "cells": [
  {
   "cell_type": "markdown",
   "metadata": {},
   "source": [
    "<h1><center>This is a demonstration of NL4Py</center></h1>"
   ]
  },
  {
   "cell_type": "code",
   "execution_count": 46,
   "metadata": {},
   "outputs": [],
   "source": [
    "# some_file.py\n",
    "import sys\n",
    "sys.path.insert(0, 'C:\\\\Users\\\\ch328575\\\\Documents\\\\Projects\\\\NL4Py\\\\src')\n",
    "\n",
    "import NL4Py\n",
    "#import NL4Py.py"
   ]
  },
  {
   "cell_type": "code",
   "execution_count": 47,
   "metadata": {},
   "outputs": [],
   "source": [
    "n = NetLogo_HeadlessWorkspace()\n",
    "n.openModel('C:/Program Files/NetLogo 6.0.2/app/models/Sample Models/Earth Science/Fire.nlogo')"
   ]
  },
  {
   "cell_type": "code",
   "execution_count": 48,
   "metadata": {},
   "outputs": [
    {
     "data": {
      "text/plain": [
       "0.44992175273865415"
      ]
     },
     "execution_count": 48,
     "metadata": {},
     "output_type": "execute_result"
    }
   ],
   "source": [
    "n.command('setup')\n",
    "n.command('go')\n",
    "n.report('(burned-trees / initial-trees)* 100')"
   ]
  },
  {
   "cell_type": "code",
   "execution_count": 49,
   "metadata": {},
   "outputs": [
    {
     "name": "stdout",
     "output_type": "stream",
     "text": [
      "0\n",
      "0.40822032713546763\n",
      "1\n",
      "0.3656664340544313\n",
      "2\n",
      "0.42922066992088875\n",
      "3\n",
      "0.3930094489505811\n",
      "4\n",
      "0.40847371682911715\n",
      "5\n",
      "0.3770528432577366\n",
      "6\n",
      "0.4127506484089578\n",
      "7\n",
      "0.3943677618240897\n",
      "8\n",
      "0.4159874079487324\n",
      "9\n",
      "0.4030565118817701\n"
     ]
    }
   ],
   "source": [
    "for i in range(0,10):\n",
    "    print(i)\n",
    "    n = NetLogo_HeadlessWorkspace()\n",
    "    n.openModel('C:/Program Files/NetLogo 6.0.2/app/models/Sample Models/Earth Science/Fire.nlogo')\n",
    "    n.command('setup')\n",
    "    n.command('go')\n",
    "    print(n.report('(burned-trees / initial-trees)* 100'))"
   ]
  },
  {
   "cell_type": "code",
   "execution_count": 35,
   "metadata": {},
   "outputs": [
    {
     "name": "stdout",
     "output_type": "stream",
     "text": [
      "range(1, 10)\n"
     ]
    }
   ],
   "source": [
    "print(range(1,10))"
   ]
  },
  {
   "cell_type": "code",
   "execution_count": null,
   "metadata": {
    "collapsed": true
   },
   "outputs": [],
   "source": []
  }
 ],
 "metadata": {
  "kernelspec": {
   "display_name": "Python 3",
   "language": "python",
   "name": "python3"
  },
  "language_info": {
   "codemirror_mode": {
    "name": "ipython",
    "version": 3
   },
   "file_extension": ".py",
   "mimetype": "text/x-python",
   "name": "python",
   "nbconvert_exporter": "python",
   "pygments_lexer": "ipython3",
   "version": "3.6.2"
  }
 },
 "nbformat": 4,
 "nbformat_minor": 2
}
