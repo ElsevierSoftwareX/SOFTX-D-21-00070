{
 "cells": [
  {
   "cell_type": "markdown",
   "metadata": {},
   "source": [
    "<h1><center>This is a demonstration of NL4Py in Use</center></h1>"
   ]
  },
  {
   "cell_type": "code",
   "execution_count": 1,
   "metadata": {},
   "outputs": [
    {
     "name": "stdout",
     "output_type": "stream",
     "text": [
      "Downloading the NetLogo Controller Server jar file...\n",
      "Downloading the Py4j jar file...\n",
      "Dependencies installed successfully!\n",
      "Shutting down old server instance...\n",
      "Starting up server...\n",
      "Server started!\n"
     ]
    }
   ],
   "source": [
    "#Uncomment the line below if you haven't previously installed nl4py\n",
    "#!pip install nl4py\n",
    "#If you  haven't already please set the environment variable NETLOGO_APP to point to the \"app\" directory\n",
    "#in your NetLogo installation and restart Python.\n",
    "import nl4py"
   ]
  },
  {
   "cell_type": "markdown",
   "metadata": {},
   "source": [
    "<h3><center>Set up and execute 200 concurrent runs of the \"Fire\" model in the NetLogo examples</center></h3>"
   ]
  },
  {
   "cell_type": "code",
   "execution_count": 2,
   "metadata": {
    "scrolled": true
   },
   "outputs": [
    {
     "name": "stdout",
     "output_type": "stream",
     "text": [
      "NetLogo command: set density 34.0\n",
      "NetLogo command: set density 64.0\n",
      "NetLogo command: set density 30.0\n",
      "NetLogo command: set density 39.0\n",
      "NetLogo command: set density 28.0\n",
      "NetLogo command: set density 6.0\n",
      "NetLogo command: set density 59.0\n",
      "NetLogo command: set density 32.0\n",
      "NetLogo command: set density 80.0\n",
      "NetLogo command: set density 33.0\n",
      "NetLogo command: set density 70.0\n",
      "NetLogo command: set density 15.0\n",
      "NetLogo command: set density 97.0\n",
      "NetLogo command: set density 52.0\n",
      "NetLogo command: set density 26.0\n",
      "NetLogo command: set density 45.0\n",
      "NetLogo command: set density 22.0\n",
      "NetLogo command: set density 67.0\n",
      "NetLogo command: set density 33.0\n",
      "NetLogo command: set density 64.0\n",
      "NetLogo command: set density 94.0\n",
      "NetLogo command: set density 8.0\n",
      "NetLogo command: set density 68.0\n",
      "NetLogo command: set density 81.0\n",
      "NetLogo command: set density 56.0\n",
      "NetLogo command: set density 44.0\n",
      "NetLogo command: set density 9.0\n",
      "NetLogo command: set density 98.0\n",
      "NetLogo command: set density 40.0\n",
      "NetLogo command: set density 92.0\n",
      "NetLogo command: set density 14.0\n",
      "NetLogo command: set density 47.0\n",
      "NetLogo command: set density 23.0\n",
      "NetLogo command: set density 21.0\n",
      "NetLogo command: set density 53.0\n",
      "NetLogo command: set density 28.0\n",
      "NetLogo command: set density 83.0\n",
      "NetLogo command: set density 63.0\n",
      "NetLogo command: set density 60.0\n",
      "NetLogo command: set density 41.0\n",
      "NetLogo command: set density 54.0\n",
      "NetLogo command: set density 91.0\n",
      "NetLogo command: set density 57.0\n",
      "NetLogo command: set density 87.0\n",
      "NetLogo command: set density 77.0\n",
      "NetLogo command: set density 85.0\n",
      "NetLogo command: set density 87.0\n",
      "NetLogo command: set density 42.0\n",
      "NetLogo command: set density 65.0\n",
      "NetLogo command: set density 69.0\n",
      "NetLogo command: set density 22.0\n",
      "NetLogo command: set density 66.0\n",
      "NetLogo command: set density 9.0\n",
      "NetLogo command: set density 1.0\n",
      "NetLogo command: set density 76.0\n",
      "NetLogo command: set density 2.0\n",
      "NetLogo command: set density 39.0\n",
      "NetLogo command: set density 39.0\n",
      "NetLogo command: set density 2.0\n",
      "NetLogo command: set density 81.0\n",
      "NetLogo command: set density 73.0\n",
      "NetLogo command: set density 68.0\n",
      "NetLogo command: set density 81.0\n",
      "NetLogo command: set density 67.0\n",
      "NetLogo command: set density 38.0\n",
      "NetLogo command: set density 18.0\n",
      "NetLogo command: set density 1.0\n",
      "NetLogo command: set density 90.0\n",
      "NetLogo command: set density 41.0\n",
      "NetLogo command: set density 47.0\n",
      "NetLogo command: set density 43.0\n",
      "NetLogo command: set density 79.0\n",
      "NetLogo command: set density 13.0\n",
      "NetLogo command: set density 6.0\n",
      "NetLogo command: set density 50.0\n",
      "NetLogo command: set density 8.0\n",
      "NetLogo command: set density 15.0\n",
      "NetLogo command: set density 82.0\n",
      "NetLogo command: set density 78.0\n",
      "NetLogo command: set density 18.0\n",
      "NetLogo command: set density 44.0\n",
      "NetLogo command: set density 68.0\n",
      "NetLogo command: set density 1.0\n",
      "NetLogo command: set density 67.0\n",
      "NetLogo command: set density 43.0\n",
      "NetLogo command: set density 98.0\n",
      "NetLogo command: set density 95.0\n",
      "NetLogo command: set density 38.0\n",
      "NetLogo command: set density 80.0\n",
      "NetLogo command: set density 8.0\n",
      "NetLogo command: set density 9.0\n",
      "NetLogo command: set density 90.0\n",
      "NetLogo command: set density 92.0\n",
      "NetLogo command: set density 32.0\n",
      "NetLogo command: set density 82.0\n",
      "NetLogo command: set density 95.0\n",
      "NetLogo command: set density 74.0\n",
      "NetLogo command: set density 8.0\n",
      "NetLogo command: set density 86.0\n",
      "NetLogo command: set density 29.0\n",
      "NetLogo command: set density 88.0\n",
      "NetLogo command: set density 70.0\n",
      "NetLogo command: set density 57.0\n",
      "NetLogo command: set density 72.0\n",
      "NetLogo command: set density 23.0\n",
      "NetLogo command: set density 91.0\n",
      "NetLogo command: set density 92.0\n",
      "NetLogo command: set density 78.0\n",
      "NetLogo command: set density 82.0\n",
      "NetLogo command: set density 69.0\n",
      "NetLogo command: set density 74.0\n",
      "NetLogo command: set density 82.0\n",
      "NetLogo command: set density 21.0\n",
      "NetLogo command: set density 5.0\n",
      "NetLogo command: set density 26.0\n",
      "NetLogo command: set density 6.0\n",
      "NetLogo command: set density 22.0\n",
      "NetLogo command: set density 67.0\n",
      "NetLogo command: set density 14.0\n",
      "NetLogo command: set density 80.0\n",
      "NetLogo command: set density 3.0\n",
      "NetLogo command: set density 66.0\n",
      "NetLogo command: set density 91.0\n",
      "NetLogo command: set density 0.0\n",
      "NetLogo command: set density 5.0\n",
      "NetLogo command: set density 19.0\n",
      "NetLogo command: set density 67.0\n",
      "NetLogo command: set density 49.0\n",
      "NetLogo command: set density 4.0\n",
      "NetLogo command: set density 15.0\n",
      "NetLogo command: set density 5.0\n",
      "NetLogo command: set density 45.0\n",
      "NetLogo command: set density 30.0\n",
      "NetLogo command: set density 41.0\n",
      "NetLogo command: set density 37.0\n",
      "NetLogo command: set density 63.0\n",
      "NetLogo command: set density 8.0\n",
      "NetLogo command: set density 89.0\n",
      "NetLogo command: set density 75.0\n",
      "NetLogo command: set density 63.0\n",
      "NetLogo command: set density 49.0\n",
      "NetLogo command: set density 41.0\n",
      "NetLogo command: set density 51.0\n",
      "NetLogo command: set density 52.0\n",
      "NetLogo command: set density 60.0\n",
      "NetLogo command: set density 24.0\n",
      "NetLogo command: set density 65.0\n",
      "NetLogo command: set density 74.0\n",
      "NetLogo command: set density 95.0\n",
      "NetLogo command: set density 29.0\n",
      "NetLogo command: set density 72.0\n",
      "NetLogo command: set density 67.0\n",
      "NetLogo command: set density 98.0\n",
      "NetLogo command: set density 53.0\n",
      "NetLogo command: set density 74.0\n",
      "NetLogo command: set density 50.0\n",
      "NetLogo command: set density 10.0\n",
      "NetLogo command: set density 14.0\n",
      "NetLogo command: set density 97.0\n",
      "NetLogo command: set density 52.0\n",
      "NetLogo command: set density 33.0\n",
      "NetLogo command: set density 43.0\n",
      "NetLogo command: set density 25.0\n",
      "NetLogo command: set density 40.0\n",
      "NetLogo command: set density 53.0\n",
      "NetLogo command: set density 56.0\n",
      "NetLogo command: set density 12.0\n",
      "NetLogo command: set density 32.0\n",
      "NetLogo command: set density 4.0\n",
      "NetLogo command: set density 95.0\n",
      "NetLogo command: set density 37.0\n",
      "NetLogo command: set density 6.0\n",
      "NetLogo command: set density 11.0\n",
      "NetLogo command: set density 56.0\n",
      "NetLogo command: set density 0.0\n",
      "NetLogo command: set density 0.0\n",
      "NetLogo command: set density 63.0\n",
      "NetLogo command: set density 86.0\n",
      "NetLogo command: set density 80.0\n",
      "NetLogo command: set density 64.0\n",
      "NetLogo command: set density 53.0\n",
      "NetLogo command: set density 5.0\n",
      "NetLogo command: set density 41.0\n",
      "NetLogo command: set density 73.0\n",
      "NetLogo command: set density 65.0\n",
      "NetLogo command: set density 64.0\n",
      "NetLogo command: set density 67.0\n",
      "NetLogo command: set density 5.0\n",
      "NetLogo command: set density 21.0\n",
      "NetLogo command: set density 44.0\n",
      "NetLogo command: set density 47.0\n",
      "NetLogo command: set density 94.0\n",
      "NetLogo command: set density 12.0\n",
      "NetLogo command: set density 1.0\n",
      "NetLogo command: set density 48.0\n",
      "NetLogo command: set density 71.0\n",
      "NetLogo command: set density 7.0\n",
      "NetLogo command: set density 13.0\n",
      "NetLogo command: set density 58.0\n",
      "NetLogo command: set density 7.0\n",
      "All runs started!\n"
     ]
    }
   ],
   "source": [
    "model_name = \"C:/Program Files/NetLogo 6.0.2/app/models/Sample Models/Earth Science/Fire.nlogo\"\n",
    "#The Fire.nlogo model has its own stop condition, so let it run as long as it has to\n",
    "sim_time = 10000000\n",
    "#Let's do 200 concurrent runs of this model\n",
    "concurrent_runs = 200\n",
    "for i in range(0,concurrent_runs):\n",
    "    n = nl4py.netlogoWorkspaceFactory.newNetLogoHeadlessWorkspace()\n",
    "    n.openModel(model_name)\n",
    "    n.setParamsRandom()    \n",
    "i = 0\n",
    "for workspace in nl4py.netlogoWorkspaceFactory.getAllExistingWorkspaces():\n",
    "    workspace.command(\"setup\")\n",
    "    workspace.command(\"repeat 10000000 [go]\")\n",
    "    i = i + 1 \n",
    "if(i == concurrent_runs):\n",
    "    print(\"All runs started!\")\n",
    "   "
   ]
  },
  {
   "cell_type": "markdown",
   "metadata": {},
   "source": [
    "<h3><center>Get all your workspaces and report simulation status back</center></h3>"
   ]
  },
  {
   "cell_type": "code",
   "execution_count": 3,
   "metadata": {},
   "outputs": [
    {
     "name": "stdout",
     "output_type": "stream",
     "text": [
      "All runs are done!\n",
      "The mean percentage of burned trees is  40.84825876207633\n"
     ]
    }
   ],
   "source": [
    "#Wait until all the runs have stopped\n",
    "import time\n",
    "\n",
    "all_runs_stopped = False\n",
    "while(all_runs_stopped == True):    \n",
    "    for workspace in nl4py.netlogoWorkspaceFactory.getAllExistingWorkspaces():\n",
    "        model_stopped = workspace.report(\"not any? turtles\")\n",
    "        all_runs_stopped = True\n",
    "        if(model_stopped):\n",
    "            all_runs_stopped = False\n",
    "    #Wait for a bit before checking on simulations again\n",
    "    time.sleep(2)\n",
    "if(all_runs_stopped):\n",
    "    print(\"All runs are done!\")\n",
    "#Get back the results!\n",
    "result = 0\n",
    "for workspace in nl4py.netlogoWorkspaceFactory.getAllExistingWorkspaces():\n",
    "    percent_burned = workspace.report(\"(burned-trees / initial-trees) * 100\")\n",
    "    #The Fire.nlogo example measures the percent of burned trees as the simulation outcome\n",
    "    result = result + percent_burned\n",
    "#Find the mean result\n",
    "result = result / concurrent_runs\n",
    "print(\"The mean percentage of burned trees is \", result)\n",
    "#Clear out the workspaces to free resources\n",
    "nl4py.netlogoWorkspaceFactory.deleteAllExistingWorkspaces()"
   ]
  },
  {
   "cell_type": "markdown",
   "metadata": {
    "collapsed": true
   },
   "source": [
    "<h3><center>Check the parameter configuration of the \"Ethnocentrism\" model in the NetLogo examples</center></h3>"
   ]
  },
  {
   "cell_type": "code",
   "execution_count": 4,
   "metadata": {},
   "outputs": [
    {
     "name": "stdout",
     "output_type": "stream",
     "text": [
      "['mutation-rate', 'death-rate', 'immigrants-per-day', 'initial-ptr', 'cost-of-giving', 'gain-of-receiving', 'immigrant-chance-cooperate-with-same', 'immigrant-chance-cooperate-with-different']\n",
      "[[1.0, 0.001, 1.0], [1.0, 0.05, 1.0], [100.0, 1.0, 100.0], [1.0, 0.01, 1.0], [1.0, 0.01, 1.0], [1.0, 0.01, 1.0], [1.0, 0.01, 1.0], [1.0, 0.01, 1.0]]\n"
     ]
    }
   ],
   "source": [
    "n = nl4py.netlogoWorkspaceFactory.newNetLogoHeadlessWorkspace()\n",
    "model_name = \"C:/Program Files/NetLogo 6.0.2/app/models/Sample Models/Social Science/Ethnocentrism.nlogo\"\n",
    "n.openModel(model_name)\n",
    "print(n.getParamNames())\n",
    "print(n.getParamRanges())\n",
    "n.closeModel()\n",
    "nl4py.netlogoWorkspaceFactory.deleteAllExistingWorkspaces()"
   ]
  },
  {
   "cell_type": "markdown",
   "metadata": {
    "collapsed": true
   },
   "source": [
    "<h3><center>Fix the parameter configuration of 100 runs of the \"Ethnocentrism\" model </center></h3>"
   ]
  },
  {
   "cell_type": "code",
   "execution_count": 5,
   "metadata": {},
   "outputs": [
    {
     "name": "stdout",
     "output_type": "stream",
     "text": [
      "All runs started!\n"
     ]
    }
   ],
   "source": [
    "model_name = \"C:/Program Files/NetLogo 6.0.2/app/models/Sample Models/Social Science/Ethnocentrism.nlogo\"\n",
    "#Let's use the following string to fix the parameters of our runs\n",
    "parameter_commands = ('set mutation-rate 0.005 '\n",
    "            'set immigrants-per-day 1 '\n",
    "            'set initial-ptr 0.12 ' \n",
    "            'set cost-of-giving 0.01 ' \n",
    "            'set gain-of-receiving 0.03 ' \n",
    "            'set immigrant-chance-cooperate-with-same 0.5 ' \n",
    "            'set immigrant-chance-cooperate-with-different 0.5 ')\n",
    "#The Ethnocentrism.nlogo model doesn't have it's own stop condition, let's run it for 2000 ticks\n",
    "sim_time = 2000\n",
    "#Let's do 100 concurrent runs of this model\n",
    "concurrent_runs = 100\n",
    "for i in range(0,concurrent_runs):\n",
    "    n = nl4py.netlogoWorkspaceFactory.newNetLogoHeadlessWorkspace()\n",
    "    n.openModel(model_name)\n",
    "    n.command(parameter_commands)\n",
    "i = 0\n",
    "#Set up and run!\n",
    "for workspace in nl4py.netlogoWorkspaceFactory.getAllExistingWorkspaces():\n",
    "    #The ethnocentrism model has two setup methods, setup-empty and setup-full, let's use setup-empty\n",
    "    workspace.command(\"setup-empty\")\n",
    "    workspace.command(\"repeat 200 [go]\")\n",
    "    #print(\"model \" + str(i) + \" started.\") \n",
    "    i = i + 1\n",
    "if (i == concurrent_runs):\n",
    "    print(\"All runs started!\")"
   ]
  },
  {
   "cell_type": "markdown",
   "metadata": {},
   "source": [
    "<h3><center>Check if all the runs are done and report the results</center></h3>"
   ]
  },
  {
   "cell_type": "code",
   "execution_count": 6,
   "metadata": {},
   "outputs": [
    {
     "name": "stdout",
     "output_type": "stream",
     "text": [
      "All runs are done!\n",
      "Mean CC:  370.71 Mean CD:  444.38 Mean DC:  78.3 Mean DD:  89.17\n"
     ]
    }
   ],
   "source": [
    "#Wait until all the runs have stopped\n",
    "import time\n",
    "\n",
    "all_runs_stopped = False\n",
    "while(all_runs_stopped == False):    \n",
    "    for workspace in nl4py.netlogoWorkspaceFactory.getAllExistingWorkspaces():\n",
    "        #check if model is done by checking the number of ticks\n",
    "        model_stopped = workspace.report(\"ticks\") == sim_time\n",
    "        all_runs_stopped = True\n",
    "        if(model_stopped):\n",
    "            all_runs_stopped = False\n",
    "    #Wait for a bit before checking on simulations again\n",
    "    time.sleep(2)\n",
    "if(all_runs_stopped):\n",
    "    print(\"All runs are done!\")\n",
    "#Get back the results, Ethnocentrism has four counters\n",
    "CC_mean = 0\n",
    "CD_mean = 0\n",
    "DC_mean = 0\n",
    "DD_mean = 0\n",
    "for workspace in nl4py.netlogoWorkspaceFactory.getAllExistingWorkspaces():\n",
    "    CC_run = workspace.report('count turtles with [shape = \"circle\"]')\n",
    "    CD_run = workspace.report('count turtles with [shape = \"circle 2\"]')\n",
    "    DC_run = workspace.report('count turtles with [shape = \"square\"]')\n",
    "    DD_run = workspace.report('count turtles with [shape = \"square 2\"]')\n",
    "    #The Fire.nlogo example measures the percent of burned trees as the simulation outcome\n",
    "    CC_mean = CC_mean + CC_run\n",
    "    CD_mean = CD_mean + CD_run\n",
    "    DC_mean = DC_mean + DC_run\n",
    "    DD_mean = DD_mean + DD_run\n",
    "#Find the mean result\n",
    "CC_mean = CC_mean / concurrent_runs\n",
    "CD_mean = CD_mean / concurrent_runs\n",
    "DC_mean = DC_mean / concurrent_runs\n",
    "DD_mean = DD_mean / concurrent_runs\n",
    "print(\"Mean CC: \", CC_mean, \"Mean CD: \", CD_mean, \"Mean DC: \", DC_mean, \"Mean DD: \", DD_mean,)\n",
    "#Clear out the workspaces to free resources\n",
    "nl4py.netlogoWorkspaceFactory.deleteAllExistingWorkspaces()"
   ]
  }
 ],
 "metadata": {
  "kernelspec": {
   "display_name": "Python 3",
   "language": "python",
   "name": "python3"
  },
  "language_info": {
   "codemirror_mode": {
    "name": "ipython",
    "version": 3
   },
   "file_extension": ".py",
   "mimetype": "text/x-python",
   "name": "python",
   "nbconvert_exporter": "python",
   "pygments_lexer": "ipython3",
   "version": "3.6.2"
  }
 },
 "nbformat": 4,
 "nbformat_minor": 2
}
