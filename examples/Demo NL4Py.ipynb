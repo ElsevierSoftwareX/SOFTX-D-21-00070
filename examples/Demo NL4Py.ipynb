{
 "cells": [
  {
   "cell_type": "markdown",
   "metadata": {},
   "source": [
    "<h1><center>This is a demonstration of NL4Py in Use</center></h1>"
   ]
  },
  {
   "cell_type": "code",
   "execution_count": 1,
   "metadata": {},
   "outputs": [
    {
     "name": "stdout",
     "output_type": "stream",
     "text": [
      "Downloading the NetLogo Controller Server jar file...\n",
      "Downloading the Py4j jar file...\n",
      "Dependencies installed successfully!\n",
      "Starting up server...\n",
      "Shutting down old server instances...\n",
      "Server up and ready!\n"
     ]
    }
   ],
   "source": [
    "#!pip install nl4py\n",
    "import nl4py"
   ]
  },
  {
   "cell_type": "markdown",
   "metadata": {},
   "source": [
    "<h2><center>Create and run 10 NetLogo models on 10 HeadlessWorkspaces concurrently</center></h2>"
   ]
  },
  {
   "cell_type": "code",
   "execution_count": 24,
   "metadata": {
    "scrolled": true
   },
   "outputs": [
    {
     "name": "stdout",
     "output_type": "stream",
     "text": [
      "started\n",
      "4.499999999999998\n",
      "2.833333333333327\n",
      "4.499999999999998\n",
      "6.999999999999675\n",
      "2.333333333333334\n",
      "2.9999999999999782\n",
      "8.9999999594858\n",
      "4.499953124872964\n",
      "1.0\n",
      "3.430376808604077\n"
     ]
    }
   ],
   "source": [
    "workspaces = []\n",
    "for i in range(0,10):\n",
    "    n = nl4py.NetLogo_HeadlessWorkspace()\n",
    "    n.openModel(\"C:\\\\Users\\\\ch328575\\\\Desktop\\\\Diffusion on a Directed Network.nlogo\")\n",
    "    #n.setParamsRandom()\n",
    "    n.command('setup')\n",
    "    n.command('repeat 10000000 [go]')\n",
    "    workspaces.append(n)\n",
    "print(\"started\")\n",
    "#print(n.report(\"ticks\"))\n",
    "for workspace in workspaces:\n",
    "    print(workspace.report(\"max-val\"))\n",
    "            "
   ]
  },
  {
   "cell_type": "code",
   "execution_count": 3,
   "metadata": {},
   "outputs": [
    {
     "name": "stdout",
     "output_type": "stream",
     "text": [
      "NetLogo command: set link-chance 17.0\n",
      "NetLogo command: set grid-size 19.0\n",
      "NetLogo command: set diffusion-rate 52.0\n",
      "NetLogo command: set link-chance 38.0\n",
      "NetLogo command: set grid-size 15.0\n",
      "NetLogo command: set diffusion-rate 79.0\n"
     ]
    }
   ],
   "source": [
    "n1 = nl4py.NetLogo_HeadlessWorkspace()\n",
    "n1.openModel(\"C:\\\\Program Files\\\\NetLogo 6.0.2\\\\app\\\\models\\\\Sample Models\\\\Networks\\\\Diffusion on a Directed Network.nlogo\")\n",
    "n1.setParamsRandom()\n",
    "n1.command('setup')\n",
    "n1.command('repeat 10000000 [go]')\n",
    "n2 = nl4py.NetLogo_HeadlessWorkspace()\n",
    "n2.openModel(\"C:\\\\Program Files\\\\NetLogo 6.0.2\\\\app\\\\models\\\\Sample Models\\\\Networks\\\\Diffusion on a Directed Network.nlogo\")\n",
    "n2.setParamsRandom()\n",
    "n2.command('setup')\n",
    "n2.report('ticks')\n",
    "n2.command('repeat 10000000 [go]')\n"
   ]
  },
  {
   "cell_type": "code",
   "execution_count": 30,
   "metadata": {},
   "outputs": [
    {
     "name": "stdout",
     "output_type": "stream",
     "text": [
      "620870.0\n",
      "615776.0\n",
      "626827.0\n",
      "653573.0\n",
      "622089.0\n",
      "637793.0\n",
      "652426.0\n",
      "639262.0\n",
      "0.0\n"
     ]
    },
    {
     "ename": "Py4JJavaError",
     "evalue": "An error occurred while calling t.report.\n: java.lang.NullPointerException: No NetLogo HeadlessWorkspace exists for that session id\r\n\tat nl4py.server.NetLogoControllerServer.getControllerFromStore(NetLogoControllerServer.java:141)\r\n\tat nl4py.server.NetLogoControllerServer.report(NetLogoControllerServer.java:124)\r\n\tat sun.reflect.GeneratedMethodAccessor2.invoke(Unknown Source)\r\n\tat sun.reflect.DelegatingMethodAccessorImpl.invoke(Unknown Source)\r\n\tat java.lang.reflect.Method.invoke(Unknown Source)\r\n\tat py4j.reflection.MethodInvoker.invoke(MethodInvoker.java:244)\r\n\tat py4j.reflection.ReflectionEngine.invoke(ReflectionEngine.java:357)\r\n\tat py4j.Gateway.invoke(Gateway.java:282)\r\n\tat py4j.commands.AbstractCommand.invokeMethod(AbstractCommand.java:132)\r\n\tat py4j.commands.CallCommand.execute(CallCommand.java:79)\r\n\tat py4j.GatewayConnection.run(GatewayConnection.java:214)\r\n\tat java.lang.Thread.run(Unknown Source)\r\n",
     "output_type": "error",
     "traceback": [
      "\u001b[1;31m---------------------------------------------------------------------------\u001b[0m",
      "\u001b[1;31mPy4JJavaError\u001b[0m                             Traceback (most recent call last)",
      "\u001b[1;32m<ipython-input-30-80482cf4bbad>\u001b[0m in \u001b[0;36m<module>\u001b[1;34m()\u001b[0m\n\u001b[0;32m      1\u001b[0m \u001b[1;32mfor\u001b[0m \u001b[0mworkspace\u001b[0m \u001b[1;32min\u001b[0m \u001b[0mworkspaces\u001b[0m\u001b[1;33m:\u001b[0m\u001b[1;33m\u001b[0m\u001b[0m\n\u001b[1;32m----> 2\u001b[1;33m     \u001b[0mprint\u001b[0m\u001b[1;33m(\u001b[0m\u001b[0mworkspace\u001b[0m\u001b[1;33m.\u001b[0m\u001b[0mreport\u001b[0m\u001b[1;33m(\u001b[0m\u001b[1;34m\"ticks\"\u001b[0m\u001b[1;33m)\u001b[0m\u001b[1;33m)\u001b[0m\u001b[1;33m\u001b[0m\u001b[0m\n\u001b[0m",
      "\u001b[1;32m~\\AppData\\Local\\Continuum\\Anaconda2\\envs\\Python3\\lib\\site-packages\\nl4py\\NetLogo_HeadlessWorkspace.py\u001b[0m in \u001b[0;36mreport\u001b[1;34m(self, command)\u001b[0m\n\u001b[0;32m     67\u001b[0m     \u001b[1;34m'''reporter on its HeadlessWorkspace object'''\u001b[0m\u001b[1;33m\u001b[0m\u001b[0m\n\u001b[0;32m     68\u001b[0m     \u001b[1;32mdef\u001b[0m \u001b[0mreport\u001b[0m\u001b[1;33m(\u001b[0m\u001b[0mself\u001b[0m\u001b[1;33m,\u001b[0m \u001b[0mcommand\u001b[0m\u001b[1;33m)\u001b[0m\u001b[1;33m:\u001b[0m\u001b[1;33m\u001b[0m\u001b[0m\n\u001b[1;32m---> 69\u001b[1;33m         \u001b[0mresult\u001b[0m \u001b[1;33m=\u001b[0m \u001b[0mself\u001b[0m\u001b[1;33m.\u001b[0m\u001b[0m__bridge\u001b[0m\u001b[1;33m.\u001b[0m\u001b[0mreport\u001b[0m\u001b[1;33m(\u001b[0m\u001b[0mself\u001b[0m\u001b[1;33m.\u001b[0m\u001b[0m__session\u001b[0m\u001b[1;33m,\u001b[0m \u001b[0mcommand\u001b[0m\u001b[1;33m)\u001b[0m\u001b[1;33m\u001b[0m\u001b[0m\n\u001b[0m\u001b[0;32m     70\u001b[0m         \u001b[1;32mreturn\u001b[0m \u001b[0mresult\u001b[0m\u001b[1;33m\u001b[0m\u001b[0m\n\u001b[0;32m     71\u001b[0m     \u001b[1;34m'''Sends a signal to the server to tell the respective controller to get the'''\u001b[0m\u001b[1;33m\u001b[0m\u001b[0m\n",
      "\u001b[1;32m~\\AppData\\Local\\Continuum\\Anaconda2\\envs\\Python3\\lib\\site-packages\\py4j\\java_gateway.py\u001b[0m in \u001b[0;36m__call__\u001b[1;34m(self, *args)\u001b[0m\n\u001b[0;32m   1158\u001b[0m         \u001b[0manswer\u001b[0m \u001b[1;33m=\u001b[0m \u001b[0mself\u001b[0m\u001b[1;33m.\u001b[0m\u001b[0mgateway_client\u001b[0m\u001b[1;33m.\u001b[0m\u001b[0msend_command\u001b[0m\u001b[1;33m(\u001b[0m\u001b[0mcommand\u001b[0m\u001b[1;33m)\u001b[0m\u001b[1;33m\u001b[0m\u001b[0m\n\u001b[0;32m   1159\u001b[0m         return_value = get_return_value(\n\u001b[1;32m-> 1160\u001b[1;33m             answer, self.gateway_client, self.target_id, self.name)\n\u001b[0m\u001b[0;32m   1161\u001b[0m \u001b[1;33m\u001b[0m\u001b[0m\n\u001b[0;32m   1162\u001b[0m         \u001b[1;32mfor\u001b[0m \u001b[0mtemp_arg\u001b[0m \u001b[1;32min\u001b[0m \u001b[0mtemp_args\u001b[0m\u001b[1;33m:\u001b[0m\u001b[1;33m\u001b[0m\u001b[0m\n",
      "\u001b[1;32m~\\AppData\\Local\\Continuum\\Anaconda2\\envs\\Python3\\lib\\site-packages\\py4j\\protocol.py\u001b[0m in \u001b[0;36mget_return_value\u001b[1;34m(answer, gateway_client, target_id, name)\u001b[0m\n\u001b[0;32m    318\u001b[0m                 raise Py4JJavaError(\n\u001b[0;32m    319\u001b[0m                     \u001b[1;34m\"An error occurred while calling {0}{1}{2}.\\n\"\u001b[0m\u001b[1;33m.\u001b[0m\u001b[1;33m\u001b[0m\u001b[0m\n\u001b[1;32m--> 320\u001b[1;33m                     format(target_id, \".\", name), value)\n\u001b[0m\u001b[0;32m    321\u001b[0m             \u001b[1;32melse\u001b[0m\u001b[1;33m:\u001b[0m\u001b[1;33m\u001b[0m\u001b[0m\n\u001b[0;32m    322\u001b[0m                 raise Py4JError(\n",
      "\u001b[1;31mPy4JJavaError\u001b[0m: An error occurred while calling t.report.\n: java.lang.NullPointerException: No NetLogo HeadlessWorkspace exists for that session id\r\n\tat nl4py.server.NetLogoControllerServer.getControllerFromStore(NetLogoControllerServer.java:141)\r\n\tat nl4py.server.NetLogoControllerServer.report(NetLogoControllerServer.java:124)\r\n\tat sun.reflect.GeneratedMethodAccessor2.invoke(Unknown Source)\r\n\tat sun.reflect.DelegatingMethodAccessorImpl.invoke(Unknown Source)\r\n\tat java.lang.reflect.Method.invoke(Unknown Source)\r\n\tat py4j.reflection.MethodInvoker.invoke(MethodInvoker.java:244)\r\n\tat py4j.reflection.ReflectionEngine.invoke(ReflectionEngine.java:357)\r\n\tat py4j.Gateway.invoke(Gateway.java:282)\r\n\tat py4j.commands.AbstractCommand.invokeMethod(AbstractCommand.java:132)\r\n\tat py4j.commands.CallCommand.execute(CallCommand.java:79)\r\n\tat py4j.GatewayConnection.run(GatewayConnection.java:214)\r\n\tat java.lang.Thread.run(Unknown Source)\r\n"
     ]
    }
   ],
   "source": [
    "for workspace in workspaces:\n",
    "    print(workspace.report(\"ticks\"))"
   ]
  },
  {
   "cell_type": "code",
   "execution_count": 28,
   "metadata": {},
   "outputs": [
    {
     "name": "stdout",
     "output_type": "stream",
     "text": [
      "['map-view', 'harvest-adjustment', 'harvest-variance', 'death-age', 'fertility-ends-age', 'fertility', 'historic-view?']\n",
      "[['zones', 'water sources', 'yield', 'occupancy'], [1.0, 0.01, 1.0], [1.0, 0.01, 1.0], [40.0, 1.0, 40.0], [36.0, 1.0, 36.0], [0.2, 0.001, 0.2], [True, False]]\n"
     ]
    }
   ],
   "source": [
    "n.openModel(\"C:\\\\Program Files\\\\NetLogo 6.0.2\\\\app\\\\models\\\\Sample Models\\\\Social Science\\\\Unverified\\\\Artificial Anasazi.nlogo\")\n",
    "print(n.getParamNames())\n",
    "print(n.getParamRanges())\n",
    "n.closeModel()"
   ]
  },
  {
   "cell_type": "code",
   "execution_count": null,
   "metadata": {
    "collapsed": true
   },
   "outputs": [],
   "source": []
  }
 ],
 "metadata": {
  "kernelspec": {
   "display_name": "Python 3",
   "language": "python",
   "name": "python3"
  },
  "language_info": {
   "codemirror_mode": {
    "name": "ipython",
    "version": 3
   },
   "file_extension": ".py",
   "mimetype": "text/x-python",
   "name": "python",
   "nbconvert_exporter": "python",
   "pygments_lexer": "ipython3",
   "version": "3.6.2"
  }
 },
 "nbformat": 4,
 "nbformat_minor": 2
}
