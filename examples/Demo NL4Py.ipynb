{
 "cells": [
  {
   "cell_type": "markdown",
   "metadata": {},
   "source": [
    "<h1><center>This is a demonstration of NL4Py in Use</center></h1>"
   ]
  },
  {
   "cell_type": "code",
   "execution_count": 1,
   "metadata": {},
   "outputs": [
    {
     "name": "stdout",
     "output_type": "stream",
     "text": [
      "Downloading the NetLogo Controller Server jar file...\n",
      "Downloading the Py4j jar file...\n",
      "Dependencies installed successfully!\n",
      "Starting up server...\n",
      "Shutting down old server instances...\n",
      "Server up and ready!\n"
     ]
    }
   ],
   "source": [
    "#!pip install nl4py\n",
    "import nl4py"
   ]
  },
  {
   "cell_type": "code",
   "execution_count": 2,
   "metadata": {
    "collapsed": true,
    "scrolled": true
   },
   "outputs": [],
   "source": [
    "n = nl4py.NetLogo_HeadlessWorkspace()\n",
    "n.openModel('C:/Program Files/NetLogo 6.0.2/app/models/Sample Models/Earth Science/Fire.nlogo')"
   ]
  },
  {
   "cell_type": "code",
   "execution_count": 2,
   "metadata": {},
   "outputs": [
    {
     "name": "stdout",
     "output_type": "stream",
     "text": [
      "0\n",
      "NetLogo command: set link-chance 63.0\n",
      "NetLogo command: set grid-size 9.0\n",
      "NetLogo command: set diffusion-rate 2.0\n",
      "81.0\n",
      "1\n",
      "NetLogo command: set link-chance 53.0\n",
      "NetLogo command: set grid-size 19.0\n",
      "NetLogo command: set diffusion-rate 72.0\n",
      "81.0\n",
      "2\n",
      "NetLogo command: set link-chance 83.0\n",
      "NetLogo command: set grid-size 15.0\n",
      "NetLogo command: set diffusion-rate 38.0\n",
      "81.0\n",
      "3\n",
      "NetLogo command: set link-chance 39.0\n",
      "NetLogo command: set grid-size 13.0\n",
      "NetLogo command: set diffusion-rate 52.0\n",
      "81.0\n",
      "4\n",
      "NetLogo command: set link-chance 27.0\n",
      "NetLogo command: set grid-size 7.0\n",
      "NetLogo command: set diffusion-rate 47.0\n",
      "81.0\n",
      "5\n",
      "NetLogo command: set link-chance 40.0\n",
      "NetLogo command: set grid-size 13.0\n",
      "NetLogo command: set diffusion-rate 48.0\n",
      "81.0\n",
      "6\n",
      "NetLogo command: set link-chance 33.0\n",
      "NetLogo command: set grid-size 9.0\n",
      "NetLogo command: set diffusion-rate 98.0\n",
      "81.0\n",
      "7\n",
      "NetLogo command: set link-chance 100.0\n",
      "NetLogo command: set grid-size 3.0\n",
      "NetLogo command: set diffusion-rate 61.0\n",
      "81.0\n",
      "8\n",
      "NetLogo command: set link-chance 64.0\n",
      "NetLogo command: set grid-size 13.0\n",
      "NetLogo command: set diffusion-rate 16.0\n",
      "81.0\n",
      "9\n",
      "NetLogo command: set link-chance 40.0\n",
      "NetLogo command: set grid-size 3.0\n",
      "NetLogo command: set diffusion-rate 35.0\n",
      "81.0\n"
     ]
    }
   ],
   "source": [
    "for i in range(0,10):\n",
    "    print(i)\n",
    "    n = nl4py.NetLogo_HeadlessWorkspace()\n",
    "    n.openModel(\"C:\\\\Program Files\\\\NetLogo 6.0.2\\\\app\\\\models\\\\Sample Models\\\\Networks\\\\Diffusion on a Directed Network.nlogo\")\n",
    "    n.command('setup')\n",
    "    n.command('go')\n",
    "    n.setParamsRandom()\n",
    "    print(n.report('count turtles'))\n",
    "    n.closeModel()"
   ]
  },
  {
   "cell_type": "code",
   "execution_count": 3,
   "metadata": {},
   "outputs": [
    {
     "name": "stdout",
     "output_type": "stream",
     "text": [
      "['link-chance', 'grid-size', 'diffusion-rate']\n"
     ]
    }
   ],
   "source": [
    "n = nl4py.NetLogo_HeadlessWorkspace()\n",
    "n.openModel(\"C:\\\\Program Files\\\\NetLogo 6.0.2\\\\app\\\\models\\\\Sample Models\\\\Networks\\\\Diffusion on a Directed Network.nlogo\")\n",
    "print(n.getParamNames())\n",
    "#print(n.getParamSpace().get(1))"
   ]
  },
  {
   "cell_type": "code",
   "execution_count": 4,
   "metadata": {},
   "outputs": [
    {
     "name": "stdout",
     "output_type": "stream",
     "text": [
      "101\n",
      "1.0\n"
     ]
    }
   ],
   "source": [
    "count = n.getParamSpace().getParamSpecs().get(2).choiceCount()\n",
    "print(count)\n",
    "min = n.getParamSpace().getParamSpecs().get(2).getValueFromChoice(0,count)\n",
    "max = n.getParamSpace().getParamSpecs().get(2).getValueFromChoice(count - 1,count)\n",
    "print((max - min)/ (count - 1))"
   ]
  },
  {
   "cell_type": "code",
   "execution_count": 4,
   "metadata": {},
   "outputs": [
    {
     "name": "stdout",
     "output_type": "stream",
     "text": [
      "['map-view', 'harvest-adjustment', 'harvest-variance', 'death-age', 'fertility-ends-age', 'fertility', 'historic-view?']\n",
      "[['zones', 'water sources', 'yield', 'occupancy'], [1.0, 0.01, 1.0], [1.0, 0.01, 1.0], [40.0, 1.0, 40.0], [36.0, 1.0, 36.0], [0.2, 0.001, 0.2], [True, False]]\n"
     ]
    }
   ],
   "source": [
    "n.openModel(\"C:\\\\Program Files\\\\NetLogo 6.0.2\\\\app\\\\models\\\\Sample Models\\\\Social Science\\\\Unverified\\\\Artificial Anasazi.nlogo\")\n",
    "print(n.getParamNames())\n",
    "print(n.getParamRanges())\n",
    "n.closeModel()"
   ]
  },
  {
   "cell_type": "code",
   "execution_count": null,
   "metadata": {
    "collapsed": true
   },
   "outputs": [],
   "source": []
  }
 ],
 "metadata": {
  "kernelspec": {
   "display_name": "Python 3",
   "language": "python",
   "name": "python3"
  },
  "language_info": {
   "codemirror_mode": {
    "name": "ipython",
    "version": 3
   },
   "file_extension": ".py",
   "mimetype": "text/x-python",
   "name": "python",
   "nbconvert_exporter": "python",
   "pygments_lexer": "ipython3",
   "version": "3.6.2"
  }
 },
 "nbformat": 4,
 "nbformat_minor": 2
}
