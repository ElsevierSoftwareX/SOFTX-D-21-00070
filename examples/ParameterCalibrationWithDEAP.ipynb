{
 "cells": [
  {
   "cell_type": "markdown",
   "metadata": {},
   "source": [
    "# NetLogo calibration with NL4Py and DEAP"
   ]
  },
  {
   "cell_type": "markdown",
   "metadata": {},
   "source": [
    "In this example we use the DEAP library in combination with NL4Py to calibrate the Wolf Sheep Predation model using a simple evolutionary algorithm provided by DEAP. Additionally, both DEAP and NL4Py are parallelized, with DEAP EA individuals executing on a thread pool using multiprocessing library and NL4Py NetLogo HeadlessWorkspaces running on Java threads on the NetLogoControllerServer.\n",
    "\n",
    "In this experiment, we calibrate the model to find the best parameter configuration able to produce a near-equilibrium state over the first 1000 simulation ticks of the Wolf Sheep Predation model. In other words, the parameters that cause the populations of both wolves and sheep to vary as little as possilbe over the simulation run. "
   ]
  },
  {
   "cell_type": "code",
   "execution_count": 1,
   "metadata": {},
   "outputs": [],
   "source": [
    "#!pip install --upgrade --no-cache-dir nl4py\n",
    "\n",
    "import random\n",
    "import sys\n",
    "import time\n",
    "import os\n",
    "import pandas as pd\n",
    "import numpy as np\n",
    "import multiprocessing\n",
    "import matplotlib.pyplot as plt\n",
    "\n",
    "from deap import base, creator, tools, algorithms\n",
    "\n",
    "import nl4py\n",
    "\n",
    "netlogo_path = \"C:/Program Files/NetLogo 6.0.4/\"\n",
    "model_path = \"Models/Wolf Sheep Predation.nlogo\"\n",
    "nl4py.initialize(netlogo_path)"
   ]
  },
  {
   "cell_type": "markdown",
   "metadata": {},
   "source": [
    "We will define what a genome of the GA used for calibration is by using NL4Py to read the parameter names and ranges and register this information into a DEAP toolbox."
   ]
  },
  {
   "cell_type": "code",
   "execution_count": 2,
   "metadata": {},
   "outputs": [
    {
     "name": "stdout",
     "output_type": "stream",
     "text": [
      "Search Space: \n",
      "initialnumbersheep \t\t\t\t min: 0.0 max: 250.0 step: 1.0\n",
      "Search Space: \n",
      "sheepgainfromfood \t\t\t\t min: 0.0 max: 50.0 step: 1.0\n",
      "Search Space: \n",
      "sheepreproduce \t\t\t\t min: 1.0 max: 20.0 step: 1.0\n",
      "Search Space: \n",
      "initialnumberwolves \t\t\t\t min: 0.0 max: 250.0 step: 1.0\n",
      "Search Space: \n",
      "wolfgainfromfood \t\t\t\t min: 0.0 max: 100.0 step: 1.0\n",
      "Search Space: \n",
      "wolfreproduce \t\t\t\t min: 0.0 max: 20.0 step: 1.0\n",
      "Search Space: \n",
      "grassregrowthtime \t\t\t\t min: 0.0 max: 100.0 step: 1.0\n"
     ]
    }
   ],
   "source": [
    "# In this experiment we intend to maximize fitness. Fitness is the measure of population stability, \n",
    "# an indicator of equilibrium in the Wolf Sheep Predation model.\n",
    "creator.create(\"FitnessMax\", base.Fitness, weights=(1.0,))\n",
    "# An EA Individual is essentially a list of paramter values for our calibration purposes. Through \n",
    "# calibration, we intend to find the Individual that produces the highest fitness, or the most\n",
    "# stable population dynamics.\n",
    "creator.create(\"Individual\", list, fitness=creator.FitnessMax)\n",
    "toolbox = base.Toolbox()\n",
    "# Use nl4py to find the parameter names and ranges\n",
    "# Create a HeadlessWorkspace to read in the parameter names and ranges.\n",
    "n = nl4py.create_headless_workspace()\n",
    "# Open the model\n",
    "model_path = \"Wolf Sheep Predation.nlogo\"\n",
    "n.open_model(model_path)\n",
    "# Get the parameter names and ranges.\n",
    "parameter_names = n.get_param_names()\n",
    "parameterRanges = n.get_param_ranges()\n",
    "parameterInitializers = []\n",
    "# Iterate over the names and ranges and create DEAP initializers for all the parameters of the model\n",
    "for parameterName, parameterRange in zip(parameter_names, parameterRanges):\n",
    "    parameterName = ''.join(filter(str.isalnum, str(parameterName)))\n",
    "    if len(parameterRange) == 3:\n",
    "        if __name__==\"__main__\":\n",
    "            print(\"Search Space: \")\n",
    "            print(f'{parameterName} \\t\\t\\t\\t min: {str(parameterRange[0])} max: {str(parameterRange[2])} step: {str(parameterRange[1])}')\n",
    "        toolbox.register(parameterName, random.randrange, parameterRange[0], parameterRange[2], \n",
    "            parameterRange[1])\n",
    "        parameterInitializers.append(eval(\"toolbox.\"+str(parameterName)))\n",
    "\n",
    "# Define the EA \"individual\" function in the DEAP toolbox which creates an Individual with a list of \n",
    "# parameters within the range specified by the NetLogo model interface.\n",
    "toolbox.register(\"individual\", tools.initCycle, creator.Individual, tuple(parameterInitializers))\n",
    "# Define the \"population\" function in the DEAP toolbox\n",
    "toolbox.register(\"population\", tools.initRepeat, list, toolbox.individual)\n",
    "# Define hyperparameters of the evolutionary algorithm\n",
    "toolbox.register(\"mate\", tools.cxTwoPoint)\n",
    "lowerBounds = [row[1] for row in parameterRanges[:-2]]\n",
    "upperBounds = [row[2] for row in parameterRanges[:-2]]\n",
    "toolbox.register(\"mutate\", tools.mutUniformInt, low = lowerBounds, up = upperBounds, indpb=0.1)\n",
    "toolbox.register(\"select\", tools.selTournament, tournsize=3)\n"
   ]
  },
  {
   "cell_type": "markdown",
   "metadata": {},
   "source": [
    "Next, we define a simulation run. This involves:\n",
    "1. starting a NetLogoHeadlessWorkspace through NL4Py, \n",
    "2. opening the Wolf Sheep Predation model, \n",
    "3. setting the parameters to the values of the EA individual, \n",
    "4. running the simulation\n",
    "5. calculating the metric \n",
    "We setup Headless Workspaces for each EA individual. The HeadlessWorkspaces are reusable per population and are tracked as to when they are free to run another model evaluation"
   ]
  },
  {
   "cell_type": "code",
   "execution_count": 3,
   "metadata": {},
   "outputs": [],
   "source": [
    "free_workspaces = []\n",
    "for i in range(0,multiprocessing.cpu_count()):\n",
    "    n = nl4py.create_headless_workspace()\n",
    "    n.open_model('Wolf Sheep Predation.nlogo')\n",
    "    free_workspaces.append(n)\n",
    "\n",
    "def evaluate_wolf_sheep_predation(individual):\n",
    "    '''\n",
    "    The EA individual evaluation is defined as a simulation run of the model for the parameter values \n",
    "    specified and reports the total stability metric of the population.\n",
    "    \n",
    "    '''\n",
    "    workspace = free_workspaces[0]\n",
    "    free_workspaces.remove(workspace)\n",
    "    for name, value in zip(parameter_names, individual):\n",
    "        cmd = 'set {0} {1}'.format(name, value)\n",
    "        workspace.command(cmd)\n",
    "    workspace.command('set model-version \"sheep-wolves-grass\"')\n",
    "    workspace.command('setup')\n",
    "    simulation_results = workspace.schedule_reporters([\"ticks\",'count sheep','count wolves'], 0,1,500,\"go\") \n",
    "    free_workspaces.append(workspace)\n",
    "    aggregate_metric = calculate_population_stability(simulation_results)\n",
    "    return aggregate_metric,\n",
    "\n",
    "toolbox.register(\"evaluate\", evaluate_wolf_sheep_predation)"
   ]
  },
  {
   "cell_type": "markdown",
   "metadata": {},
   "source": [
    "We define the metric as the stability of the population counts of the two species, without either going into extinction. for this we use first order derivatives per simulation time step and a heavy side function to score extinction as 0. High scores indicate more stable populations (closer to complete equilibrium). Please see the Sensitivity analysis Jupyter notebook for a mode detailed description of this calculation."
   ]
  },
  {
   "cell_type": "code",
   "execution_count": 4,
   "metadata": {},
   "outputs": [],
   "source": [
    "def calculate_population_stability(simulation_results):\n",
    "    df = pd.DataFrame(simulation_results)\n",
    "    sheep_pop = pd.to_numeric(df.iloc[:,1])\n",
    "    wolves_pop = pd.to_numeric(df.iloc[:,2])\n",
    "    #since time is in simulation ticks, this is the absolute rate of change of sheep population.\n",
    "    dsheep_dt = sheep_pop.diff().abs()\n",
    "    #since time is in simulation ticks, this is the absolute rate of change of wolf population.\n",
    "    dwolves_dt = wolves_pop.diff().abs()   \n",
    "    #Find population stabilities over time for species as reciprocal of derivatives multiplied by\n",
    "    # a heavyside function ensuring extinction is scored at 0.\n",
    "    epsilon = 0.000001\n",
    "    population_stability_sheep = np.divide(1,(dsheep_dt + epsilon)).mul(np.where(sheep_pop==0,0,1))\n",
    "    population_stability_wolves = np.divide(1,(dwolves_dt + epsilon)).mul(np.where(wolves_pop==0,0,1))\n",
    "    #Find total population stability over time as the mean of population stabilities for both species.\n",
    "    population_stability_total = (population_stability_sheep + population_stability_wolves) / 2\n",
    "    #the aggregate metric is the mean, total population stability over time\n",
    "    aggregate_metric = population_stability_total.sum()/len(population_stability_total)\n",
    "    return aggregate_metric\n"
   ]
  },
  {
   "cell_type": "markdown",
   "metadata": {},
   "source": [
    "We now define the statistics we are interested in tracking and run the EA with custom hyperparameters."
   ]
  },
  {
   "cell_type": "code",
   "execution_count": 5,
   "metadata": {},
   "outputs": [],
   "source": [
    "stats = tools.Statistics(key = lambda ind: ind.fitness.values)\n",
    "stats.register(\"max\",np.max)\n",
    "stats.register(\"mean\",np.mean)\n",
    "hof = tools.HallOfFame(1)\n",
    "POP = 50"
   ]
  },
  {
   "cell_type": "code",
   "execution_count": 6,
   "metadata": {},
   "outputs": [
    {
     "name": "stdout",
     "output_type": "stream",
     "text": [
      "gen\tnevals\tmax   \tmean   \n",
      "0  \t50    \t651000\t84760.1\n",
      "1  \t45    \t516000\t137180 \n",
      "2  \t45    \t628000\t167640 \n",
      "3  \t38    \t628000\t277300 \n",
      "4  \t43    \t588000\t369960 \n",
      "5  \t39    \t629000\t443640 \n",
      "6  \t43    \t612000\t490780 \n",
      "7  \t40    \t678000\t486600 \n",
      "8  \t46    \t740000\t538800 \n",
      "9  \t38    \t740000\t576580 \n",
      "10 \t42    \t814000\t637580 \n",
      "11 \t37    \t789000\t630200 \n",
      "12 \t44    \t787000\t650780 \n",
      "13 \t35    \t821000\t690020 \n",
      "14 \t42    \t829000\t728260 \n",
      "15 \t45    \t817000\t727140 \n",
      "16 \t44    \t827000\t719000 \n",
      "17 \t41    \t827000\t739840 \n",
      "18 \t43    \t820000\t728800 \n",
      "19 \t49    \t827000\t707960 \n",
      "20 \t40    \t827000\t725980 \n",
      "21 \t46    \t815000\t750920 \n",
      "22 \t47    \t825000\t684740 \n",
      "23 \t39    \t823000\t742820 \n",
      "24 \t41    \t818000\t709780 \n",
      "25 \t44    \t819000\t740880 \n",
      "26 \t48    \t822000\t730240 \n",
      "27 \t41    \t819000\t712640 \n",
      "28 \t43    \t813000\t724720 \n",
      "29 \t42    \t827000\t714360 \n",
      "30 \t44    \t823000\t739060 \n",
      "31 \t38    \t823000\t735960 \n",
      "32 \t38    \t823000\t741660 \n",
      "33 \t46    \t823000\t727120 \n",
      "34 \t43    \t822000\t719620 \n",
      "35 \t43    \t823000\t735540 \n",
      "36 \t38    \t819000\t740680 \n",
      "37 \t44    \t819000\t709860 \n",
      "38 \t42    \t819000\t732140 \n",
      "39 \t32    \t820000\t718820 \n",
      "40 \t42    \t823000\t746940 \n",
      "41 \t38    \t823000\t701320 \n",
      "42 \t37    \t837000\t730900 \n",
      "43 \t44    \t837000\t737000 \n",
      "44 \t39    \t837000\t727880 \n",
      "45 \t45    \t825000\t745380 \n",
      "46 \t43    \t815000\t737080 \n",
      "47 \t38    \t808000\t693640 \n",
      "48 \t50    \t816000\t745740 \n",
      "49 \t38    \t825000\t683400 \n",
      "50 \t46    \t817000\t747920 \n",
      "51 \t40    \t817000\t730600 \n",
      "52 \t41    \t824000\t748000 \n",
      "53 \t38    \t824000\t703540 \n",
      "54 \t49    \t821000\t704500 \n",
      "55 \t43    \t821000\t728860 \n",
      "56 \t41    \t821000\t704340 \n",
      "57 \t44    \t819000\t739820 \n",
      "58 \t46    \t819000\t718560 \n",
      "59 \t41    \t828000\t744380 \n",
      "60 \t41    \t828000\t725940 \n",
      "61 \t48    \t815000\t728860 \n",
      "62 \t46    \t829000\t724780 \n",
      "63 \t36    \t829000\t715180 \n",
      "64 \t42    \t832000\t728600 \n",
      "65 \t39    \t829000\t738340 \n",
      "66 \t37    \t825000\t752680 \n",
      "67 \t47    \t815000\t708940 \n",
      "68 \t41    \t817000\t697380 \n",
      "69 \t43    \t812000\t737600 \n",
      "70 \t45    \t833000\t714260 \n",
      "71 \t41    \t833000\t728840 \n",
      "72 \t36    \t833000\t741220 \n",
      "73 \t39    \t833000\t722380 \n",
      "74 \t49    \t824000\t725240 \n",
      "75 \t39    \t824000\t749000 \n",
      "76 \t42    \t824000\t710840 \n",
      "77 \t45    \t831000\t732500 \n",
      "78 \t34    \t831000\t745440 \n",
      "79 \t40    \t831000\t731440 \n",
      "80 \t38    \t831000\t733280 \n",
      "81 \t41    \t833000\t768440 \n",
      "82 \t41    \t833000\t740460 \n",
      "83 \t46    \t832000\t718140 \n",
      "84 \t44    \t821000\t708400 \n",
      "85 \t43    \t816000\t719460 \n",
      "86 \t42    \t823000\t712860 \n",
      "87 \t41    \t816000\t696300 \n",
      "88 \t42    \t824000\t712800 \n",
      "89 \t43    \t824000\t696680 \n",
      "90 \t45    \t832000\t745680 \n",
      "91 \t39    \t823000\t744880 \n",
      "92 \t38    \t843000\t742080 \n",
      "93 \t44    \t823000\t713220 \n",
      "94 \t40    \t823000\t721800 \n",
      "95 \t37    \t841000\t740300 \n",
      "96 \t44    \t841000\t762400 \n",
      "97 \t39    \t841000\t720940 \n",
      "98 \t35    \t841000\t750560 \n",
      "99 \t34    \t841000\t711640 \n",
      "100\t48    \t821000\t705880 \n",
      "The best individual over the complete calibration:\n",
      "['initial-number-sheep', 'sheep-gain-from-food', 'sheep-reproduce', 'initial-number-wolves', 'wolf-gain-from-food', 'wolf-reproduce', 'grass-regrowth-time', 'show-energy?', 'model-version']\n",
      "[[122, 32, 1, 101, 79, 0, 12]]\n"
     ]
    }
   ],
   "source": [
    "import multiprocessing\n",
    "from multiprocessing.pool import ThreadPool\n",
    "pool = ThreadPool(multiprocessing.cpu_count())\n",
    "toolbox.register(\"map\", pool.map)\n",
    "final_pop, log= algorithms.eaSimple(toolbox.population(n=POP), toolbox, cxpb=0.8, mutpb=0.2, \n",
    "            ngen=100,stats = stats,halloffame = hof)\n",
    "\n",
    "print(\"The best individual over the complete calibration:\")\n",
    "print(parameter_names)\n",
    "print(hof)"
   ]
  },
  {
   "cell_type": "markdown",
   "metadata": {},
   "source": [
    "We can now run and visualize the results..."
   ]
  },
  {
   "cell_type": "code",
   "execution_count": 7,
   "metadata": {},
   "outputs": [],
   "source": [
    "'''\n",
    "And plot the convergence progress by the EA\n",
    "'''\n",
    "app = nl4py.netlogo_app()\n",
    "app.open_model(model_path)\n",
    "for name, value in zip(parameter_names, hof[0]):\n",
    "    app.command('set {0} {1}'.format(name, value))\n",
    "app.command(\"setup\")\n",
    "app.command(\"repeat 1000 [ if (count turtles < 10000) [go] ]\")"
   ]
  },
  {
   "cell_type": "code",
   "execution_count": 8,
   "metadata": {},
   "outputs": [
    {
     "data": {
      "text/plain": [
       "Text(0, 0.5, 'Fitness')"
      ]
     },
     "execution_count": 8,
     "metadata": {},
     "output_type": "execute_result"
    },
    {
     "data": {
      "image/png": "[encoded data removed]",
      "text/plain": [
       "<Figure size 432x288 with 1 Axes>"
      ]
     },
     "metadata": {
      "needs_background": "light"
     },
     "output_type": "display_data"
    }
   ],
   "source": [
    "convergence_progress = pd.DataFrame(log)[['max','mean']]\n",
    "plot = convergence_progress.plot(legend=True)\n",
    "plt.xlabel(\"Generation\", size = 14)\n",
    "plt.ylabel(\"Fitness\", size = 14)"
   ]
  },
  {
   "cell_type": "code",
   "execution_count": null,
   "metadata": {},
   "outputs": [],
   "source": []
  }
 ],
 "metadata": {
  "kernelspec": {
   "display_name": "Python 3",
   "language": "python",
   "name": "python3"
  },
  "language_info": {
   "codemirror_mode": {
    "name": "ipython",
    "version": 3
   },
   "file_extension": ".py",
   "mimetype": "text/x-python",
   "name": "python",
   "nbconvert_exporter": "python",
   "pygments_lexer": "ipython3",
   "version": "3.8.0"
  }
 },
 "nbformat": 4,
 "nbformat_minor": 2
}
