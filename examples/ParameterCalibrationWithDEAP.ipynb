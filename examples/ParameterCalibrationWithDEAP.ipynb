{
 "cells": [
  {
   "cell_type": "markdown",
   "metadata": {},
   "source": [
    "# NetLogo calibration with NL4Py and DEAP"
   ]
  },
  {
   "cell_type": "markdown",
   "metadata": {},
   "source": [
    "In this example we use the DEAP library in combination with NL4Py to calibrate the Wolf Sheep Predation model using a simple evolutionary algorithm provided by DEAP. Additionally, both DEAP and NL4Py are parallelized, with DEAP EA individuals executing on a thread pool using multiprocessing library and NL4Py NetLogo HeadlessWorkspaces running on Java threads on the NetLogoControllerServer.\n",
    "\n",
    "In this experiment, we calibrate the model to find the best parameter configuration able to produce a near-equilibrium state over the first 1000 simulation ticks of the Wolf Sheep Predation model. In other words, the parameters that cause the populations of both wolves and sheep to vary as little as possilbe over the simulation run. "
   ]
  },
  {
   "cell_type": "code",
   "execution_count": 1,
   "metadata": {},
   "outputs": [],
   "source": [
    "#!pip install --upgrade --no-cache-dir nl4py\n",
    "\n",
    "import random\n",
    "import sys\n",
    "import time\n",
    "import os\n",
    "import pandas as pd\n",
    "import numpy as np\n",
    "import multiprocessing\n",
    "import matplotlib.pyplot as plt\n",
    "\n",
    "from deap import base, creator, tools, algorithms\n",
    "\n",
    "import nl4py\n",
    "\n",
    "netlogo_path = \"C:/Program Files/NetLogo 6.0.4/\"\n",
    "model_path = \"Models/Wolf Sheep Predation.nlogo\"\n",
    "nl4py.initialize(netlogo_path)"
   ]
  },
  {
   "cell_type": "markdown",
   "metadata": {},
   "source": [
    "We will define what a genome of the GA used for calibration is by using NL4Py to read the parameter names and ranges and register this information into a DEAP toolbox."
   ]
  },
  {
   "cell_type": "code",
   "execution_count": 2,
   "metadata": {},
   "outputs": [
    {
     "name": "stdout",
     "output_type": "stream",
     "text": [
      "Search Space: \n",
      "initialnumbersheep \t\t\t\t min: 0.0 max: 250.0 step: 1.0\n",
      "Search Space: \n",
      "sheepgainfromfood \t\t\t\t min: 0.0 max: 50.0 step: 1.0\n",
      "Search Space: \n",
      "sheepreproduce \t\t\t\t min: 1.0 max: 20.0 step: 1.0\n",
      "Search Space: \n",
      "initialnumberwolves \t\t\t\t min: 0.0 max: 250.0 step: 1.0\n",
      "Search Space: \n",
      "wolfgainfromfood \t\t\t\t min: 0.0 max: 100.0 step: 1.0\n",
      "Search Space: \n",
      "wolfreproduce \t\t\t\t min: 0.0 max: 20.0 step: 1.0\n",
      "Search Space: \n",
      "grassregrowthtime \t\t\t\t min: 0.0 max: 100.0 step: 1.0\n"
     ]
    }
   ],
   "source": [
    "# In this experiment we intend to maximize fitness. Fitness is the measure of population stability, \n",
    "# an indicator of equilibrium in the Wolf Sheep Predation model.\n",
    "creator.create(\"FitnessMax\", base.Fitness, weights=(1.0,))\n",
    "# An EA Individual is essentially a list of paramter values for our calibration purposes. Through \n",
    "# calibration, we intend to find the Individual that produces the highest fitness, or the most\n",
    "# stable population dynamics.\n",
    "creator.create(\"Individual\", list, fitness=creator.FitnessMax)\n",
    "toolbox = base.Toolbox()\n",
    "# Use nl4py to find the parameter names and ranges\n",
    "# Create a HeadlessWorkspace to read in the parameter names and ranges.\n",
    "n = nl4py.create_headless_workspace()\n",
    "# Open the model\n",
    "model_path = \"Wolf Sheep Predation.nlogo\"\n",
    "n.open_model(model_path)\n",
    "# Get the parameter names and ranges.\n",
    "parameter_names = n.get_param_names()\n",
    "parameterRanges = n.get_param_ranges()\n",
    "parameterInitializers = []\n",
    "# Iterate over the names and ranges and create DEAP initializers for all the parameters of the model\n",
    "for parameterName, parameterRange in zip(parameter_names, parameterRanges):\n",
    "    parameterName = ''.join(filter(str.isalnum, str(parameterName)))\n",
    "    if len(parameterRange) == 3:\n",
    "        if __name__==\"__main__\":\n",
    "            print(\"Search Space: \")\n",
    "            print(f'{parameterName} \\t\\t\\t\\t min: {str(parameterRange[0])} max: {str(parameterRange[2])} step: {str(parameterRange[1])}')\n",
    "        toolbox.register(parameterName, random.randrange, parameterRange[0], parameterRange[2], \n",
    "            parameterRange[1])\n",
    "        parameterInitializers.append(eval(\"toolbox.\"+str(parameterName)))\n",
    "\n",
    "# Define the EA \"individual\" function in the DEAP toolbox which creates an Individual with a list of \n",
    "# parameters within the range specified by the NetLogo model interface.\n",
    "toolbox.register(\"individual\", tools.initCycle, creator.Individual, tuple(parameterInitializers))\n",
    "# Define the \"population\" function in the DEAP toolbox\n",
    "toolbox.register(\"population\", tools.initRepeat, list, toolbox.individual)\n",
    "# Define hyperparameters of the evolutionary algorithm\n",
    "toolbox.register(\"mate\", tools.cxTwoPoint)\n",
    "lowerBounds = [row[1] for row in parameterRanges[:-2]]\n",
    "upperBounds = [row[2] for row in parameterRanges[:-2]]\n",
    "toolbox.register(\"mutate\", tools.mutUniformInt, low = lowerBounds, up = upperBounds, indpb=0.1)\n",
    "toolbox.register(\"select\", tools.selTournament, tournsize=3)\n"
   ]
  },
  {
   "cell_type": "markdown",
   "metadata": {},
   "source": [
    "Next, we define a simulation run. This involves:\n",
    "1. starting a NetLogoHeadlessWorkspace through NL4Py, \n",
    "2. opening the Wolf Sheep Predation model, \n",
    "3. setting the parameters to the values of the EA individual, \n",
    "4. running the simulation\n",
    "5. calculating the metric \n",
    "We setup Headless Workspaces for each EA individual. The HeadlessWorkspaces are reusable per population and are tracked as to when they are free to run another model evaluation"
   ]
  },
  {
   "cell_type": "code",
   "execution_count": 3,
   "metadata": {},
   "outputs": [
    {
     "name": "stderr",
     "output_type": "stream",
     "text": [
      "<ipython-input-3-5e5cc30d268d>:4: DeprecationWarning: Call to deprecated function openModel (Alias left for backward compatibility. Use open_model() since version 1.0.0.).\n",
      "  n.openModel('Wolf Sheep Predation.nlogo')\n",
      "<ipython-input-3-5e5cc30d268d>:4: DeprecationWarning: Call to deprecated function openModel (Alias left for backward compatibility. Use open_model() since version 1.0.0.).\n",
      "  n.openModel('Wolf Sheep Predation.nlogo')\n",
      "<ipython-input-3-5e5cc30d268d>:4: DeprecationWarning: Call to deprecated function openModel (Alias left for backward compatibility. Use open_model() since version 1.0.0.).\n",
      "  n.openModel('Wolf Sheep Predation.nlogo')\n",
      "<ipython-input-3-5e5cc30d268d>:4: DeprecationWarning: Call to deprecated function openModel (Alias left for backward compatibility. Use open_model() since version 1.0.0.).\n",
      "  n.openModel('Wolf Sheep Predation.nlogo')\n",
      "<ipython-input-3-5e5cc30d268d>:4: DeprecationWarning: Call to deprecated function openModel (Alias left for backward compatibility. Use open_model() since version 1.0.0.).\n",
      "  n.openModel('Wolf Sheep Predation.nlogo')\n",
      "<ipython-input-3-5e5cc30d268d>:4: DeprecationWarning: Call to deprecated function openModel (Alias left for backward compatibility. Use open_model() since version 1.0.0.).\n",
      "  n.openModel('Wolf Sheep Predation.nlogo')\n",
      "<ipython-input-3-5e5cc30d268d>:4: DeprecationWarning: Call to deprecated function openModel (Alias left for backward compatibility. Use open_model() since version 1.0.0.).\n",
      "  n.openModel('Wolf Sheep Predation.nlogo')\n",
      "<ipython-input-3-5e5cc30d268d>:4: DeprecationWarning: Call to deprecated function openModel (Alias left for backward compatibility. Use open_model() since version 1.0.0.).\n",
      "  n.openModel('Wolf Sheep Predation.nlogo')\n",
      "<ipython-input-3-5e5cc30d268d>:4: DeprecationWarning: Call to deprecated function openModel (Alias left for backward compatibility. Use open_model() since version 1.0.0.).\n",
      "  n.openModel('Wolf Sheep Predation.nlogo')\n",
      "<ipython-input-3-5e5cc30d268d>:4: DeprecationWarning: Call to deprecated function openModel (Alias left for backward compatibility. Use open_model() since version 1.0.0.).\n",
      "  n.openModel('Wolf Sheep Predation.nlogo')\n",
      "<ipython-input-3-5e5cc30d268d>:4: DeprecationWarning: Call to deprecated function openModel (Alias left for backward compatibility. Use open_model() since version 1.0.0.).\n",
      "  n.openModel('Wolf Sheep Predation.nlogo')\n",
      "<ipython-input-3-5e5cc30d268d>:4: DeprecationWarning: Call to deprecated function openModel (Alias left for backward compatibility. Use open_model() since version 1.0.0.).\n",
      "  n.openModel('Wolf Sheep Predation.nlogo')\n"
     ]
    }
   ],
   "source": [
    "free_workspaces = []\n",
    "for i in range(0,multiprocessing.cpu_count()):\n",
    "    n = nl4py.create_headless_workspace()\n",
    "    n.openModel('Wolf Sheep Predation.nlogo')\n",
    "    free_workspaces.append(n)\n",
    "\n",
    "def evaluate_wolf_sheep_predation(individual):\n",
    "    '''\n",
    "    The EA individual evaluation is defined as a simulation run of the model for the parameter values \n",
    "    specified and reports the total stability metric of the population.\n",
    "    \n",
    "    '''\n",
    "    workspace = free_workspaces[0]\n",
    "    free_workspaces.remove(workspace)\n",
    "    for name, value in zip(parameter_names, individual):\n",
    "        cmd = 'set {0} {1}'.format(name, value)\n",
    "        workspace.command(cmd)\n",
    "    workspace.command('set model-version \"sheep-wolves-grass\"')\n",
    "    workspace.command('setup')\n",
    "    simulation_results = workspace.schedule_reporters([\"ticks\",'count sheep','count wolves'], 0,1,500,\"go\") \n",
    "    free_workspaces.append(workspace)\n",
    "    aggregate_metric = calculate_population_stability(simulation_results)\n",
    "    return aggregate_metric,\n",
    "\n",
    "toolbox.register(\"evaluate\", evaluate_wolf_sheep_predation)"
   ]
  },
  {
   "cell_type": "markdown",
   "metadata": {},
   "source": [
    "We define the metric as the stability of the population counts of the two species, without either going into extinction. for this we use first order derivatives per simulation time step and a heavy side function to score extinction as 0. High scores indicate more stable populations (closer to complete equilibrium). Please see the Sensitivity analysis Jupyter notebook for a mode detailed description of this calculation."
   ]
  },
  {
   "cell_type": "code",
   "execution_count": 4,
   "metadata": {},
   "outputs": [
    {
     "name": "stderr",
     "output_type": "stream",
     "text": [
      "c:\\users\\chath\\anaconda3\\envs\\emd\\lib\\site-packages\\ipykernel\\ipkernel.py:287: DeprecationWarning: `should_run_async` will not call `transform_cell` automatically in the future. Please pass the result to `transformed_cell` argument and any exception that happen during thetransform in `preprocessing_exc_tuple` in IPython 7.17 and above.\n",
      "  and should_run_async(code)\n"
     ]
    }
   ],
   "source": [
    "def calculate_population_stability(simulation_results):\n",
    "    df = pd.DataFrame(simulation_results)\n",
    "    sheep_pop = pd.to_numeric(df.iloc[:,1])\n",
    "    wolves_pop = pd.to_numeric(df.iloc[:,2])\n",
    "    #since time is in simulation ticks, this is the absolute rate of change of sheep population.\n",
    "    dsheep_dt = sheep_pop.diff().abs()\n",
    "    #since time is in simulation ticks, this is the absolute rate of change of wolf population.\n",
    "    dwolves_dt = wolves_pop.diff().abs()   \n",
    "    #Find population stabilities over time for species as reciprocal of derivatives multiplied by\n",
    "    # a heavyside function ensuring extinction is scored at 0.\n",
    "    epsilon = 0.000001\n",
    "    population_stability_sheep = np.divide(1,(dsheep_dt + epsilon)).mul(np.where(sheep_pop==0,0,1))\n",
    "    population_stability_wolves = np.divide(1,(dwolves_dt + epsilon)).mul(np.where(wolves_pop==0,0,1))\n",
    "    #Find total population stability over time as the mean of population stabilities for both species.\n",
    "    population_stability_total = (population_stability_sheep + population_stability_wolves) / 2\n",
    "    #the aggregate metric is the mean, total population stability over time\n",
    "    aggregate_metric = population_stability_total.sum()/len(population_stability_total)\n",
    "    return aggregate_metric\n"
   ]
  },
  {
   "cell_type": "markdown",
   "metadata": {},
   "source": [
    "We now define the statistics we are interested in tracking and run the EA with custom hyperparameters."
   ]
  },
  {
   "cell_type": "code",
   "execution_count": 5,
   "metadata": {},
   "outputs": [],
   "source": [
    "stats = tools.Statistics(key = lambda ind: ind.fitness.values)\n",
    "stats.register(\"max\",np.max)\n",
    "stats.register(\"mean\",np.mean)\n",
    "hof = tools.HallOfFame(1)\n",
    "POP = 50"
   ]
  },
  {
   "cell_type": "code",
   "execution_count": 6,
   "metadata": {},
   "outputs": [
    {
     "name": "stdout",
     "output_type": "stream",
     "text": [
      "gen\tnevals\tmax   \tmean   \n",
      "0  \t50    \t316000\t60460.1\n",
      "1  \t39    \t328000\t90760.1\n",
      "2  \t44    \t527000\t110120 \n",
      "3  \t44    \t483000\t146960 \n",
      "4  \t37    \t573000\t200580 \n",
      "5  \t44    \t517000\t233740 \n",
      "6  \t40    \t618000\t233660 \n",
      "7  \t37    \t618000\t243960 \n",
      "8  \t46    \t556000\t297520 \n",
      "9  \t42    \t582000\t288000 \n",
      "10 \t41    \t580000\t341740 \n",
      "11 \t44    \t593000\t303780 \n",
      "12 \t46    \t599000\t373980 \n",
      "13 \t44    \t597000\t384100 \n",
      "14 \t46    \t613000\t405380 \n",
      "15 \t43    \t663000\t434880 \n",
      "16 \t36    \t662000\t460480 \n",
      "17 \t41    \t662000\t423440 \n",
      "18 \t43    \t633000\t463920 \n",
      "19 \t48    \t633000\t435660 \n",
      "20 \t45    \t615000\t400260 \n",
      "21 \t45    \t621000\t401140 \n",
      "22 \t44    \t658000\t431580 \n",
      "23 \t41    \t628000\t478340 \n",
      "24 \t46    \t655000\t422260 \n",
      "25 \t46    \t655000\t447060 \n",
      "26 \t42    \t612000\t439220 \n",
      "27 \t40    \t622000\t473860 \n",
      "28 \t40    \t655000\t471880 \n",
      "29 \t39    \t683000\t423240 \n",
      "30 \t38    \t683000\t456420 \n",
      "31 \t36    \t683000\t456840 \n",
      "32 \t44    \t683000\t465740 \n",
      "33 \t43    \t683000\t496880 \n",
      "34 \t39    \t683000\t495780 \n",
      "35 \t43    \t652000\t514180 \n",
      "36 \t43    \t652000\t499380 \n",
      "37 \t46    \t639000\t462300 \n",
      "38 \t43    \t633000\t482100 \n",
      "39 \t38    \t633000\t486860 \n",
      "40 \t38    \t654000\t509340 \n",
      "41 \t44    \t626000\t446300 \n",
      "42 \t41    \t626000\t476260 \n",
      "43 \t37    \t622000\t498440 \n",
      "44 \t44    \t626000\t482600 \n",
      "45 \t40    \t622000\t469160 \n",
      "46 \t47    \t635000\t517480 \n",
      "47 \t47    \t635000\t439400 \n",
      "48 \t41    \t623000\t506400 \n",
      "49 \t41    \t617000\t489340 \n",
      "50 \t40    \t626000\t473220 \n",
      "51 \t41    \t626000\t480600 \n",
      "52 \t44    \t668000\t507060 \n",
      "53 \t43    \t642000\t534820 \n",
      "54 \t38    \t644000\t498000 \n",
      "55 \t44    \t644000\t456500 \n",
      "56 \t44    \t649000\t511180 \n",
      "57 \t44    \t649000\t471380 \n",
      "58 \t45    \t654000\t502980 \n",
      "59 \t41    \t654000\t505400 \n",
      "60 \t40    \t640000\t477140 \n",
      "61 \t45    \t657000\t464120 \n",
      "62 \t48    \t659000\t464860 \n",
      "63 \t46    \t666000\t426060 \n",
      "64 \t44    \t652000\t454440 \n",
      "65 \t42    \t654000\t475220 \n",
      "66 \t47    \t671000\t413480 \n",
      "67 \t45    \t661000\t428960 \n",
      "68 \t46    \t651000\t416860 \n",
      "69 \t42    \t657000\t453580 \n",
      "70 \t40    \t657000\t461300 \n",
      "71 \t44    \t662000\t414540 \n",
      "72 \t40    \t658000\t484720 \n",
      "73 \t44    \t671000\t433280 \n",
      "74 \t43    \t678000\t488460 \n",
      "75 \t38    \t678000\t445840 \n",
      "76 \t41    \t666000\t457760 \n",
      "77 \t38    \t677000\t448660 \n",
      "78 \t41    \t660000\t462700 \n",
      "79 \t44    \t649000\t435660 \n",
      "80 \t41    \t650000\t486320 \n",
      "81 \t44    \t649000\t472780 \n",
      "82 \t39    \t659000\t459200 \n",
      "83 \t42    \t655000\t426360 \n",
      "84 \t44    \t655000\t469080 \n",
      "85 \t41    \t658000\t431820 \n",
      "86 \t45    \t670000\t482640 \n",
      "87 \t45    \t661000\t451480 \n",
      "88 \t41    \t661000\t462740 \n",
      "89 \t42    \t660000\t472020 \n",
      "90 \t42    \t660000\t475140 \n",
      "91 \t37    \t660000\t478240 \n",
      "92 \t44    \t660000\t495020 \n",
      "93 \t40    \t669000\t508560 \n",
      "94 \t44    \t660000\t481560 \n",
      "95 \t36    \t722000\t530080 \n",
      "96 \t42    \t750000\t468960 \n",
      "97 \t39    \t726000\t520020 \n",
      "98 \t44    \t729000\t462940 \n",
      "99 \t47    \t765000\t490300 \n",
      "100\t43    \t730000\t505420 \n",
      "The best individual over the complete calibration:\n",
      "['initial-number-sheep', 'sheep-gain-from-food', 'sheep-reproduce', 'initial-number-wolves', 'wolf-gain-from-food', 'wolf-reproduce', 'grass-regrowth-time', 'show-energy?', 'model-version']\n",
      "[[168, 2, 1, 2, 84, 1, 45]]\n"
     ]
    }
   ],
   "source": [
    "import multiprocessing\n",
    "from multiprocessing.pool import ThreadPool\n",
    "pool = ThreadPool(multiprocessing.cpu_count())\n",
    "toolbox.register(\"map\", pool.map)\n",
    "final_pop, log= algorithms.eaSimple(toolbox.population(n=POP), toolbox, cxpb=0.8, mutpb=0.2, \n",
    "            ngen=100,stats = stats,halloffame = hof)\n",
    "\n",
    "print(\"The best individual over the complete calibration:\")\n",
    "print(parameter_names)\n",
    "print(hof)"
   ]
  },
  {
   "cell_type": "markdown",
   "metadata": {},
   "source": [
    "We can now run and visualize the results..."
   ]
  },
  {
   "cell_type": "code",
   "execution_count": 9,
   "metadata": {},
   "outputs": [],
   "source": [
    "'''\n",
    "And plot the convergence progress by the EA\n",
    "'''\n",
    "app = nl4py.netlogo_app()\n",
    "app.open_model(model_path)\n",
    "for name, value in zip(parameter_names, hof[0]):\n",
    "    app.command('set {0} {1}'.format(name, value))\n",
    "app.command(\"setup\")\n",
    "app.command(\"repeat 1000 [ if (count turtles < 10000) [go] ]\")"
   ]
  },
  {
   "cell_type": "code",
   "execution_count": 11,
   "metadata": {},
   "outputs": [
    {
     "name": "stderr",
     "output_type": "stream",
     "text": [
      "c:\\users\\chath\\anaconda3\\envs\\emd\\lib\\site-packages\\ipykernel\\ipkernel.py:287: DeprecationWarning: `should_run_async` will not call `transform_cell` automatically in the future. Please pass the result to `transformed_cell` argument and any exception that happen during thetransform in `preprocessing_exc_tuple` in IPython 7.17 and above.\n",
      "  and should_run_async(code)\n"
     ]
    },
    {
     "data": {
      "text/plain": [
       "Text(0, 0.5, 'Fitness')"
      ]
     },
     "execution_count": 11,
     "metadata": {},
     "output_type": "execute_result"
    },
    {
     "data": {
      "image/png": "[encoded data removed]",
      "text/plain": [
       "<Figure size 432x288 with 1 Axes>"
      ]
     },
     "metadata": {
      "needs_background": "light"
     },
     "output_type": "display_data"
    }
   ],
   "source": [
    "convergence_progress = pd.DataFrame(log)[['max','mean']]\n",
    "plot = convergence_progress.plot(legend=True)\n",
    "plt.xlabel(\"Generation\", size = 14)\n",
    "plt.ylabel(\"Fitness\", size = 14)"
   ]
  },
  {
   "cell_type": "code",
   "execution_count": null,
   "metadata": {},
   "outputs": [],
   "source": []
  }
 ],
 "metadata": {
  "kernelspec": {
   "display_name": "Python 3",
   "language": "python",
   "name": "python3"
  },
  "language_info": {
   "codemirror_mode": {
    "name": "ipython",
    "version": 3
   },
   "file_extension": ".py",
   "mimetype": "text/x-python",
   "name": "python",
   "nbconvert_exporter": "python",
   "pygments_lexer": "ipython3",
   "version": "3.8.0"
  }
 },
 "nbformat": 4,
 "nbformat_minor": 2
}
